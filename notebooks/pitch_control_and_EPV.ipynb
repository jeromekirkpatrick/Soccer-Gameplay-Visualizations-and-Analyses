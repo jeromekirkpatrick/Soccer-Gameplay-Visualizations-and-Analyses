{
 "cells": [
  {
   "cell_type": "markdown",
   "metadata": {},
   "source": [
    "# SOCCER GAMEPLAY VISUALIZATIONS AND ANALYSES\n",
    "\n",
    "### IO\n",
    "* Event and Tracking Data\n",
    "\n",
    "### ANALYSES\n",
    "* Expected Possession Value\n",
    "* Pitch Control\n",
    "* Expected Possession Value added\n",
    "\n",
    "### VISUALIZATIONS\n",
    "* Soccer field plot\n",
    "* Frame of positions of players and ball plot\n",
    "* EPV plot\n",
    "* Pitch Control for frame plot\n",
    "* Pitch Control match clip with EPV added "
   ]
  },
  {
   "cell_type": "code",
   "execution_count": 1,
   "metadata": {},
   "outputs": [],
   "source": [
    "import pandas as pd\n",
    "import numpy as np\n",
    "import matplotlib.pyplot as plt"
   ]
  },
  {
   "cell_type": "code",
   "execution_count": 35,
   "metadata": {},
   "outputs": [],
   "source": [
    "import sys\n",
    "import os"
   ]
  },
  {
   "cell_type": "code",
   "execution_count": 39,
   "metadata": {},
   "outputs": [],
   "source": [
    "module_path = os.path.abspath(os.path.join('..'))+'/source'"
   ]
  },
  {
   "cell_type": "code",
   "execution_count": 40,
   "metadata": {},
   "outputs": [
    {
     "name": "stdout",
     "output_type": "stream",
     "text": [
      "The autoreload extension is already loaded. To reload it, use:\n",
      "  %reload_ext autoreload\n"
     ]
    }
   ],
   "source": [
    "%load_ext autoreload\n",
    "%autoreload 2\n",
    "\n",
    "# Removing redundant Metrica from import names and .py files and m from aliases would simplify things a bit. Too much retracing for the benefit though.\n",
    "import Metrica_IO as mio\n",
    "import Metrica_Viz as mviz\n",
    "import Metrica_Velocities as mvel\n",
    "import Metrica_PitchControl as mpc\n",
    "import Metrica_EPV as mepv"
   ]
  },
  {
   "cell_type": "markdown",
   "metadata": {},
   "source": [
    "# IO - Event and Tracking Data\n",
    "* Event data containing events like `PASS`, `SHOT`, `RECOVERY` with corresponding frames.\n",
    "* Tracking data containing positions of each player and the ball. 25 frames/sec.\n"
   ]
  },
  {
   "cell_type": "markdown",
   "metadata": {},
   "source": [
    "### Load Event Data into Pandas"
   ]
  },
  {
   "cell_type": "code",
   "execution_count": 41,
   "metadata": {},
   "outputs": [],
   "source": [
    "# set up initial path to data\n",
    "# DATADIR = '/Users/jeromekirkpatrick/Desktop/galvanize/sample-data/data'\n",
    "DATADIR = '/Users/jeromekirkpatrick/Desktop/github/soccer-gameplay-visualizations-and-analyses/data'\n",
    "game_id = 2 # let's look at sample match 2"
   ]
  },
  {
   "cell_type": "code",
   "execution_count": 42,
   "metadata": {},
   "outputs": [],
   "source": [
    "# read in the event data\n",
    "events = mio.read_event_data(DATADIR,game_id)"
   ]
  },
  {
   "cell_type": "markdown",
   "metadata": {},
   "source": [
    "### Types and Subtypes of Events"
   ]
  },
  {
   "cell_type": "code",
   "execution_count": 43,
   "metadata": {},
   "outputs": [
    {
     "data": {
      "text/plain": [
       "PASS              964\n",
       "CHALLENGE         311\n",
       "RECOVERY          248\n",
       "BALL LOST         233\n",
       "SET PIECE          80\n",
       "BALL OUT           49\n",
       "SHOT               24\n",
       "FAULT RECEIVED     20\n",
       "CARD                6\n",
       "Name: Type, dtype: int64"
      ]
     },
     "execution_count": 43,
     "metadata": {},
     "output_type": "execute_result"
    }
   ],
   "source": [
    "events['Type'].value_counts()"
   ]
  },
  {
   "cell_type": "code",
   "execution_count": 44,
   "metadata": {},
   "outputs": [
    {
     "data": {
      "text/plain": [
       "HEAD                           27\n",
       "GOAL KICK                      12\n",
       "CROSS                           7\n",
       "HEAD-INTERCEPTION-CLEARANCE     1\n",
       "DEEP BALL                       1\n",
       "Name: Subtype, dtype: int64"
      ]
     },
     "execution_count": 44,
     "metadata": {},
     "output_type": "execute_result"
    }
   ],
   "source": [
    "events['Subtype'][events['Type']=='PASS'].value_counts()"
   ]
  },
  {
   "cell_type": "code",
   "execution_count": 45,
   "metadata": {},
   "outputs": [
    {
     "data": {
      "text/plain": [
       "TACKLE-LOST              51\n",
       "GROUND-LOST              48\n",
       "GROUND-WON               43\n",
       "TACKLE-WON               37\n",
       "AERIAL-WON               35\n",
       "AERIAL-LOST              30\n",
       "GROUND-FAULT-LOST        17\n",
       "GROUND-FAULT-WON         11\n",
       "TACKLE-FAULT-WON          9\n",
       "TACKLE-FAULT-LOST         6\n",
       "GROUND                    4\n",
       "AERIAL-FAULT-LOST         4\n",
       "GROUND-ADVANTAGE-LOST     4\n",
       "AERIAL-FAULT-WON          3\n",
       "GROUND-ADVANTAGE-WON      3\n",
       "TACKLE-ADVANTAGE-WON      3\n",
       "FAULT-WON                 1\n",
       "DRIBBLE-WON               1\n",
       "TACKLE-ADVANTAGE-LOST     1\n",
       "Name: Subtype, dtype: int64"
      ]
     },
     "execution_count": 45,
     "metadata": {},
     "output_type": "execute_result"
    }
   ],
   "source": [
    "events['Subtype'][events['Type']=='CHALLENGE'].value_counts()"
   ]
  },
  {
   "cell_type": "code",
   "execution_count": 46,
   "metadata": {},
   "outputs": [
    {
     "data": {
      "text/plain": [
       "INTERCEPTION    145\n",
       "THEFT            31\n",
       "SAVED             6\n",
       "BLOCKED           3\n",
       "Name: Subtype, dtype: int64"
      ]
     },
     "execution_count": 46,
     "metadata": {},
     "output_type": "execute_result"
    }
   ],
   "source": [
    "events['Subtype'][events['Type']=='RECOVERY'].value_counts()"
   ]
  },
  {
   "cell_type": "code",
   "execution_count": 47,
   "metadata": {},
   "outputs": [
    {
     "data": {
      "text/plain": [
       "INTERCEPTION              114\n",
       "THEFT                      38\n",
       "HEAD-INTERCEPTION          15\n",
       "HEAD                       10\n",
       "CROSS-INTERCEPTION          8\n",
       "FORCED                      6\n",
       "GOAL KICK-INTERCEPTION      4\n",
       "HAND BALL                   3\n",
       "CLEARANCE                   2\n",
       "CLEARANCE-INTERCEPTION      1\n",
       "FORCED-END HALF             1\n",
       "OFFSIDE                     1\n",
       "Name: Subtype, dtype: int64"
      ]
     },
     "execution_count": 47,
     "metadata": {},
     "output_type": "execute_result"
    }
   ],
   "source": [
    "events['Subtype'][events['Type']=='BALL LOST'].value_counts()"
   ]
  },
  {
   "cell_type": "code",
   "execution_count": 48,
   "metadata": {},
   "outputs": [
    {
     "data": {
      "text/plain": [
       "THROW IN             32\n",
       "FREE KICK            30\n",
       "CORNER KICK           7\n",
       "KICK OFF              7\n",
       "FREE KICK-RETAKEN     2\n",
       "KICK OFF-RETAKEN      1\n",
       "PENALTY               1\n",
       "Name: Subtype, dtype: int64"
      ]
     },
     "execution_count": 48,
     "metadata": {},
     "output_type": "execute_result"
    }
   ],
   "source": [
    "events['Subtype'][events['Type']=='SET PIECE'].value_counts()"
   ]
  },
  {
   "cell_type": "code",
   "execution_count": 49,
   "metadata": {},
   "outputs": [
    {
     "data": {
      "text/plain": [
       "CLEARANCE         5\n",
       "HEAD              4\n",
       "HEAD-CLEARANCE    1\n",
       "CROSS             1\n",
       "Name: Subtype, dtype: int64"
      ]
     },
     "execution_count": 49,
     "metadata": {},
     "output_type": "execute_result"
    }
   ],
   "source": [
    "events['Subtype'][events['Type']=='BALL OUT'].value_counts()"
   ]
  },
  {
   "cell_type": "code",
   "execution_count": 50,
   "metadata": {},
   "outputs": [
    {
     "data": {
      "text/plain": [
       "ON TARGET-SAVED        6\n",
       "HEAD-OFF TARGET-OUT    5\n",
       "OFF TARGET-OUT         5\n",
       "ON TARGET-GOAL         4\n",
       "BLOCKED                2\n",
       "OFF TARGET-HEAD-OUT    1\n",
       "HEAD-ON TARGET-GOAL    1\n",
       "Name: Subtype, dtype: int64"
      ]
     },
     "execution_count": 50,
     "metadata": {},
     "output_type": "execute_result"
    }
   ],
   "source": [
    "events['Subtype'][events['Type']=='SHOT'].value_counts()"
   ]
  },
  {
   "cell_type": "code",
   "execution_count": 51,
   "metadata": {},
   "outputs": [
    {
     "data": {
      "text/plain": [
       "YELLOW    6\n",
       "Name: Subtype, dtype: int64"
      ]
     },
     "execution_count": 51,
     "metadata": {},
     "output_type": "execute_result"
    }
   ],
   "source": [
    "events['Subtype'][events['Type']=='CARD'].value_counts()"
   ]
  },
  {
   "cell_type": "markdown",
   "metadata": {},
   "source": [
    "### Load Tracking Data into Pandas"
   ]
  },
  {
   "cell_type": "code",
   "execution_count": 52,
   "metadata": {},
   "outputs": [
    {
     "name": "stdout",
     "output_type": "stream",
     "text": [
      "Reading team: home\n",
      "Reading team: away\n"
     ]
    }
   ],
   "source": [
    "# read in tracking data\n",
    "tracking_home = mio.tracking_data(DATADIR,game_id,'Home')\n",
    "tracking_away = mio.tracking_data(DATADIR,game_id,'Away')\n"
   ]
  },
  {
   "cell_type": "markdown",
   "metadata": {},
   "source": [
    "# Tracking DataFrame Initialization\n",
    "* Converting Metrica units to meters.\n",
    "* Adding player velocities.\n",
    "* Removing direction flip at half.\n",
    "* Initialize playing direction at start of game.\n",
    "* Identify goalkeepers."
   ]
  },
  {
   "cell_type": "markdown",
   "metadata": {},
   "source": [
    "### Convert Metrica Units to Meters"
   ]
  },
  {
   "cell_type": "code",
   "execution_count": 53,
   "metadata": {},
   "outputs": [],
   "source": [
    "# convert positions from metrica units to meters\n",
    "tracking_home = mio.to_metric_coordinates(tracking_home)\n",
    "tracking_away = mio.to_metric_coordinates(tracking_away)\n",
    "events = mio.to_metric_coordinates(events)"
   ]
  },
  {
   "cell_type": "markdown",
   "metadata": {},
   "source": [
    "### Set consistent direction of play for both halves, home team attacking right --> left"
   ]
  },
  {
   "cell_type": "code",
   "execution_count": 54,
   "metadata": {},
   "outputs": [],
   "source": [
    "# reverse direction of play in the second half so that home team is always attacking from right->left\n",
    "tracking_home,tracking_away,events = mio.to_single_playing_direction(tracking_home,tracking_away,events)"
   ]
  },
  {
   "cell_type": "markdown",
   "metadata": {},
   "source": [
    "### Calculate player velocities"
   ]
  },
  {
   "cell_type": "code",
   "execution_count": 55,
   "metadata": {},
   "outputs": [],
   "source": [
    "# Calculate and add player vx, vy, and speed columns for each player\n",
    "\n",
    "# tracking_home = mvel.calc_player_velocities(tracking_home,smoothing=True)\n",
    "# tracking_away = mvel.calc_player_velocities(tracking_away,smoothing=True)\n",
    "# # **** NOTE *****\n",
    "# if the lines above produce an error (happens for one version of numpy) change them to the lines below:\n",
    "# ***************\n",
    "tracking_home = mvel.calc_player_velocities(tracking_home,smoothing=True,filter_='moving_average')\n",
    "tracking_away = mvel.calc_player_velocities(tracking_away,smoothing=True,filter_='moving_average')"
   ]
  },
  {
   "cell_type": "code",
   "execution_count": 56,
   "metadata": {},
   "outputs": [
    {
     "data": {
      "text/plain": [
       "Index(['Period', 'Time [s]', 'Home_11_x', 'Home_11_y', 'Home_1_x', 'Home_1_y',\n",
       "       'Home_2_x', 'Home_2_y', 'Home_3_x', 'Home_3_y', 'Home_4_x', 'Home_4_y',\n",
       "       'Home_5_x', 'Home_5_y', 'Home_6_x', 'Home_6_y', 'Home_7_x', 'Home_7_y',\n",
       "       'Home_8_x', 'Home_8_y', 'Home_9_x', 'Home_9_y', 'Home_10_x',\n",
       "       'Home_10_y', 'Home_12_x', 'Home_12_y', 'Home_13_x', 'Home_13_y',\n",
       "       'Home_14_x', 'Home_14_y', 'ball_x', 'ball_y', 'Home_1_vx', 'Home_1_vy',\n",
       "       'Home_1_speed', 'Home_10_vx', 'Home_10_vy', 'Home_10_speed',\n",
       "       'Home_11_vx', 'Home_11_vy', 'Home_11_speed', 'Home_12_vx', 'Home_12_vy',\n",
       "       'Home_12_speed', 'Home_13_vx', 'Home_13_vy', 'Home_13_speed',\n",
       "       'Home_14_vx', 'Home_14_vy', 'Home_14_speed', 'Home_2_vx', 'Home_2_vy',\n",
       "       'Home_2_speed', 'Home_3_vx', 'Home_3_vy', 'Home_3_speed', 'Home_4_vx',\n",
       "       'Home_4_vy', 'Home_4_speed', 'Home_5_vx', 'Home_5_vy', 'Home_5_speed',\n",
       "       'Home_6_vx', 'Home_6_vy', 'Home_6_speed', 'Home_7_vx', 'Home_7_vy',\n",
       "       'Home_7_speed', 'Home_8_vx', 'Home_8_vy', 'Home_8_speed', 'Home_9_vx',\n",
       "       'Home_9_vy', 'Home_9_speed'],\n",
       "      dtype='object')"
      ]
     },
     "execution_count": 56,
     "metadata": {},
     "output_type": "execute_result"
    }
   ],
   "source": [
    "# Added player vx, vy, and speed columns for each player\n",
    "tracking_home.columns"
   ]
  },
  {
   "cell_type": "markdown",
   "metadata": {},
   "source": [
    "### Establish which players are goalkeepers"
   ]
  },
  {
   "cell_type": "code",
   "execution_count": 57,
   "metadata": {},
   "outputs": [],
   "source": [
    "def find_goalkeeper(team):\n",
    "    '''\n",
    "    Find the goalkeeper in team, identifying him/her as the player closest to goal at kick off\n",
    "    ''' \n",
    "    x_columns = [c for c in team.columns if c[-2:].lower()=='_x' and c[:4] in ['Home','Away']]\n",
    "    GK_col = team.iloc[0][x_columns].abs().idxmax(axis=1)\n",
    "    return GK_col.split('_')[1]"
   ]
  },
  {
   "cell_type": "code",
   "execution_count": 58,
   "metadata": {},
   "outputs": [],
   "source": [
    "team=tracking_home\n",
    "teamname='Home'"
   ]
  },
  {
   "cell_type": "code",
   "execution_count": 59,
   "metadata": {},
   "outputs": [
    {
     "data": {
      "text/plain": [
       "['Home_11_x',\n",
       " 'Home_1_x',\n",
       " 'Home_2_x',\n",
       " 'Home_3_x',\n",
       " 'Home_4_x',\n",
       " 'Home_5_x',\n",
       " 'Home_6_x',\n",
       " 'Home_7_x',\n",
       " 'Home_8_x',\n",
       " 'Home_9_x',\n",
       " 'Home_10_x',\n",
       " 'Home_12_x',\n",
       " 'Home_13_x',\n",
       " 'Home_14_x']"
      ]
     },
     "execution_count": 59,
     "metadata": {},
     "output_type": "execute_result"
    }
   ],
   "source": [
    "x_columns = [c for c in team.columns if c[-2:].lower()=='_x' and c[:4] in ['Home','Away']]\n",
    "x_columns"
   ]
  },
  {
   "cell_type": "code",
   "execution_count": 60,
   "metadata": {},
   "outputs": [
    {
     "data": {
      "text/plain": [
       "Home_11_x    46.93150\n",
       "Home_1_x     15.70072\n",
       "Home_2_x     18.81712\n",
       "Home_3_x     21.07492\n",
       "Home_4_x     15.20888\n",
       "Home_5_x     28.26066\n",
       "Home_6_x     10.88514\n",
       "Home_7_x      9.01848\n",
       "Home_8_x      3.35278\n",
       "Home_9_x      0.67522\n",
       "Home_10_x     0.20564\n",
       "Home_12_x         NaN\n",
       "Home_13_x         NaN\n",
       "Home_14_x         NaN\n",
       "Name: 1, dtype: float64"
      ]
     },
     "execution_count": 60,
     "metadata": {},
     "output_type": "execute_result"
    }
   ],
   "source": [
    "GK_col = team.iloc[0][x_columns].abs()#.idxmax(axis=1)\n",
    "GK_col"
   ]
  },
  {
   "cell_type": "code",
   "execution_count": 61,
   "metadata": {},
   "outputs": [
    {
     "name": "stdout",
     "output_type": "stream",
     "text": [
      "True\n",
      "Home_11_x\n"
     ]
    }
   ],
   "source": [
    "# two ways to identify the player that is goalkeeper (player closest to goal)\n",
    "GK_col_method1 = team.iloc[0][x_columns].abs().idxmax(axis=1)\n",
    "GK_col_method2 = team.iloc[0][x_columns].abs().index[0]\n",
    "print(GK_col_method1 == GK_col_method2)\n",
    "print(GK_col_method1)"
   ]
  },
  {
   "cell_type": "code",
   "execution_count": 62,
   "metadata": {},
   "outputs": [
    {
     "data": {
      "text/plain": [
       "'11'"
      ]
     },
     "execution_count": 62,
     "metadata": {},
     "output_type": "execute_result"
    }
   ],
   "source": [
    "# final step to get player number\n",
    "GK_col_method1.split('_')[1]"
   ]
  },
  {
   "cell_type": "code",
   "execution_count": 63,
   "metadata": {},
   "outputs": [
    {
     "data": {
      "text/plain": [
       "['11', '25']"
      ]
     },
     "execution_count": 63,
     "metadata": {},
     "output_type": "execute_result"
    }
   ],
   "source": [
    "# find goalkeepers for offside calculation\n",
    "GK_numbers = [mio.find_goalkeeper(tracking_home),mio.find_goalkeeper(tracking_away)]\n",
    "GK_numbers"
   ]
  },
  {
   "cell_type": "markdown",
   "metadata": {},
   "source": [
    "### Find playing direction at start of game"
   ]
  },
  {
   "cell_type": "code",
   "execution_count": 67,
   "metadata": {},
   "outputs": [],
   "source": [
    "def find_playing_direction(team,teamname):\n",
    "    '''\n",
    "    Find the direction of play for the team (based on where the goalkeepers are at kickoff). +1 is left->right and -1 is right->left\n",
    "    '''    \n",
    "    GK_column_x = teamname+\"_\"+find_goalkeeper(team)+\"_x\"\n",
    "    # +ve is left->right, -ve is right->left\n",
    "    return -np.sign(team.iloc[0][GK_column_x])"
   ]
  },
  {
   "cell_type": "code",
   "execution_count": 68,
   "metadata": {},
   "outputs": [
    {
     "data": {
      "text/plain": [
       "'Home_11_x'"
      ]
     },
     "execution_count": 68,
     "metadata": {},
     "output_type": "execute_result"
    }
   ],
   "source": [
    "GK_column_x"
   ]
  },
  {
   "cell_type": "code",
   "execution_count": 69,
   "metadata": {},
   "outputs": [
    {
     "data": {
      "text/plain": [
       "-1.0"
      ]
     },
     "execution_count": 69,
     "metadata": {},
     "output_type": "execute_result"
    }
   ],
   "source": [
    "team=tracking_home\n",
    "teamname='Home'\n",
    "GK_column_x = teamname+'_'+mio.find_goalkeeper(team)+'_x'\n",
    "-np.sign(team.iloc[0][GK_column_x]) # -1 = right->left, +1 left->right"
   ]
  },
  {
   "cell_type": "code",
   "execution_count": 70,
   "metadata": {},
   "outputs": [
    {
     "data": {
      "text/plain": [
       "1.0"
      ]
     },
     "execution_count": 70,
     "metadata": {},
     "output_type": "execute_result"
    }
   ],
   "source": [
    "team=tracking_away\n",
    "teamname='Away'\n",
    "GK_column_x = teamname+'_'+mio.find_goalkeeper(team)+'_x'\n",
    "-np.sign(team.iloc[0][GK_column_x])"
   ]
  },
  {
   "cell_type": "code",
   "execution_count": 71,
   "metadata": {},
   "outputs": [
    {
     "data": {
      "text/plain": [
       "-51.70892"
      ]
     },
     "execution_count": 71,
     "metadata": {},
     "output_type": "execute_result"
    }
   ],
   "source": [
    "team.iloc[0][GK_column_x]"
   ]
  },
  {
   "cell_type": "code",
   "execution_count": 72,
   "metadata": {},
   "outputs": [
    {
     "data": {
      "text/plain": [
       "-1"
      ]
     },
     "execution_count": 72,
     "metadata": {},
     "output_type": "execute_result"
    }
   ],
   "source": [
    "np.sign(-100)"
   ]
  },
  {
   "cell_type": "code",
   "execution_count": 73,
   "metadata": {},
   "outputs": [
    {
     "data": {
      "text/plain": [
       "-51.70892"
      ]
     },
     "execution_count": 73,
     "metadata": {},
     "output_type": "execute_result"
    }
   ],
   "source": [
    "team.iloc[0][GK_column_x]"
   ]
  },
  {
   "cell_type": "code",
   "execution_count": 74,
   "metadata": {},
   "outputs": [],
   "source": [
    "home_attack_direction = mio.find_playing_direction(tracking_home,'Home')# 1 if shooting left-right, else -1\n",
    "away_attack_direction = mio.find_playing_direction(tracking_away,'Away')"
   ]
  },
  {
   "cell_type": "code",
   "execution_count": 75,
   "metadata": {},
   "outputs": [
    {
     "name": "stdout",
     "output_type": "stream",
     "text": [
      "-1.0\n",
      "1.0\n"
     ]
    }
   ],
   "source": [
    "print(home_attack_direction)\n",
    "print(away_attack_direction)"
   ]
  },
  {
   "cell_type": "markdown",
   "metadata": {},
   "source": [
    "# ANALYSIS\n",
    "\n",
    "### EPV (Expected Possession Value) grid\n",
    "* Value of location on field. Weighted to proximity to attacking goal to reflect probablity of scoring from possession of ball at location.\n",
    "* Values close to goal and center of goal are highest, and they quickly diminish as the position is further from the attacking goal and its center.\n",
    "\n",
    "### Pitch Control\n",
    "* Combination of positions of players and ball with parameters like `max_player_accel` and `average_ball_speed`.\n",
    "* Calculation of probability of a team retaining possession of ball if ball went to target location next.\n",
    "\n",
    "### EPV added\n",
    "* $ EPV \\times Pitch Control$ difference in values between start and target location.\n",
    "* `calculate_pitch_control_at_target() * get_EPV_at_location()`"
   ]
  },
  {
   "cell_type": "markdown",
   "metadata": {},
   "source": [
    "# EPV"
   ]
  },
  {
   "cell_type": "markdown",
   "metadata": {},
   "source": [
    "### Load and Plot EPV grid\n",
    "Creates a grid covering the playing field that will act as a weight for the location that corresponds to the probability of scoring from that location."
   ]
  },
  {
   "cell_type": "code",
   "execution_count": 76,
   "metadata": {},
   "outputs": [],
   "source": [
    "EPV = mepv.load_EPV_grid('/Users/jeromekirkpatrick/Desktop/galvanize/LaurieOnTracking/EPV_grid.csv')"
   ]
  },
  {
   "cell_type": "code",
   "execution_count": 77,
   "metadata": {},
   "outputs": [
    {
     "data": {
      "text/plain": [
       "array([[0.0046, 0.0046, 0.0045, ..., 0.0388, 0.0424, 0.0443],\n",
       "       [0.0044, 0.0044, 0.0045, ..., 0.0388, 0.0421, 0.0437],\n",
       "       [0.0041, 0.0042, 0.0044, ..., 0.0388, 0.0413, 0.0425],\n",
       "       ...,\n",
       "       [0.0041, 0.0042, 0.0044, ..., 0.0388, 0.0413, 0.0425],\n",
       "       [0.0044, 0.0044, 0.0045, ..., 0.0388, 0.0421, 0.0437],\n",
       "       [0.0046, 0.0046, 0.0045, ..., 0.0388, 0.0424, 0.0443]])"
      ]
     },
     "execution_count": 77,
     "metadata": {},
     "output_type": "execute_result"
    }
   ],
   "source": [
    "EPV"
   ]
  },
  {
   "cell_type": "markdown",
   "metadata": {},
   "source": [
    "### Visualizing EPV grid"
   ]
  },
  {
   "cell_type": "code",
   "execution_count": 78,
   "metadata": {},
   "outputs": [
    {
     "data": {
      "image/png": "[encoded data removed]",
      "text/plain": [
       "<Figure size 864x576 with 1 Axes>"
      ]
     },
     "metadata": {},
     "output_type": "display_data"
    }
   ],
   "source": [
    "# plot the EPV surface\n",
    "mviz.plot_EPV(EPV,field_dimen=(106.0,68),attack_direction=home_attack_direction)"
   ]
  },
  {
   "cell_type": "code",
   "execution_count": 79,
   "metadata": {},
   "outputs": [
    {
     "data": {
      "text/plain": [
       "(32, 50)"
      ]
     },
     "execution_count": 79,
     "metadata": {},
     "output_type": "execute_result"
    }
   ],
   "source": [
    "EPV.shape"
   ]
  },
  {
   "cell_type": "code",
   "execution_count": 80,
   "metadata": {},
   "outputs": [
    {
     "data": {
      "text/plain": [
       "array([0.0046, 0.0046, 0.0045, 0.0046, 0.0048, 0.0051, 0.0054, 0.0057,\n",
       "       0.0059, 0.0062, 0.0066, 0.0068, 0.0071, 0.0072, 0.0073, 0.0077,\n",
       "       0.0082, 0.0086, 0.0088, 0.0092, 0.0096, 0.01  , 0.0104, 0.011 ,\n",
       "       0.0117, 0.0123, 0.0127, 0.0131, 0.0135, 0.0142, 0.015 , 0.016 ,\n",
       "       0.017 , 0.0181, 0.0192, 0.0208, 0.0227, 0.0244, 0.0259, 0.0276,\n",
       "       0.0297, 0.0313, 0.0326, 0.0341, 0.0356, 0.0365, 0.0368, 0.0388,\n",
       "       0.0424, 0.0443])"
      ]
     },
     "execution_count": 80,
     "metadata": {},
     "output_type": "execute_result"
    }
   ],
   "source": [
    "EPV[0]"
   ]
  },
  {
   "cell_type": "code",
   "execution_count": 81,
   "metadata": {},
   "outputs": [],
   "source": [
    "def get_EPV_at_location(position,EPV,attack_direction,field_dimen=(106.,68.)):\n",
    "    \"\"\" get_EPV_at_location\n",
    "    \n",
    "    Returns the EPV (Expected Possession Value) at a given (x,y) location\n",
    "    \n",
    "    Parameters\n",
    "    -----------\n",
    "        position: Tuple containing the (x,y) pitch position\n",
    "        EPV: tuple Expected Possession value grid (loaded using load_EPV_grid() )\n",
    "        attack_direction: Sets the attack direction (1: left->right, -1: right->left)\n",
    "        field_dimen: tuple containing the length and width of the pitch in meters. Default is (106,68)\n",
    "            \n",
    "    Returrns\n",
    "    -----------\n",
    "        EPV value at input position\n",
    "        \n",
    "    \"\"\"\n",
    "    \n",
    "    x,y = position\n",
    "    if abs(x)>field_dimen[0]/2. or abs(y)>field_dimen[1]/2.:\n",
    "        return 0.0 # Position is off the field, EPV is zero\n",
    "    else:\n",
    "        if attack_direction==-1:\n",
    "            EPV = np.fliplr(EPV)\n",
    "        ny,nx = EPV.shape\n",
    "        dx = field_dimen[0]/float(nx)\n",
    "        dy = field_dimen[1]/float(ny)\n",
    "        ix = (x+field_dimen[0]/2.-0.0001)/dx\n",
    "        iy = (y+field_dimen[1]/2.-0.0001)/dy\n",
    "        return EPV[int(iy),int(ix)]"
   ]
  },
  {
   "cell_type": "markdown",
   "metadata": {},
   "source": [
    "### Breaking Apart `get_EPV_at_location()`"
   ]
  },
  {
   "cell_type": "code",
   "execution_count": 82,
   "metadata": {},
   "outputs": [],
   "source": [
    "position=(0,0)\n",
    "EPV=EPV\n",
    "attack_direction=mio.find_playing_direction(team, teamname)\n",
    "field_dimen=(106.,68.)"
   ]
  },
  {
   "cell_type": "code",
   "execution_count": 83,
   "metadata": {},
   "outputs": [
    {
     "data": {
      "text/plain": [
       "(0, 0)"
      ]
     },
     "execution_count": 83,
     "metadata": {},
     "output_type": "execute_result"
    }
   ],
   "source": [
    "x,y = position\n",
    "x, y"
   ]
  },
  {
   "cell_type": "code",
   "execution_count": 84,
   "metadata": {},
   "outputs": [],
   "source": [
    "# if x or y position is > 1/2 of corresponding x or y field_dimen, means position is off field, so set EPV to zero\n",
    "if abs(x)>field_dimen[0]/2. or abs(y)>field_dimen[1]/2.:\n",
    "    0.0 # Position is off the field, EPV is zero\n",
    "# check if attack_direction is opposite of default EPV to flip EPV\n",
    "else:\n",
    "    if attack_direction==-1:\n",
    "        EPV = np.fliplr(EPV)"
   ]
  },
  {
   "cell_type": "code",
   "execution_count": 85,
   "metadata": {},
   "outputs": [
    {
     "data": {
      "text/plain": [
       "array([[0.0443, 0.0424, 0.0388, ..., 0.0045, 0.0046, 0.0046],\n",
       "       [0.0437, 0.0421, 0.0388, ..., 0.0045, 0.0044, 0.0044],\n",
       "       [0.0425, 0.0413, 0.0388, ..., 0.0044, 0.0042, 0.0041],\n",
       "       ...,\n",
       "       [0.0425, 0.0413, 0.0388, ..., 0.0044, 0.0042, 0.0041],\n",
       "       [0.0437, 0.0421, 0.0388, ..., 0.0045, 0.0044, 0.0044],\n",
       "       [0.0443, 0.0424, 0.0388, ..., 0.0045, 0.0046, 0.0046]])"
      ]
     },
     "execution_count": 85,
     "metadata": {},
     "output_type": "execute_result"
    }
   ],
   "source": [
    "EPV = np.fliplr(EPV)\n",
    "EPV"
   ]
  },
  {
   "cell_type": "code",
   "execution_count": 86,
   "metadata": {},
   "outputs": [
    {
     "data": {
      "text/plain": [
       "(32, 50)"
      ]
     },
     "execution_count": 86,
     "metadata": {},
     "output_type": "execute_result"
    }
   ],
   "source": [
    "EPV.shape"
   ]
  },
  {
   "cell_type": "code",
   "execution_count": 87,
   "metadata": {},
   "outputs": [
    {
     "data": {
      "text/plain": [
       "array([0.5714, 0.4915, 0.3319, 0.2252, 0.1716, 0.1362, 0.119 , 0.1027,\n",
       "       0.0875, 0.0707, 0.0523, 0.0408, 0.0362, 0.0315, 0.0267, 0.0237,\n",
       "       0.0225, 0.0211, 0.0195, 0.0181, 0.0168, 0.0162, 0.0164, 0.0156,\n",
       "       0.0139, 0.0133, 0.0137, 0.0136, 0.013 , 0.0124, 0.0118, 0.0114,\n",
       "       0.0112, 0.0108, 0.0103, 0.0099, 0.0095, 0.0092, 0.0088, 0.0085,\n",
       "       0.0083, 0.0083, 0.0085, 0.0085, 0.0082, 0.0079, 0.0076, 0.0077,\n",
       "       0.0083, 0.0085])"
      ]
     },
     "execution_count": 87,
     "metadata": {},
     "output_type": "execute_result"
    }
   ],
   "source": [
    "# seeing values flip l->r with np.fliplr(EPV)\n",
    "# rows 15-16 are center of goal\n",
    "EPV[15]"
   ]
  },
  {
   "cell_type": "code",
   "execution_count": 88,
   "metadata": {},
   "outputs": [
    {
     "data": {
      "text/plain": [
       "array([0.5714, 0.4915, 0.3319, 0.2252, 0.1716, 0.1362, 0.119 , 0.1027,\n",
       "       0.0875, 0.0707, 0.0523, 0.0408, 0.0362, 0.0315, 0.0267, 0.0237,\n",
       "       0.0225, 0.0211, 0.0195, 0.0181, 0.0168, 0.0162, 0.0164, 0.0156,\n",
       "       0.0139, 0.0133, 0.0137, 0.0136, 0.013 , 0.0124, 0.0118, 0.0114,\n",
       "       0.0112, 0.0108, 0.0103, 0.0099, 0.0095, 0.0092, 0.0088, 0.0085,\n",
       "       0.0083, 0.0083, 0.0085, 0.0085, 0.0082, 0.0079, 0.0076, 0.0077,\n",
       "       0.0083, 0.0085])"
      ]
     },
     "execution_count": 88,
     "metadata": {},
     "output_type": "execute_result"
    }
   ],
   "source": [
    "EPV[16]"
   ]
  },
  {
   "cell_type": "markdown",
   "metadata": {},
   "source": [
    "### Pitch Control"
   ]
  },
  {
   "cell_type": "markdown",
   "metadata": {},
   "source": [
    "### Set default parameters for Pitch Control"
   ]
  },
  {
   "cell_type": "code",
   "execution_count": 89,
   "metadata": {},
   "outputs": [],
   "source": [
    "# first get pitch control model parameters\n",
    "params = mpc.default_model_params()"
   ]
  },
  {
   "cell_type": "code",
   "execution_count": 90,
   "metadata": {},
   "outputs": [
    {
     "data": {
      "text/plain": [
       "{'max_player_accel': 7.0,\n",
       " 'max_player_speed': 5.0,\n",
       " 'reaction_time': 0.7,\n",
       " 'tti_sigma': 0.45,\n",
       " 'kappa_def': 1.0,\n",
       " 'lambda_att': 4.3,\n",
       " 'lambda_def': 4.3,\n",
       " 'lambda_gk': 12.899999999999999,\n",
       " 'average_ball_speed': 15.0,\n",
       " 'int_dt': 0.04,\n",
       " 'max_int_time': 10,\n",
       " 'model_converge_tol': 0.01,\n",
       " 'time_to_control_att': 3.3202550055547313,\n",
       " 'time_to_control_def': 3.3202550055547313}"
      ]
     },
     "execution_count": 90,
     "metadata": {},
     "output_type": "execute_result"
    }
   ],
   "source": [
    "params"
   ]
  },
  {
   "cell_type": "markdown",
   "metadata": {},
   "source": [
    "### Unfinished documentation begins here"
   ]
  },
  {
   "cell_type": "code",
   "execution_count": 91,
   "metadata": {},
   "outputs": [],
   "source": [
    "def calculate_pitch_control_at_target(target_position, attacking_players, defending_players, ball_start_pos, params):\n",
    "    \"\"\" calculate_pitch_control_at_target\n",
    "    \n",
    "    Calculates the pitch control probability for the attacking and defending teams at a specified target position on the ball.\n",
    "    \n",
    "    Parameters\n",
    "    -----------\n",
    "        target_position: size 2 numpy array containing the (x,y) position of the position on the field to evaluate pitch control\n",
    "        attacking_players: list of 'player' objects (see player class above) for the players on the attacking team (team in possession)\n",
    "        defending_players: list of 'player' objects (see player class above) for the players on the defending team\n",
    "        ball_start_pos: Current position of the ball (start position for a pass). If set to NaN, function will assume that the ball is already at the target position.\n",
    "        params: Dictionary of model parameters (default model parameters can be generated using default_model_params() )\n",
    "        \n",
    "    Returrns\n",
    "    -----------\n",
    "        PPCFatt: Pitch control probability for the attacking team\n",
    "        PPCFdef: Pitch control probability for the defending team ( 1-PPCFatt-PPCFdef <  params['model_converge_tol'] )\n",
    "\n",
    "    \"\"\"\n",
    "    # calculate ball travel time from start position to end position.\n",
    "    if ball_start_pos is None or any(np.isnan(ball_start_pos)): # assume that ball is already at location\n",
    "        ball_travel_time = 0.0 \n",
    "    else:\n",
    "        # ball travel time is distance to target position from current ball position divided assumed average ball speed\n",
    "        ball_travel_time = np.linalg.norm( target_position - ball_start_pos )/params['average_ball_speed']\n",
    "    \n",
    "    # first get arrival time of 'nearest' attacking player (nearest also dependent on current velocity)\n",
    "    tau_min_att = np.nanmin( [p.simple_time_to_intercept(target_position) for p in attacking_players] )\n",
    "    tau_min_def = np.nanmin( [p.simple_time_to_intercept(target_position ) for p in defending_players] )\n",
    "    \n",
    "    # check whether we actually need to solve equation 3\n",
    "    if tau_min_att-max(ball_travel_time,tau_min_def) >= params['time_to_control_def']:\n",
    "        # if defending team can arrive significantly before attacking team, no need to solve pitch control model\n",
    "        return 0., 1.\n",
    "    elif tau_min_def-max(ball_travel_time,tau_min_att) >= params['time_to_control_att']:\n",
    "        # if attacking team can arrive significantly before defending team, no need to solve pitch control model\n",
    "        return 1., 0.\n",
    "    else: \n",
    "        # solve pitch control model by integrating equation 3 in Spearman et al.\n",
    "        # first remove any player that is far (in time) from the target location\n",
    "        attacking_players = [p for p in attacking_players if p.time_to_intercept-tau_min_att < params['time_to_control_att'] ]\n",
    "        defending_players = [p for p in defending_players if p.time_to_intercept-tau_min_def < params['time_to_control_def'] ]\n",
    "        # set up integration arrays\n",
    "        dT_array = np.arange(ball_travel_time-params['int_dt'],ball_travel_time+params['max_int_time'],params['int_dt']) \n",
    "        PPCFatt = np.zeros_like( dT_array )\n",
    "        PPCFdef = np.zeros_like( dT_array )\n",
    "        # integration equation 3 of Spearman 2018 until convergence or tolerance limit hit (see 'params')\n",
    "        ptot = 0.0\n",
    "        i = 1\n",
    "        while 1-ptot>params['model_converge_tol'] and i<dT_array.size: \n",
    "            T = dT_array[i]\n",
    "            for player in attacking_players:\n",
    "                # calculate ball control probablity for 'player' in time interval T+dt\n",
    "                dPPCFdT = (1-PPCFatt[i-1]-PPCFdef[i-1])*player.probability_intercept_ball( T ) * player.lambda_att\n",
    "                # make sure it's greater than zero\n",
    "                assert dPPCFdT>=0, 'Invalid attacking player probability (calculate_pitch_control_at_target)'\n",
    "                player.PPCF += dPPCFdT*params['int_dt'] # total contribution from individual player\n",
    "                PPCFatt[i] += player.PPCF # add to sum over players in the attacking team (remembering array element is zero at the start of each integration iteration)\n",
    "            for player in defending_players:\n",
    "                # calculate ball control probablity for 'player' in time interval T+dt\n",
    "                dPPCFdT = (1-PPCFatt[i-1]-PPCFdef[i-1])*player.probability_intercept_ball( T ) * player.lambda_def\n",
    "                # make sure it's greater than zero\n",
    "                assert dPPCFdT>=0, 'Invalid defending player probability (calculate_pitch_control_at_target)'\n",
    "                player.PPCF += dPPCFdT*params['int_dt'] # total contribution from individual player\n",
    "                PPCFdef[i] += player.PPCF # add to sum over players in the defending team\n",
    "            ptot = PPCFdef[i]+PPCFatt[i] # total pitch control probability \n",
    "            i += 1\n",
    "        if i>=dT_array.size:\n",
    "            print(\"Integration failed to converge: %1.3f\" % (ptot) )\n",
    "        return PPCFatt[i-1], PPCFdef[i-1]"
   ]
  },
  {
   "cell_type": "markdown",
   "metadata": {},
   "source": [
    "### Get all shots and passes"
   ]
  },
  {
   "cell_type": "code",
   "execution_count": 92,
   "metadata": {},
   "outputs": [],
   "source": [
    "# first get all shots\n",
    "shots = events[events['Type']=='SHOT']\n",
    "home_shots = shots[shots['Team']=='Home']\n",
    "away_shots = shots[shots['Team']=='Away']\n",
    "# get all  passes\n",
    "home_passes = events[ (events['Type'].isin(['PASS'])) & (events['Team']=='Home') ]\n",
    "away_passes = events[ (events['Type'].isin(['PASS'])) & (events['Team']=='Away') ]"
   ]
  },
  {
   "cell_type": "code",
   "execution_count": 93,
   "metadata": {},
   "outputs": [
    {
     "data": {
      "text/html": [
       "<div>\n",
       "<style scoped>\n",
       "    .dataframe tbody tr th:only-of-type {\n",
       "        vertical-align: middle;\n",
       "    }\n",
       "\n",
       "    .dataframe tbody tr th {\n",
       "        vertical-align: top;\n",
       "    }\n",
       "\n",
       "    .dataframe thead th {\n",
       "        text-align: right;\n",
       "    }\n",
       "</style>\n",
       "<table border=\"1\" class=\"dataframe\">\n",
       "  <thead>\n",
       "    <tr style=\"text-align: right;\">\n",
       "      <th></th>\n",
       "      <th>Team</th>\n",
       "      <th>Type</th>\n",
       "      <th>Subtype</th>\n",
       "      <th>Period</th>\n",
       "      <th>Start Frame</th>\n",
       "      <th>Start Time [s]</th>\n",
       "      <th>End Frame</th>\n",
       "      <th>End Time [s]</th>\n",
       "      <th>From</th>\n",
       "      <th>To</th>\n",
       "      <th>Start X</th>\n",
       "      <th>Start Y</th>\n",
       "      <th>End X</th>\n",
       "      <th>End Y</th>\n",
       "    </tr>\n",
       "  </thead>\n",
       "  <tbody>\n",
       "    <tr>\n",
       "      <th>28</th>\n",
       "      <td>Home</td>\n",
       "      <td>PASS</td>\n",
       "      <td>NaN</td>\n",
       "      <td>1</td>\n",
       "      <td>1467</td>\n",
       "      <td>58.68</td>\n",
       "      <td>1489</td>\n",
       "      <td>59.56</td>\n",
       "      <td>Player1</td>\n",
       "      <td>Player11</td>\n",
       "      <td>46.64</td>\n",
       "      <td>21.08</td>\n",
       "      <td>53.00</td>\n",
       "      <td>10.20</td>\n",
       "    </tr>\n",
       "    <tr>\n",
       "      <th>29</th>\n",
       "      <td>Home</td>\n",
       "      <td>PASS</td>\n",
       "      <td>NaN</td>\n",
       "      <td>1</td>\n",
       "      <td>1489</td>\n",
       "      <td>59.56</td>\n",
       "      <td>1578</td>\n",
       "      <td>63.12</td>\n",
       "      <td>Player11</td>\n",
       "      <td>Player9</td>\n",
       "      <td>53.00</td>\n",
       "      <td>10.20</td>\n",
       "      <td>9.54</td>\n",
       "      <td>24.48</td>\n",
       "    </tr>\n",
       "    <tr>\n",
       "      <th>36</th>\n",
       "      <td>Home</td>\n",
       "      <td>PASS</td>\n",
       "      <td>HEAD</td>\n",
       "      <td>1</td>\n",
       "      <td>1672</td>\n",
       "      <td>66.88</td>\n",
       "      <td>1693</td>\n",
       "      <td>67.72</td>\n",
       "      <td>Player6</td>\n",
       "      <td>Player7</td>\n",
       "      <td>19.08</td>\n",
       "      <td>14.96</td>\n",
       "      <td>19.08</td>\n",
       "      <td>8.84</td>\n",
       "    </tr>\n",
       "    <tr>\n",
       "      <th>52</th>\n",
       "      <td>Home</td>\n",
       "      <td>PASS</td>\n",
       "      <td>NaN</td>\n",
       "      <td>1</td>\n",
       "      <td>2414</td>\n",
       "      <td>96.56</td>\n",
       "      <td>2440</td>\n",
       "      <td>97.60</td>\n",
       "      <td>Player3</td>\n",
       "      <td>Player8</td>\n",
       "      <td>16.96</td>\n",
       "      <td>-24.48</td>\n",
       "      <td>1.06</td>\n",
       "      <td>-29.92</td>\n",
       "    </tr>\n",
       "    <tr>\n",
       "      <th>53</th>\n",
       "      <td>Home</td>\n",
       "      <td>PASS</td>\n",
       "      <td>NaN</td>\n",
       "      <td>1</td>\n",
       "      <td>2465</td>\n",
       "      <td>98.60</td>\n",
       "      <td>2493</td>\n",
       "      <td>99.72</td>\n",
       "      <td>Player8</td>\n",
       "      <td>Player4</td>\n",
       "      <td>2.12</td>\n",
       "      <td>-29.92</td>\n",
       "      <td>10.60</td>\n",
       "      <td>-31.96</td>\n",
       "    </tr>\n",
       "    <tr>\n",
       "      <th>...</th>\n",
       "      <td>...</td>\n",
       "      <td>...</td>\n",
       "      <td>...</td>\n",
       "      <td>...</td>\n",
       "      <td>...</td>\n",
       "      <td>...</td>\n",
       "      <td>...</td>\n",
       "      <td>...</td>\n",
       "      <td>...</td>\n",
       "      <td>...</td>\n",
       "      <td>...</td>\n",
       "      <td>...</td>\n",
       "      <td>...</td>\n",
       "      <td>...</td>\n",
       "    </tr>\n",
       "    <tr>\n",
       "      <th>1913</th>\n",
       "      <td>Home</td>\n",
       "      <td>PASS</td>\n",
       "      <td>NaN</td>\n",
       "      <td>2</td>\n",
       "      <td>137130</td>\n",
       "      <td>5485.20</td>\n",
       "      <td>137176</td>\n",
       "      <td>5487.04</td>\n",
       "      <td>Player5</td>\n",
       "      <td>Player1</td>\n",
       "      <td>-3.18</td>\n",
       "      <td>0.00</td>\n",
       "      <td>8.48</td>\n",
       "      <td>-12.92</td>\n",
       "    </tr>\n",
       "    <tr>\n",
       "      <th>1914</th>\n",
       "      <td>Home</td>\n",
       "      <td>PASS</td>\n",
       "      <td>NaN</td>\n",
       "      <td>2</td>\n",
       "      <td>137209</td>\n",
       "      <td>5488.36</td>\n",
       "      <td>137221</td>\n",
       "      <td>5488.84</td>\n",
       "      <td>Player1</td>\n",
       "      <td>Player6</td>\n",
       "      <td>9.54</td>\n",
       "      <td>-12.24</td>\n",
       "      <td>4.24</td>\n",
       "      <td>-4.76</td>\n",
       "    </tr>\n",
       "    <tr>\n",
       "      <th>1915</th>\n",
       "      <td>Home</td>\n",
       "      <td>PASS</td>\n",
       "      <td>NaN</td>\n",
       "      <td>2</td>\n",
       "      <td>137263</td>\n",
       "      <td>5490.52</td>\n",
       "      <td>137303</td>\n",
       "      <td>5492.12</td>\n",
       "      <td>Player6</td>\n",
       "      <td>Player1</td>\n",
       "      <td>4.24</td>\n",
       "      <td>-12.24</td>\n",
       "      <td>12.72</td>\n",
       "      <td>-21.76</td>\n",
       "    </tr>\n",
       "    <tr>\n",
       "      <th>1916</th>\n",
       "      <td>Home</td>\n",
       "      <td>PASS</td>\n",
       "      <td>NaN</td>\n",
       "      <td>2</td>\n",
       "      <td>137303</td>\n",
       "      <td>5492.12</td>\n",
       "      <td>137332</td>\n",
       "      <td>5493.28</td>\n",
       "      <td>Player1</td>\n",
       "      <td>Player5</td>\n",
       "      <td>12.72</td>\n",
       "      <td>-21.76</td>\n",
       "      <td>1.06</td>\n",
       "      <td>-26.52</td>\n",
       "    </tr>\n",
       "    <tr>\n",
       "      <th>1917</th>\n",
       "      <td>Home</td>\n",
       "      <td>PASS</td>\n",
       "      <td>NaN</td>\n",
       "      <td>2</td>\n",
       "      <td>137334</td>\n",
       "      <td>5493.36</td>\n",
       "      <td>137359</td>\n",
       "      <td>5494.36</td>\n",
       "      <td>Player5</td>\n",
       "      <td>Player1</td>\n",
       "      <td>1.06</td>\n",
       "      <td>-26.52</td>\n",
       "      <td>15.90</td>\n",
       "      <td>-26.52</td>\n",
       "    </tr>\n",
       "  </tbody>\n",
       "</table>\n",
       "<p>543 rows × 14 columns</p>\n",
       "</div>"
      ],
      "text/plain": [
       "      Team  Type Subtype  Period  Start Frame  Start Time [s]  End Frame  \\\n",
       "28    Home  PASS     NaN       1         1467           58.68       1489   \n",
       "29    Home  PASS     NaN       1         1489           59.56       1578   \n",
       "36    Home  PASS    HEAD       1         1672           66.88       1693   \n",
       "52    Home  PASS     NaN       1         2414           96.56       2440   \n",
       "53    Home  PASS     NaN       1         2465           98.60       2493   \n",
       "...    ...   ...     ...     ...          ...             ...        ...   \n",
       "1913  Home  PASS     NaN       2       137130         5485.20     137176   \n",
       "1914  Home  PASS     NaN       2       137209         5488.36     137221   \n",
       "1915  Home  PASS     NaN       2       137263         5490.52     137303   \n",
       "1916  Home  PASS     NaN       2       137303         5492.12     137332   \n",
       "1917  Home  PASS     NaN       2       137334         5493.36     137359   \n",
       "\n",
       "      End Time [s]      From        To  Start X  Start Y  End X  End Y  \n",
       "28           59.56   Player1  Player11    46.64    21.08  53.00  10.20  \n",
       "29           63.12  Player11   Player9    53.00    10.20   9.54  24.48  \n",
       "36           67.72   Player6   Player7    19.08    14.96  19.08   8.84  \n",
       "52           97.60   Player3   Player8    16.96   -24.48   1.06 -29.92  \n",
       "53           99.72   Player8   Player4     2.12   -29.92  10.60 -31.96  \n",
       "...            ...       ...       ...      ...      ...    ...    ...  \n",
       "1913       5487.04   Player5   Player1    -3.18     0.00   8.48 -12.92  \n",
       "1914       5488.84   Player1   Player6     9.54   -12.24   4.24  -4.76  \n",
       "1915       5492.12   Player6   Player1     4.24   -12.24  12.72 -21.76  \n",
       "1916       5493.28   Player1   Player5    12.72   -21.76   1.06 -26.52  \n",
       "1917       5494.36   Player5   Player1     1.06   -26.52  15.90 -26.52  \n",
       "\n",
       "[543 rows x 14 columns]"
      ]
     },
     "execution_count": 93,
     "metadata": {},
     "output_type": "execute_result"
    }
   ],
   "source": [
    "home_passes"
   ]
  },
  {
   "cell_type": "code",
   "execution_count": 94,
   "metadata": {},
   "outputs": [],
   "source": [
    "# home team EPV added for passes\n",
    "home_pass_value_added = []\n",
    "for i,pass_ in home_passes.iterrows():\n",
    "    EEPV_added, EPV_diff = mepv.calculate_epv_added( i, events, tracking_home, tracking_away, GK_numbers, EPV, params)\n",
    "    home_pass_value_added.append( (i,EEPV_added,EPV_diff ) )"
   ]
  },
  {
   "cell_type": "code",
   "execution_count": 95,
   "metadata": {},
   "outputs": [],
   "source": [
    "# away team EPV added for passes\n",
    "away_pass_value_added = []\n",
    "for i,pass_ in away_passes.iterrows():\n",
    "    EEPV_added, EPV_diff = mepv.calculate_epv_added( i, events, tracking_home, tracking_away, GK_numbers, EPV, params)\n",
    "    away_pass_value_added.append( (i,EEPV_added,EPV_diff ) )"
   ]
  },
  {
   "cell_type": "code",
   "execution_count": 153,
   "metadata": {},
   "outputs": [
    {
     "data": {
      "text/plain": [
       "(29, -0.002484448442229724, 0.004699999999999999)"
      ]
     },
     "execution_count": 153,
     "metadata": {},
     "output_type": "execute_result"
    }
   ],
   "source": [
    "# index 1 with i (index number of pass), EPV_added, EPV_diff\n",
    "home_pass_value_added[1]"
   ]
  },
  {
   "cell_type": "code",
   "execution_count": 160,
   "metadata": {},
   "outputs": [
    {
     "data": {
      "text/plain": [
       "0.07256624699798692"
      ]
     },
     "execution_count": 160,
     "metadata": {},
     "output_type": "execute_result"
    }
   ],
   "source": [
    "# EPV added\n",
    "home_pass_value_added[1][1]"
   ]
  },
  {
   "cell_type": "code",
   "execution_count": 154,
   "metadata": {},
   "outputs": [],
   "source": [
    "home_pass_value_added = sorted(home_pass_value_added, key = lambda x: x[1], reverse=True)  \n",
    "away_pass_value_added = sorted(away_pass_value_added, key = lambda x: x[1], reverse=True)  "
   ]
  },
  {
   "cell_type": "code",
   "execution_count": 156,
   "metadata": {},
   "outputs": [
    {
     "data": {
      "text/plain": [
       "[(1753, 0.09134393894242623, 0.2252),\n",
       " (1478, 0.07256624699798692, 0.36379999999999996),\n",
       " (197, 0.06171398533066253, 0.2444),\n",
       " (430, 0.048489233171870066, 0.10749999999999998),\n",
       " (851, 0.04528996595787502, 0.1001)]"
      ]
     },
     "execution_count": 156,
     "metadata": {},
     "output_type": "execute_result"
    }
   ],
   "source": [
    "home_pass_value_added[:5]"
   ]
  },
  {
   "cell_type": "code",
   "execution_count": 157,
   "metadata": {},
   "outputs": [
    {
     "data": {
      "text/plain": [
       "[(1663, 0.07350679988214359, 0.0378),\n",
       " (961, 0.07103134497968046, 0.1555),\n",
       " (1901, 0.06363375695912829, 0.2474),\n",
       " (822, 0.052764729064602174, 0.0664),\n",
       " (1735, 0.0318116338246547, -0.005600000000000001)]"
      ]
     },
     "execution_count": 157,
     "metadata": {},
     "output_type": "execute_result"
    }
   ],
   "source": [
    "away_pass_value_added[:5]"
   ]
  },
  {
   "cell_type": "code",
   "execution_count": 19,
   "metadata": {},
   "outputs": [
    {
     "name": "stdout",
     "output_type": "stream",
     "text": [
      "Top 5 home team passes by expected EPV-added\n",
      "[(1753, 0.09134393894242623, 0.2252), (1478, 0.07256624699798692, 0.36379999999999996), (197, 0.06171398533066253, 0.2444), (430, 0.048489233171870066, 0.10749999999999998), (851, 0.04528996595787502, 0.1001)]\n",
      "Top 5 away team passes by expected EPV-added\n",
      "[(1663, 0.07350679988214359, 0.0378), (961, 0.07103134497968046, 0.1555), (1901, 0.06363375695912829, 0.2474), (822, 0.052764729064602174, 0.0664), (1735, 0.0318116338246547, -0.005600000000000001)]\n"
     ]
    }
   ],
   "source": [
    "print(\"Top 5 home team passes by expected EPV-added\")\n",
    "print(home_pass_value_added[:5])\n",
    "print(\"Top 5 away team passes by expected EPV-added\")\n",
    "print(away_pass_value_added[:5])"
   ]
  },
  {
   "cell_type": "code",
   "execution_count": 21,
   "metadata": {},
   "outputs": [],
   "source": [
    "# import ffmpeg\n",
    "import matplotlib.animation as animation\n",
    "animation.rcParams['animation.ffmpeg_path'] = '/usr/local/bin/ffmpeg'\n"
   ]
  },
  {
   "cell_type": "code",
   "execution_count": 21,
   "metadata": {},
   "outputs": [],
   "source": [
    "# fpath = '/Users/jeromekirkpatrick/Desktop/galvanize/sample-data'\n",
    "# fname = 'clip_40sec'\n",
    "# hometeam_ss=tracking_home[0:1000]\n",
    "# awayteam_ss=tracking_away[0:1000]"
   ]
  },
  {
   "cell_type": "code",
   "execution_count": 22,
   "metadata": {},
   "outputs": [],
   "source": [
    "# save_match_clip(hometeam_ss, awayteam_ss, fpath, fname=fname, include_player_velocities=True)"
   ]
  },
  {
   "cell_type": "code",
   "execution_count": 23,
   "metadata": {},
   "outputs": [],
   "source": [
    "# # import ffmpeg\n",
    "# # import matplotlib.animation as animation\n",
    "# # animation.rcParams['animation.ffmpeg_path'] = '/usr/local/bin/ffmpeg'\n",
    "\n",
    "# fpath = '/Users/jeromekirkpatrick/Desktop/galvanize/sample-data'\n",
    "# fname = 'clip_4sec'\n",
    "# hometeam_ss=tracking_home[0:100]\n",
    "# awayteam_ss=tracking_away[0:100]\n",
    "# mviz.save_match_clip(hometeam_ss, awayteam_ss, fpath, fname=fname, include_player_velocities=False)"
   ]
  },
  {
   "cell_type": "code",
   "execution_count": 24,
   "metadata": {},
   "outputs": [],
   "source": [
    "# events['Type'][events['Type']=='PASS']"
   ]
  },
  {
   "cell_type": "code",
   "execution_count": 25,
   "metadata": {},
   "outputs": [],
   "source": [
    "def plot_pitch( field_dimen = (106.0,68.0), field_color ='white', linewidth=2, markersize=20):\n",
    "    \"\"\" plot_pitch\n",
    "    \n",
    "    Plots a soccer pitch. All distance units converted to meters.\n",
    "    \n",
    "    Parameters\n",
    "    -----------\n",
    "        field_dimen: (length, width) of field in meters. Default is (106,68)\n",
    "        field_color: color of field. options are {'green','white'}\n",
    "        linewidth  : width of lines. default = 2\n",
    "        markersize : size of markers (e.g. penalty spot, centre spot, posts). default = 20\n",
    "        \n",
    "    Returrns\n",
    "    -----------\n",
    "       fig,ax : figure and aixs objects (so that other data can be plotted onto the pitch)\n",
    "\n",
    "    \"\"\"\n",
    "    fig,ax = plt.subplots(figsize=(12,8)) # create a figure \n",
    "    # decide what color we want the field to be. Default is green, but can also choose white\n",
    "    if field_color=='green':\n",
    "        ax.set_facecolor('mediumseagreen')\n",
    "        lc = 'whitesmoke' # line color\n",
    "        pc = 'w' # 'spot' colors\n",
    "    elif field_color=='white':\n",
    "        lc = 'k'\n",
    "        pc = 'k'\n",
    "    # ALL DIMENSIONS IN m\n",
    "    border_dimen = (3,3) # include a border arround of the field of width 3m\n",
    "    meters_per_yard = 0.9144 # unit conversion from yards to meters\n",
    "    half_pitch_length = field_dimen[0]/2. # length of half pitch\n",
    "    half_pitch_width = field_dimen[1]/2. # width of half pitch\n",
    "    signs = [-1,1] \n",
    "    # Soccer field dimensions typically defined in yards, so we need to convert to meters\n",
    "    goal_line_width = 8*meters_per_yard\n",
    "    box_width = 20*meters_per_yard\n",
    "    box_length = 6*meters_per_yard\n",
    "    area_width = 44*meters_per_yard\n",
    "    area_length = 18*meters_per_yard\n",
    "    penalty_spot = 12*meters_per_yard\n",
    "    corner_radius = 1*meters_per_yard\n",
    "    D_length = 8*meters_per_yard\n",
    "    D_radius = 10*meters_per_yard\n",
    "    D_pos = 12*meters_per_yard\n",
    "    centre_circle_radius = 10*meters_per_yard\n",
    "    # plot half way line # center circle\n",
    "    ax.plot([0,0],[-half_pitch_width,half_pitch_width],lc,linewidth=linewidth)\n",
    "    ax.scatter(0.0,0.0,marker='o',facecolor=lc,linewidth=0,s=markersize)\n",
    "    y = np.linspace(-1,1,50)*centre_circle_radius\n",
    "    x = np.sqrt(centre_circle_radius**2-y**2)\n",
    "    ax.plot(x,y,lc,linewidth=linewidth)\n",
    "    ax.plot(-x,y,lc,linewidth=linewidth)\n",
    "    for s in signs: # plots each line seperately\n",
    "        # plot pitch boundary\n",
    "        ax.plot([-half_pitch_length,half_pitch_length],[s*half_pitch_width,s*half_pitch_width],lc,linewidth=linewidth)\n",
    "        ax.plot([s*half_pitch_length,s*half_pitch_length],[-half_pitch_width,half_pitch_width],lc,linewidth=linewidth)\n",
    "        # goal posts & line\n",
    "        ax.plot( [s*half_pitch_length,s*half_pitch_length],[-goal_line_width/2.,goal_line_width/2.],pc+'s',markersize=6*markersize/20.,linewidth=linewidth)\n",
    "        # 6 yard box\n",
    "        ax.plot([s*half_pitch_length,s*half_pitch_length-s*box_length],[box_width/2.,box_width/2.],lc,linewidth=linewidth)\n",
    "        ax.plot([s*half_pitch_length,s*half_pitch_length-s*box_length],[-box_width/2.,-box_width/2.],lc,linewidth=linewidth)\n",
    "        ax.plot([s*half_pitch_length-s*box_length,s*half_pitch_length-s*box_length],[-box_width/2.,box_width/2.],lc,linewidth=linewidth)\n",
    "        # penalty area\n",
    "        ax.plot([s*half_pitch_length,s*half_pitch_length-s*area_length],[area_width/2.,area_width/2.],lc,linewidth=linewidth)\n",
    "        ax.plot([s*half_pitch_length,s*half_pitch_length-s*area_length],[-area_width/2.,-area_width/2.],lc,linewidth=linewidth)\n",
    "        ax.plot([s*half_pitch_length-s*area_length,s*half_pitch_length-s*area_length],[-area_width/2.,area_width/2.],lc,linewidth=linewidth)\n",
    "        # penalty spot\n",
    "        ax.scatter(s*half_pitch_length-s*penalty_spot,0.0,marker='o',facecolor=lc,linewidth=0,s=markersize)\n",
    "        # corner flags\n",
    "        y = np.linspace(0,1,50)*corner_radius\n",
    "        x = np.sqrt(corner_radius**2-y**2)\n",
    "        ax.plot(s*half_pitch_length-s*x,-half_pitch_width+y,lc,linewidth=linewidth)\n",
    "        ax.plot(s*half_pitch_length-s*x,half_pitch_width-y,lc,linewidth=linewidth)\n",
    "        # draw the D\n",
    "        y = np.linspace(-1,1,50)*D_length # D_length is the chord of the circle that defines the D\n",
    "        x = np.sqrt(D_radius**2-y**2)+D_pos\n",
    "        ax.plot(s*half_pitch_length-s*x,y,lc,linewidth=linewidth)\n",
    "        \n",
    "    # remove axis labels and ticks\n",
    "    ax.set_xticklabels([])\n",
    "    ax.set_yticklabels([])\n",
    "    ax.set_xticks([])\n",
    "    ax.set_yticks([])\n",
    "    # set axis limits\n",
    "    xmax = field_dimen[0]/2. + border_dimen[0]\n",
    "    ymax = field_dimen[1]/2. + border_dimen[1]\n",
    "    ax.set_xlim([-xmax,xmax])\n",
    "    ax.set_ylim([-ymax,ymax])\n",
    "    ax.set_axisbelow(True)\n",
    "    return fig,ax"
   ]
  },
  {
   "cell_type": "code",
   "execution_count": null,
   "metadata": {},
   "outputs": [],
   "source": [
    "def my_plot_pitch( field_dimen = (106.0,68.0), field_color ='white', linewidth=2, markersize=20):\n",
    "    \"\"\" plot_pitch\n",
    "    \n",
    "    Plots a soccer pitch. All distance units converted to meters.\n",
    "    \n",
    "    Parameters\n",
    "    -----------\n",
    "        field_dimen: (length, width) of field in meters. Default is (106,68)\n",
    "        field_color: color of field. options are {'green','white'}\n",
    "        linewidth  : width of lines. default = 2\n",
    "        markersize : size of markers (e.g. penalty spot, centre spot, posts). default = 20\n",
    "        \n",
    "    Returrns\n",
    "    -----------\n",
    "       fig,ax : figure and aixs objects (so that other data can be plotted onto the pitch)\n",
    "\n",
    "    \"\"\"\n",
    "    fig,ax = plt.subplots(figsize=(12,8)) # create a figure \n",
    "    # decide what color we want the field to be. Default is green, but can also choose white\n",
    "    if field_color=='green':\n",
    "        ax.set_facecolor('mediumseagreen')\n",
    "        lc = 'whitesmoke' # line color\n",
    "        pc = 'w' # 'spot' colors\n",
    "    elif field_color=='white':\n",
    "        lc = 'k'\n",
    "        pc = 'k'\n",
    "    # ALL DIMENSIONS IN m\n",
    "    border_dimen = (3,3) # include a border arround of the field of width 3m\n",
    "    meters_per_yard = 0.9144 # unit conversion from yards to meters\n",
    "    half_pitch_length = field_dimen[0]/2. # length of half pitch\n",
    "    half_pitch_width = field_dimen[1]/2. # width of half pitch\n",
    "    signs = [-1,1] \n",
    "    # Soccer field dimensions typically defined in yards, so we need to convert to meters\n",
    "    goal_line_width = 8*meters_per_yard\n",
    "    box_width = 20*meters_per_yard\n",
    "    box_length = 6*meters_per_yard\n",
    "    area_width = 44*meters_per_yard\n",
    "    area_length = 18*meters_per_yard\n",
    "    penalty_spot = 12*meters_per_yard\n",
    "    corner_radius = 1*meters_per_yard\n",
    "    D_length = 8*meters_per_yard\n",
    "    D_radius = 10*meters_per_yard\n",
    "    D_pos = 12*meters_per_yard\n",
    "    centre_circle_radius = 10*meters_per_yard\n",
    "    # plot half way line # center circle\n",
    "    ax.plot([0,0],[-half_pitch_width,half_pitch_width],lc,linewidth=linewidth)\n",
    "    ax.scatter(0.0,0.0,marker='o',facecolor=lc,linewidth=0,s=markersize)\n",
    "    y = np.linspace(-1,1,50)*centre_circle_radius\n",
    "    x = np.sqrt(centre_circle_radius**2-y**2)\n",
    "    ax.plot(x,y,lc,linewidth=linewidth)\n",
    "    ax.plot(-x,y,lc,linewidth=linewidth)\n",
    "    for s in signs: # plots each line seperately\n",
    "        # plot pitch boundary\n",
    "        ax.plot([-half_pitch_length,half_pitch_length],[s*half_pitch_width,s*half_pitch_width],lc,linewidth=linewidth)\n",
    "        ax.plot([s*half_pitch_length,s*half_pitch_length],[-half_pitch_width,half_pitch_width],lc,linewidth=linewidth)\n",
    "        # goal posts & line\n",
    "        ax.plot( [s*half_pitch_length,s*half_pitch_length],[-goal_line_width/2.,goal_line_width/2.],pc+'s',markersize=6*markersize/20.,linewidth=linewidth)\n",
    "        # 6 yard box\n",
    "        ax.plot([s*half_pitch_length,s*half_pitch_length-s*box_length],[box_width/2.,box_width/2.],lc,linewidth=linewidth)\n",
    "        ax.plot([s*half_pitch_length,s*half_pitch_length-s*box_length],[-box_width/2.,-box_width/2.],lc,linewidth=linewidth)\n",
    "        ax.plot([s*half_pitch_length-s*box_length,s*half_pitch_length-s*box_length],[-box_width/2.,box_width/2.],lc,linewidth=linewidth)\n",
    "        # penalty area\n",
    "        ax.plot([s*half_pitch_length,s*half_pitch_length-s*area_length],[area_width/2.,area_width/2.],lc,linewidth=linewidth)\n",
    "        ax.plot([s*half_pitch_length,s*half_pitch_length-s*area_length],[-area_width/2.,-area_width/2.],lc,linewidth=linewidth)\n",
    "        ax.plot([s*half_pitch_length-s*area_length,s*half_pitch_length-s*area_length],[-area_width/2.,area_width/2.],lc,linewidth=linewidth)\n",
    "        # penalty spot\n",
    "        ax.scatter(s*half_pitch_length-s*penalty_spot,0.0,marker='o',facecolor=lc,linewidth=0,s=markersize)\n",
    "        # corner flags\n",
    "        y = np.linspace(0,1,50)*corner_radius\n",
    "        x = np.sqrt(corner_radius**2-y**2)\n",
    "        ax.plot(s*half_pitch_length-s*x,-half_pitch_width+y,lc,linewidth=linewidth)\n",
    "        ax.plot(s*half_pitch_length-s*x,half_pitch_width-y,lc,linewidth=linewidth)\n",
    "        # draw the D\n",
    "        y = np.linspace(-1,1,50)*D_length # D_length is the chord of the circle that defines the D\n",
    "        x = np.sqrt(D_radius**2-y**2)+D_pos\n",
    "        ax.plot(s*half_pitch_length-s*x,y,lc,linewidth=linewidth)\n",
    "        \n",
    "    # remove axis labels and ticks\n",
    "    ax.set_xticklabels([])\n",
    "    ax.set_yticklabels([])\n",
    "    ax.set_xticks([])\n",
    "    ax.set_yticks([])\n",
    "    # set axis limits\n",
    "    xmax = field_dimen[0]/2. + border_dimen[0]\n",
    "    ymax = field_dimen[1]/2. + border_dimen[1]\n",
    "    ax.set_xlim([-xmax,xmax])\n",
    "    ax.set_ylim([-ymax,ymax])\n",
    "    ax.set_axisbelow(True)\n",
    "    return fig,ax"
   ]
  },
  {
   "cell_type": "code",
   "execution_count": 26,
   "metadata": {},
   "outputs": [],
   "source": [
    "# def plot_frame( hometeam, awayteam, figax=None, team_colors=('r','b'), field_dimen = (106.0,68.0), include_player_velocities=False, PlayerMarkerSize=10, PlayerAlpha=0.7, annotate=False ):\n",
    "#     \"\"\" plot_frame( hometeam, awayteam )\n",
    "    \n",
    "#     Plots a frame of Metrica tracking data (player positions and the ball) on a football pitch. All distances should be in meters.\n",
    "    \n",
    "#     Parameters\n",
    "#     -----------\n",
    "#         hometeam: row (i.e. instant) of the home team tracking data frame\n",
    "#         awayteam: row of the away team tracking data frame\n",
    "#         fig,ax: Can be used to pass in the (fig,ax) objects of a previously generated pitch. Set to (fig,ax) to use an existing figure, or None (the default) to generate a new pitch plot, \n",
    "#         team_colors: Tuple containing the team colors of the home & away team. Default is 'r' (red, home team) and 'b' (blue away team)\n",
    "#         field_dimen: tuple containing the length and width of the pitch in meters. Default is (106,68)\n",
    "#         include_player_velocities: Boolean variable that determines whether player velocities are also plotted (as quivers). Default is False\n",
    "#         PlayerMarkerSize: size of the individual player marlers. Default is 10\n",
    "#         PlayerAlpha: alpha (transparency) of player markers. Defaault is 0.7\n",
    "#         annotate: Boolean variable that determines with player jersey numbers are added to the plot (default is False)\n",
    "        \n",
    "#     Returrns\n",
    "#     -----------\n",
    "#        fig,ax : figure and aixs objects (so that other data can be plotted onto the pitch)\n",
    "\n",
    "#     \"\"\"\n",
    "#     if figax is None: # create new pitch \n",
    "#         fig,ax = plot_pitch( field_dimen = field_dimen )\n",
    "#     else: # overlay on a previously generated pitch\n",
    "#         fig,ax = figax # unpack tuple\n",
    "#     # plot home & away teams in order\n",
    "#     for team,color in zip( [hometeam,awayteam], team_colors) :\n",
    "#         x_columns = [c for c in team.keys() if c[-2:].lower()=='_x' and c!='ball_x'] # column header for player x positions\n",
    "#         y_columns = [c for c in team.keys() if c[-2:].lower()=='_y' and c!='ball_y'] # column header for player y positions\n",
    "#         ax.plot( team[x_columns], team[y_columns], color+'o', MarkerSize=PlayerMarkerSize, alpha=PlayerAlpha ) # plot player positions\n",
    "#         if include_player_velocities:\n",
    "#             vx_columns = ['{}_vx'.format(c[:-2]) for c in x_columns] # column header for player x positions\n",
    "#             vy_columns = ['{}_vy'.format(c[:-2]) for c in y_columns] # column header for player y positions\n",
    "#             ax.quiver( team[x_columns], team[y_columns], team[vx_columns], team[vy_columns], color=color, scale_units='inches', scale=10.,width=0.0015,headlength=5,headwidth=3,alpha=PlayerAlpha)\n",
    "#         if annotate:\n",
    "#             [ ax.text( team[x]+0.5, team[y]+0.5, x.split('_')[1], fontsize=10, color=color  ) for x,y in zip(x_columns,y_columns) if not ( np.isnan(team[x]) or np.isnan(team[y]) ) ] \n",
    "#     # plot ball\n",
    "#     ax.plot( hometeam['ball_x'], hometeam['ball_y'], 'wo', markeredgecolor='k', markeredgewidth=1.5, MarkerSize=6, alpha=1.0, LineWidth=0)\n",
    "#     return fig,ax"
   ]
  },
  {
   "cell_type": "code",
   "execution_count": 28,
   "metadata": {},
   "outputs": [],
   "source": [
    "# def my_plot_frame( hometeam, awayteam, figax=None, team_colors=('r','b'), field_dimen = (106.0,68.0), include_player_velocities=False, PlayerMarkerSize=10, PlayerAlpha=0.7, annotate=False ):\n",
    "#     \"\"\" plot_frame( hometeam, awayteam )\n",
    "    \n",
    "#     Plots a frame of Metrica tracking data (player positions and the ball) on a football pitch. All distances should be in meters.\n",
    "    \n",
    "#     Parameters\n",
    "#     -----------\n",
    "#         hometeam: row (i.e. instant) of the home team tracking data frame\n",
    "#         awayteam: row of the away team tracking data frame\n",
    "#         fig,ax: Can be used to pass in the (fig,ax) objects of a previously generated pitch. Set to (fig,ax) to use an existing figure, or None (the default) to generate a new pitch plot, \n",
    "#         team_colors: Tuple containing the team colors of the home & away team. Default is 'r' (red, home team) and 'b' (blue away team)\n",
    "#         field_dimen: tuple containing the length and width of the pitch in meters. Default is (106,68)\n",
    "#         include_player_velocities: Boolean variable that determines whether player velocities are also plotted (as quivers). Default is False\n",
    "#         PlayerMarkerSize: size of the individual player marlers. Default is 10\n",
    "#         PlayerAlpha: alpha (transparency) of player markers. Defaault is 0.7\n",
    "#         annotate: Boolean variable that determines with player jersey numbers are added to the plot (default is False)\n",
    "        \n",
    "#     Returrns\n",
    "#     -----------\n",
    "#        fig,ax : figure and aixs objects (so that other data can be plotted onto the pitch)\n",
    "\n",
    "#     \"\"\"\n",
    "#     # COMMENTING OUT FROM HERE TO...\n",
    "# #     if figax is None: # create new pitch \n",
    "# #         fig,ax = plot_pitch( field_dimen = field_dimen )\n",
    "# #     else: # overlay on a previously generated pitch\n",
    "# #         fig,ax = figax # unpack tuple\n",
    "#     # HERE.\n",
    "    \n",
    "#     # inserted this\n",
    "#     ax=figax # figax just an ax\n",
    "    \n",
    "#     # plot home & away teams in order\n",
    "#     for team,color in zip( [hometeam,awayteam], team_colors) :\n",
    "#         x_columns = [c for c in team.keys() if c[-2:].lower()=='_x' and c!='ball_x'] # column header for player x positions\n",
    "#         y_columns = [c for c in team.keys() if c[-2:].lower()=='_y' and c!='ball_y'] # column header for player y positions\n",
    "#         ax.plot( team[x_columns], team[y_columns], color+'o', MarkerSize=PlayerMarkerSize, alpha=PlayerAlpha ) # plot player positions\n",
    "#         if include_player_velocities:\n",
    "#             vx_columns = ['{}_vx'.format(c[:-2]) for c in x_columns] # column header for player x positions\n",
    "#             vy_columns = ['{}_vy'.format(c[:-2]) for c in y_columns] # column header for player y positions\n",
    "#             ax.quiver( team[x_columns], team[y_columns], team[vx_columns], team[vy_columns], color=color, scale_units='inches', scale=10.,width=0.0015,headlength=5,headwidth=3,alpha=PlayerAlpha)\n",
    "#         if annotate:\n",
    "#             [ ax.text( team[x]+0.5, team[y]+0.5, x.split('_')[1], fontsize=10, color=color  ) for x,y in zip(x_columns,y_columns) if not ( np.isnan(team[x]) or np.isnan(team[y]) ) ] \n",
    "#     # plot ball\n",
    "# #     ax.plot( hometeam['ball_x'], hometeam['ball_y'], 'ko', MarkerSize=6, alpha=1.0, LineWidth=0)\n",
    "#     return ax.plot( hometeam['ball_x'], hometeam['ball_y'], 'ko', MarkerSize=6, alpha=1.0, LineWidth=0)# original fix, ax"
   ]
  },
  {
   "cell_type": "code",
   "execution_count": 29,
   "metadata": {},
   "outputs": [],
   "source": [
    "# def my_generate_pitch_control_for_frame(frame, tracking_home, tracking_away, params, GK_numbers, field_dimen = (106.,68.,), n_grid_cells_x = 50, offsides=True):\n",
    "#     \"\"\" generate_pitch_control_for_event\n",
    "    \n",
    "#     Evaluates pitch control surface over the entire field at the moment of the given event (determined by the index of the event passed as an input)\n",
    "    \n",
    "#     Parameters\n",
    "#     -----------\n",
    "#         event_id: Index (not row) of the event that describes the instant at which the pitch control surface should be calculated\n",
    "#         events: Dataframe containing the event data\n",
    "#         tracking_home: tracking DataFrame for the Home team\n",
    "#         tracking_away: tracking DataFrame for the Away team\n",
    "#         params: Dictionary of model parameters (default model parameters can be generated using default_model_params() )\n",
    "#         GK_numbers: tuple containing the player id of the goalkeepers for the (home team, away team)\n",
    "#         field_dimen: tuple containing the length and width of the pitch in meters. Default is (106,68)\n",
    "#         n_grid_cells_x: Number of pixels in the grid (in the x-direction) that covers the surface. Default is 50.\n",
    "#                         n_grid_cells_y will be calculated based on n_grid_cells_x and the field dimensions\n",
    "#         offsides: If True, find and remove offside atacking players from the calculation. Default is True.\n",
    "        \n",
    "#     UPDATE (tutorial 4): Note new input arguments ('GK_numbers' and 'offsides')\n",
    "        \n",
    "#     Returrns\n",
    "#     -----------\n",
    "#         PPCFa: Pitch control surface (dimen (n_grid_cells_x,n_grid_cells_y) ) containing pitch control probability for the attcking team.\n",
    "#                Surface for the defending team is just 1-PPCFa.\n",
    "#         xgrid: Positions of the pixels in the x-direction (field length)\n",
    "#         ygrid: Positions of the pixels in the y-direction (field width)\n",
    "\n",
    "#     \"\"\"\n",
    "#     # testing\n",
    "#     pass_frame = frame\n",
    "    \n",
    "#     # commenting out for now to...\n",
    "#     # get the details of the event (frame, team in possession, ball_start_position)\n",
    "# #     pass_frame = events.loc[event_id]['Start Frame']\n",
    "# #     pass_team = events.loc[event_id].Team\n",
    "#     # here.\n",
    "    \n",
    "#     # WHAT DO I DO ABOUT NANS HERE??\n",
    "#     ball_start_pos = np.array([events.loc[event_id]['Start X'],events.loc[event_id]['Start Y']]) # commenting out\n",
    "#     # break the pitch down into a grid\n",
    "#     n_grid_cells_y = int(n_grid_cells_x*field_dimen[1]/field_dimen[0])\n",
    "#     dx = field_dimen[0]/n_grid_cells_x\n",
    "#     dy = field_dimen[1]/n_grid_cells_y\n",
    "#     xgrid = np.arange(n_grid_cells_x)*dx - field_dimen[0]/2. + dx/2.\n",
    "#     ygrid = np.arange(n_grid_cells_y)*dy - field_dimen[1]/2. + dy/2.\n",
    "#     # initialise pitch control grids for attacking and defending teams \n",
    "#     PPCFa = np.zeros( shape = (len(ygrid), len(xgrid)) )\n",
    "#     PPCFd = np.zeros( shape = (len(ygrid), len(xgrid)) )\n",
    "    \n",
    "#     # TEST - initialize regardless of who has ball...\n",
    "#     # doesn't seem to matter who has ball anyway\n",
    "#     # adding mpc. to initialise_players\n",
    "#     attacking_players = mpc.initialise_players(tracking_home.loc[pass_frame],'Home',params,GK_numbers[0])\n",
    "#     defending_players = mpc.initialise_players(tracking_away.loc[pass_frame],'Away',params,GK_numbers[1])\n",
    "    \n",
    "#     # commenting out from here to...\n",
    "#     # initialise player positions and velocities for pitch control calc (so that we're not repeating this at each grid cell position)\n",
    "# #     if pass_team=='Home':\n",
    "# #         attacking_players = initialise_players(tracking_home.loc[pass_frame],'Home',params,GK_numbers[0])\n",
    "# #         defending_players = initialise_players(tracking_away.loc[pass_frame],'Away',params,GK_numbers[1])\n",
    "# #     elif pass_team=='Away':\n",
    "# #         defending_players = initialise_players(tracking_home.loc[pass_frame],'Home',params,GK_numbers[0])\n",
    "# #         attacking_players = initialise_players(tracking_away.loc[pass_frame],'Away',params,GK_numbers[1])\n",
    "# #     else:\n",
    "# #         assert False, \"Team in possession must be either home or away\"\n",
    "#     # here.\n",
    "        \n",
    "#     # find any attacking players that are offside and remove them from the pitch control calculation\n",
    "#     if offsides:\n",
    "#         attacking_players = mpc.check_offsides( attacking_players, defending_players, ball_start_pos, GK_numbers)\n",
    "#     # calculate pitch pitch control model at each location on the pitch\n",
    "#     for i in range( len(ygrid) ):\n",
    "#         for j in range( len(xgrid) ):\n",
    "#             target_position = np.array( [xgrid[j], ygrid[i]] )\n",
    "#             PPCFa[i,j],PPCFd[i,j] = mpc.calculate_pitch_control_at_target(target_position, attacking_players, defending_players, ball_start_pos, params)\n",
    "#     # check probabilitiy sums within convergence\n",
    "#     checksum = np.sum( PPCFa + PPCFd ) / float(n_grid_cells_y*n_grid_cells_x ) \n",
    "#     assert 1-checksum < params['model_converge_tol'], \"Checksum failed: %1.3f\" % (1-checksum)\n",
    "#     return PPCFa,xgrid,ygrid\n",
    "\n"
   ]
  },
  {
   "cell_type": "code",
   "execution_count": 30,
   "metadata": {},
   "outputs": [],
   "source": [
    "# # def my_plot_pitchcontrol_for_frame( frame, tracking_home, tracking_away, ax, PPCF, alpha = 0.7, include_player_velocities=True, annotate=False, field_dimen = (106.0,68)):\n",
    "# #     \"\"\" plot_pitchcontrol_for_event( event_id, events,  tracking_home, tracking_away, PPCF )\n",
    "    \n",
    "# #     Plots the pitch control surface at the instant of the event given by the event_id. Player and ball positions are overlaid.\n",
    "    \n",
    "# #     Parameters\n",
    "# #     -----------\n",
    "# #         event_id: Index (not row) of the event that describes the instant at which the pitch control surface should be calculated\n",
    "# #         events: Dataframe containing the event data\n",
    "# #         tracking_home: (entire) tracking DataFrame for the Home team\n",
    "# #         tracking_away: (entire) tracking DataFrame for the Away team\n",
    "# #         PPCF: Pitch control surface (dimen (n_grid_cells_x,n_grid_cells_y) ) containing pitch control probability for the attcking team (as returned by the generate_pitch_control_for_event in Metrica_PitchControl)\n",
    "# #         alpha: alpha (transparency) of player markers. Default is 0.7\n",
    "# #         include_player_velocities: Boolean variable that determines whether player velocities are also plotted (as quivers). Default is False\n",
    "# #         annotate: Boolean variable that determines with player jersey numbers are added to the plot (default is False)\n",
    "# #         field_dimen: tuple containing the length and width of the pitch in meters. Default is (106,68)\n",
    "        \n",
    "# #     NB: this function no longer requires xgrid and ygrid as an input\n",
    "        \n",
    "# #     Returrns\n",
    "# #     -----------\n",
    "# #        fig,ax : figure and aixs objects (so that other data can be plotted onto the pitch)\n",
    "\n",
    "# #     \"\"\"    \n",
    "# #     figobjs = [] #added this\n",
    "# #     # can I get a frame from tracking_home\n",
    "# #     pass_frame = frame\n",
    "# # #     # pick a pass at which to generate the pitch control surface\n",
    "# # #     pass_frame = events.loc[event_id]['Start Frame']\n",
    "# # #     pass_team = events.loc[event_id].Team\n",
    "    \n",
    "# #     # plot frame and event\n",
    "# # #     fig,ax = plot_pitch(field_color='white', field_dimen = field_dimen)\n",
    "# #     # switched figax from  (fig,ax) to ax and assigned to variable objs\n",
    "# #     objs = my_plot_frame( tracking_home.loc[pass_frame], tracking_away.loc[pass_frame], figax=ax, PlayerAlpha=alpha, include_player_velocities=include_player_velocities, annotate=annotate )\n",
    "# # #     plot_events( events.loc[event_id:event_id], figax = (fig,ax), indicators = ['Marker','Arrow'], annotate=False, color= 'k', alpha=1 )\n",
    "# #     figobjs.append(objs)\n",
    "# #     # plot pitch control surface\n",
    "# # #     if pass_team=='Home':\n",
    "# # #         cmap = 'bwr'\n",
    "# # #     else:\n",
    "# # #         cmap = 'bwr_r'\n",
    "# # #     ax.imshow(np.flipud(PPCF), extent=(-field_dimen[0]/2., field_dimen[0]/2., -field_dimen[1]/2., field_dimen[1]/2.),interpolation='spline36',vmin=0.0,vmax=1.0,cmap='bwr',alpha=0.5)\n",
    "# #     objs = ax.imshow(np.flipud(PPCF), extent=(-field_dimen[0]/2., field_dimen[0]/2., -field_dimen[1]/2., field_dimen[1]/2.),interpolation='spline36',vmin=0.0,vmax=1.0,cmap='bwr',alpha=0.5)\n",
    "# #     figobjs.append(objs)\n",
    "# #     return figobjs #list of objs in figobjs\n",
    "\n",
    "# def my_plot_pitchcontrol_for_frame(frame, tracking_home, tracking_away, PPCF, alpha = 0.7, include_player_velocities=True, annotate=False, field_dimen = (106.0,68)):\n",
    "#     \"\"\" plot_pitchcontrol_for_event( event_id, events,  tracking_home, tracking_away, PPCF )\n",
    "    \n",
    "#     Plots the pitch control surface at the instant of the event given by the event_id. Player and ball positions are overlaid.\n",
    "    \n",
    "#     Parameters\n",
    "#     -----------\n",
    "#         event_id: Index (not row) of the event that describes the instant at which the pitch control surface should be calculated\n",
    "#         events: Dataframe containing the event data\n",
    "#         tracking_home: (entire) tracking DataFrame for the Home team\n",
    "#         tracking_away: (entire) tracking DataFrame for the Away team\n",
    "#         PPCF: Pitch control surface (dimen (n_grid_cells_x,n_grid_cells_y) ) containing pitch control probability for the attcking team (as returned by the generate_pitch_control_for_event in Metrica_PitchControl)\n",
    "#         alpha: alpha (transparency) of player markers. Default is 0.7\n",
    "#         include_player_velocities: Boolean variable that determines whether player velocities are also plotted (as quivers). Default is False\n",
    "#         annotate: Boolean variable that determines with player jersey numbers are added to the plot (default is False)\n",
    "#         field_dimen: tuple containing the length and width of the pitch in meters. Default is (106,68)\n",
    "        \n",
    "#     NB: this function no longer requires xgrid and ygrid as an input\n",
    "        \n",
    "#     Returrns\n",
    "#     -----------\n",
    "#        fig,ax : figure and aixs objects (so that other data can be plotted onto the pitch)\n",
    "\n",
    "#     \"\"\"    \n",
    "\n",
    "#     # pick a pass at which to generate the pitch control surface\n",
    "#     pass_frame = frame\n",
    "# #     pass_team = events.loc[event_id].Team\n",
    "    \n",
    "#     # plot frame and event\n",
    "#     fig,ax = mviz.plot_pitch(field_color='white', field_dimen = field_dimen)\n",
    "#     plot_frame( tracking_home.loc[pass_frame], tracking_away.loc[pass_frame], figax=(fig,ax), PlayerAlpha=alpha, include_player_velocities=include_player_velocities, annotate=annotate )\n",
    "# #     plot_events( events.loc[event_id:event_id], figax = (fig,ax), indicators = ['Marker','Arrow'], annotate=False, color= 'k', alpha=1 )\n",
    "    \n",
    "#     # plot pitch control surface\n",
    "# #     if pass_team=='Home':\n",
    "# #         cmap = 'bwr'\n",
    "# #     else:\n",
    "# #         cmap = 'bwr_r'\n",
    "#     ax.imshow(np.flipud(PPCF), extent=(-field_dimen[0]/2., field_dimen[0]/2., -field_dimen[1]/2., field_dimen[1]/2.),interpolation='spline36',vmin=0.0,vmax=1.0,cmap='bwr',alpha=0.5)\n",
    "\n",
    "#     return fig,ax\n",
    "\n"
   ]
  },
  {
   "cell_type": "code",
   "execution_count": 31,
   "metadata": {},
   "outputs": [
    {
     "data": {
      "text/html": [
       "<div>\n",
       "<style scoped>\n",
       "    .dataframe tbody tr th:only-of-type {\n",
       "        vertical-align: middle;\n",
       "    }\n",
       "\n",
       "    .dataframe tbody tr th {\n",
       "        vertical-align: top;\n",
       "    }\n",
       "\n",
       "    .dataframe thead th {\n",
       "        text-align: right;\n",
       "    }\n",
       "</style>\n",
       "<table border=\"1\" class=\"dataframe\">\n",
       "  <thead>\n",
       "    <tr style=\"text-align: right;\">\n",
       "      <th></th>\n",
       "      <th>Team</th>\n",
       "      <th>Type</th>\n",
       "      <th>Subtype</th>\n",
       "      <th>Period</th>\n",
       "      <th>Start Frame</th>\n",
       "      <th>Start Time [s]</th>\n",
       "      <th>End Frame</th>\n",
       "      <th>End Time [s]</th>\n",
       "      <th>From</th>\n",
       "      <th>To</th>\n",
       "      <th>Start X</th>\n",
       "      <th>Start Y</th>\n",
       "      <th>End X</th>\n",
       "      <th>End Y</th>\n",
       "    </tr>\n",
       "  </thead>\n",
       "  <tbody>\n",
       "    <tr>\n",
       "      <th>0</th>\n",
       "      <td>Away</td>\n",
       "      <td>SET PIECE</td>\n",
       "      <td>KICK OFF</td>\n",
       "      <td>1</td>\n",
       "      <td>51</td>\n",
       "      <td>2.04</td>\n",
       "      <td>51</td>\n",
       "      <td>2.04</td>\n",
       "      <td>Player23</td>\n",
       "      <td>NaN</td>\n",
       "      <td>NaN</td>\n",
       "      <td>NaN</td>\n",
       "      <td>NaN</td>\n",
       "      <td>NaN</td>\n",
       "    </tr>\n",
       "    <tr>\n",
       "      <th>1</th>\n",
       "      <td>Away</td>\n",
       "      <td>PASS</td>\n",
       "      <td>NaN</td>\n",
       "      <td>1</td>\n",
       "      <td>51</td>\n",
       "      <td>2.04</td>\n",
       "      <td>87</td>\n",
       "      <td>3.48</td>\n",
       "      <td>Player23</td>\n",
       "      <td>Player20</td>\n",
       "      <td>0.00</td>\n",
       "      <td>-0.00</td>\n",
       "      <td>-10.60</td>\n",
       "      <td>-0.68</td>\n",
       "    </tr>\n",
       "    <tr>\n",
       "      <th>2</th>\n",
       "      <td>Away</td>\n",
       "      <td>PASS</td>\n",
       "      <td>NaN</td>\n",
       "      <td>1</td>\n",
       "      <td>146</td>\n",
       "      <td>5.84</td>\n",
       "      <td>186</td>\n",
       "      <td>7.44</td>\n",
       "      <td>Player20</td>\n",
       "      <td>Player18</td>\n",
       "      <td>-7.42</td>\n",
       "      <td>-0.00</td>\n",
       "      <td>-6.36</td>\n",
       "      <td>19.04</td>\n",
       "    </tr>\n",
       "    <tr>\n",
       "      <th>3</th>\n",
       "      <td>Away</td>\n",
       "      <td>PASS</td>\n",
       "      <td>NaN</td>\n",
       "      <td>1</td>\n",
       "      <td>248</td>\n",
       "      <td>9.92</td>\n",
       "      <td>283</td>\n",
       "      <td>11.32</td>\n",
       "      <td>Player18</td>\n",
       "      <td>Player17</td>\n",
       "      <td>-3.18</td>\n",
       "      <td>21.08</td>\n",
       "      <td>-20.14</td>\n",
       "      <td>14.96</td>\n",
       "    </tr>\n",
       "    <tr>\n",
       "      <th>4</th>\n",
       "      <td>Away</td>\n",
       "      <td>PASS</td>\n",
       "      <td>NaN</td>\n",
       "      <td>1</td>\n",
       "      <td>316</td>\n",
       "      <td>12.64</td>\n",
       "      <td>346</td>\n",
       "      <td>13.84</td>\n",
       "      <td>Player17</td>\n",
       "      <td>Player16</td>\n",
       "      <td>-22.26</td>\n",
       "      <td>12.24</td>\n",
       "      <td>-25.44</td>\n",
       "      <td>-5.44</td>\n",
       "    </tr>\n",
       "    <tr>\n",
       "      <th>...</th>\n",
       "      <td>...</td>\n",
       "      <td>...</td>\n",
       "      <td>...</td>\n",
       "      <td>...</td>\n",
       "      <td>...</td>\n",
       "      <td>...</td>\n",
       "      <td>...</td>\n",
       "      <td>...</td>\n",
       "      <td>...</td>\n",
       "      <td>...</td>\n",
       "      <td>...</td>\n",
       "      <td>...</td>\n",
       "      <td>...</td>\n",
       "      <td>...</td>\n",
       "    </tr>\n",
       "    <tr>\n",
       "      <th>1930</th>\n",
       "      <td>Away</td>\n",
       "      <td>BALL LOST</td>\n",
       "      <td>INTERCEPTION</td>\n",
       "      <td>2</td>\n",
       "      <td>140122</td>\n",
       "      <td>5604.88</td>\n",
       "      <td>140183</td>\n",
       "      <td>5607.32</td>\n",
       "      <td>Player21</td>\n",
       "      <td>NaN</td>\n",
       "      <td>-4.24</td>\n",
       "      <td>18.36</td>\n",
       "      <td>22.26</td>\n",
       "      <td>-17.68</td>\n",
       "    </tr>\n",
       "    <tr>\n",
       "      <th>1931</th>\n",
       "      <td>Home</td>\n",
       "      <td>CHALLENGE</td>\n",
       "      <td>AERIAL-LOST</td>\n",
       "      <td>2</td>\n",
       "      <td>140180</td>\n",
       "      <td>5607.20</td>\n",
       "      <td>140180</td>\n",
       "      <td>5607.20</td>\n",
       "      <td>Player1</td>\n",
       "      <td>NaN</td>\n",
       "      <td>20.14</td>\n",
       "      <td>-13.60</td>\n",
       "      <td>NaN</td>\n",
       "      <td>NaN</td>\n",
       "    </tr>\n",
       "    <tr>\n",
       "      <th>1932</th>\n",
       "      <td>Away</td>\n",
       "      <td>CHALLENGE</td>\n",
       "      <td>AERIAL-LOST</td>\n",
       "      <td>2</td>\n",
       "      <td>140183</td>\n",
       "      <td>5607.32</td>\n",
       "      <td>140183</td>\n",
       "      <td>5607.32</td>\n",
       "      <td>Player24</td>\n",
       "      <td>NaN</td>\n",
       "      <td>19.08</td>\n",
       "      <td>-13.60</td>\n",
       "      <td>NaN</td>\n",
       "      <td>NaN</td>\n",
       "    </tr>\n",
       "    <tr>\n",
       "      <th>1933</th>\n",
       "      <td>Home</td>\n",
       "      <td>RECOVERY</td>\n",
       "      <td>NaN</td>\n",
       "      <td>2</td>\n",
       "      <td>140211</td>\n",
       "      <td>5608.44</td>\n",
       "      <td>140211</td>\n",
       "      <td>5608.44</td>\n",
       "      <td>Player12</td>\n",
       "      <td>NaN</td>\n",
       "      <td>16.96</td>\n",
       "      <td>-12.24</td>\n",
       "      <td>NaN</td>\n",
       "      <td>NaN</td>\n",
       "    </tr>\n",
       "    <tr>\n",
       "      <th>1934</th>\n",
       "      <td>Home</td>\n",
       "      <td>BALL OUT</td>\n",
       "      <td>CLEARANCE</td>\n",
       "      <td>2</td>\n",
       "      <td>140265</td>\n",
       "      <td>5610.60</td>\n",
       "      <td>140298</td>\n",
       "      <td>5611.92</td>\n",
       "      <td>Player12</td>\n",
       "      <td>NaN</td>\n",
       "      <td>18.02</td>\n",
       "      <td>-23.12</td>\n",
       "      <td>9.54</td>\n",
       "      <td>-36.72</td>\n",
       "    </tr>\n",
       "  </tbody>\n",
       "</table>\n",
       "<p>1935 rows × 14 columns</p>\n",
       "</div>"
      ],
      "text/plain": [
       "      Team       Type       Subtype  Period  Start Frame  Start Time [s]  \\\n",
       "0     Away  SET PIECE      KICK OFF       1           51            2.04   \n",
       "1     Away       PASS           NaN       1           51            2.04   \n",
       "2     Away       PASS           NaN       1          146            5.84   \n",
       "3     Away       PASS           NaN       1          248            9.92   \n",
       "4     Away       PASS           NaN       1          316           12.64   \n",
       "...    ...        ...           ...     ...          ...             ...   \n",
       "1930  Away  BALL LOST  INTERCEPTION       2       140122         5604.88   \n",
       "1931  Home  CHALLENGE   AERIAL-LOST       2       140180         5607.20   \n",
       "1932  Away  CHALLENGE   AERIAL-LOST       2       140183         5607.32   \n",
       "1933  Home   RECOVERY           NaN       2       140211         5608.44   \n",
       "1934  Home   BALL OUT     CLEARANCE       2       140265         5610.60   \n",
       "\n",
       "      End Frame  End Time [s]      From        To  Start X  Start Y  End X  \\\n",
       "0            51          2.04  Player23       NaN      NaN      NaN    NaN   \n",
       "1            87          3.48  Player23  Player20     0.00    -0.00 -10.60   \n",
       "2           186          7.44  Player20  Player18    -7.42    -0.00  -6.36   \n",
       "3           283         11.32  Player18  Player17    -3.18    21.08 -20.14   \n",
       "4           346         13.84  Player17  Player16   -22.26    12.24 -25.44   \n",
       "...         ...           ...       ...       ...      ...      ...    ...   \n",
       "1930     140183       5607.32  Player21       NaN    -4.24    18.36  22.26   \n",
       "1931     140180       5607.20   Player1       NaN    20.14   -13.60    NaN   \n",
       "1932     140183       5607.32  Player24       NaN    19.08   -13.60    NaN   \n",
       "1933     140211       5608.44  Player12       NaN    16.96   -12.24    NaN   \n",
       "1934     140298       5611.92  Player12       NaN    18.02   -23.12   9.54   \n",
       "\n",
       "      End Y  \n",
       "0       NaN  \n",
       "1     -0.68  \n",
       "2     19.04  \n",
       "3     14.96  \n",
       "4     -5.44  \n",
       "...     ...  \n",
       "1930 -17.68  \n",
       "1931    NaN  \n",
       "1932    NaN  \n",
       "1933    NaN  \n",
       "1934 -36.72  \n",
       "\n",
       "[1935 rows x 14 columns]"
      ]
     },
     "execution_count": 31,
     "metadata": {},
     "output_type": "execute_result"
    }
   ],
   "source": [
    "events"
   ]
  },
  {
   "cell_type": "code",
   "execution_count": 32,
   "metadata": {},
   "outputs": [],
   "source": [
    "frame = 140180\n",
    "pass_frame = frame\n",
    "# events.loc[frame]['Start Frame']==pass_frame\n",
    "# pass_team = events['Team'][events['Start Frame']==pass_frame]"
   ]
  },
  {
   "cell_type": "code",
   "execution_count": 33,
   "metadata": {},
   "outputs": [],
   "source": [
    "def frame_to_event(frame):\n",
    "    if len(events.index[events['Start Frame']==frame])==0:\n",
    "        return None\n",
    "    else:\n",
    "        return events.index[events['Start Frame']==frame][0]"
   ]
  },
  {
   "cell_type": "code",
   "execution_count": 34,
   "metadata": {},
   "outputs": [
    {
     "name": "stdout",
     "output_type": "stream",
     "text": [
      "None\n",
      "1933\n"
     ]
    }
   ],
   "source": [
    "frame = 140212\n",
    "print(frame_to_event(frame))\n",
    "frame = 140211\n",
    "print(frame_to_event(frame))"
   ]
  },
  {
   "cell_type": "code",
   "execution_count": 35,
   "metadata": {},
   "outputs": [],
   "source": [
    "event = 1934\n",
    "def event_to_frame(event):\n",
    "    return events['Start Frame'][events.index[event]]\n",
    "#     return events['Start Frame'][1933]"
   ]
  },
  {
   "cell_type": "code",
   "execution_count": 36,
   "metadata": {},
   "outputs": [
    {
     "data": {
      "text/plain": [
       "140265"
      ]
     },
     "execution_count": 36,
     "metadata": {},
     "output_type": "execute_result"
    }
   ],
   "source": [
    "event_to_frame(event)"
   ]
  },
  {
   "cell_type": "code",
   "execution_count": 37,
   "metadata": {},
   "outputs": [
    {
     "name": "stdout",
     "output_type": "stream",
     "text": [
      "Pass EPV added: 0.09\n"
     ]
    },
    {
     "data": {
      "image/png": "[encoded data removed]",
      "text/plain": [
       "<Figure size 864x576 with 1 Axes>"
      ]
     },
     "metadata": {},
     "output_type": "display_data"
    }
   ],
   "source": [
    "event_number = 1753 #home team assist to header off target\n",
    "EEPV_added, EPV_diff = mepv.calculate_epv_added(event_number, events, tracking_home, tracking_away, GK_numbers, EPV, params)\n",
    "PPCF,xgrid,ygrid = mpc.generate_pitch_control_for_event(event_number, events, tracking_home, tracking_away, params, GK_numbers, field_dimen = (106.,68.,), n_grid_cells_x = 50, offsides=True)\n",
    "fig,ax = mviz.plot_EPV_for_event(event_number, events, tracking_home, tracking_away, PPCF, EPV, annotate=False)\n",
    "# fig.suptitle('Pass EPV added: %1.3f' % EEPV_added, y=0.95)\n",
    "print(f'Pass EPV added: {EEPV_added:.2f}')\n",
    "# mviz.plot_pitchcontrol_for_event( event_number, events,  tracking_home, tracking_away, PPCF, annotate=False)"
   ]
  },
  {
   "cell_type": "code",
   "execution_count": 38,
   "metadata": {},
   "outputs": [],
   "source": [
    "# returns event_type, event_subtype, eventid\n",
    "\n",
    "def my_event_info(pass_frame):    \n",
    "    # check if there is any event for this frame\n",
    "    if events['Type'].loc[events['Start Frame']==pass_frame].empty:\n",
    "        return None\n",
    "\n",
    "    # check if there is more than one event for this frame   \n",
    "    elif len(events['Type'].loc[events['Start Frame']==pass_frame]) > 1:\n",
    "        curr_type = events['Type'].loc[events['Start Frame']==pass_frame].iloc[1]\n",
    "        curr_type = pd.Series([curr_type])\n",
    "        curr_eventid = events.index[events['Start Frame']==pass_frame].to_list()[1]\n",
    "\n",
    "        if events['Subtype'].loc[events['Start Frame']==pass_frame].notnull().all():\n",
    "            curr_subtype = events['Subtype'].loc[events['Start Frame']==pass_frame]\n",
    "        else:\n",
    "            curr_subtype = ''\n",
    "    \n",
    "    # only one event for this frame\n",
    "    else:\n",
    "        curr_type = events['Type'].loc[events['Start Frame']==pass_frame]\n",
    "        curr_eventid = events.index[events['Start Frame']==pass_frame].to_list()[0]\n",
    "\n",
    "        if events['Subtype'].loc[events['Start Frame']==pass_frame].notnull().all():\n",
    "            curr_subtype = events['Subtype'].loc[events['Start Frame']==pass_frame]\n",
    "        else:\n",
    "            curr_subtype = ''\n",
    "    \n",
    "    return curr_type, curr_subtype, curr_eventid"
   ]
  },
  {
   "cell_type": "code",
   "execution_count": 39,
   "metadata": {},
   "outputs": [
    {
     "data": {
      "text/plain": [
       "'PASS'"
      ]
     },
     "execution_count": 39,
     "metadata": {},
     "output_type": "execute_result"
    }
   ],
   "source": [
    "curr_type, curr_subtype, curr_eventid = my_event_info(51)\n",
    "curr_type.item()"
   ]
  },
  {
   "cell_type": "code",
   "execution_count": 40,
   "metadata": {},
   "outputs": [
    {
     "data": {
      "text/plain": [
       "PASS              964\n",
       "CHALLENGE         311\n",
       "RECOVERY          248\n",
       "BALL LOST         233\n",
       "SET PIECE          80\n",
       "BALL OUT           49\n",
       "SHOT               24\n",
       "FAULT RECEIVED     20\n",
       "CARD                6\n",
       "Name: Type, dtype: int64"
      ]
     },
     "execution_count": 40,
     "metadata": {},
     "output_type": "execute_result"
    }
   ],
   "source": [
    "events['Type'].value_counts()"
   ]
  },
  {
   "cell_type": "code",
   "execution_count": 41,
   "metadata": {},
   "outputs": [
    {
     "data": {
      "text/plain": [
       "83           OFF TARGET-OUT\n",
       "198          ON TARGET-GOAL\n",
       "252         ON TARGET-SAVED\n",
       "297                 BLOCKED\n",
       "431     HEAD-OFF TARGET-OUT\n",
       "472         ON TARGET-SAVED\n",
       "823          ON TARGET-GOAL\n",
       "852     HEAD-OFF TARGET-OUT\n",
       "962     OFF TARGET-HEAD-OUT\n",
       "980         ON TARGET-SAVED\n",
       "1026         OFF TARGET-OUT\n",
       "1058         OFF TARGET-OUT\n",
       "1118    HEAD-ON TARGET-GOAL\n",
       "1277         OFF TARGET-OUT\n",
       "1335        ON TARGET-SAVED\n",
       "1479        ON TARGET-SAVED\n",
       "1666                BLOCKED\n",
       "1671         ON TARGET-GOAL\n",
       "1681    HEAD-OFF TARGET-OUT\n",
       "1723         ON TARGET-GOAL\n",
       "1756    HEAD-OFF TARGET-OUT\n",
       "1843         OFF TARGET-OUT\n",
       "1903    HEAD-OFF TARGET-OUT\n",
       "1927        ON TARGET-SAVED\n",
       "Name: Subtype, dtype: object"
      ]
     },
     "execution_count": 41,
     "metadata": {},
     "output_type": "execute_result"
    }
   ],
   "source": [
    "events['Subtype'][events['Type']=='SHOT']"
   ]
  },
  {
   "cell_type": "code",
   "execution_count": 42,
   "metadata": {},
   "outputs": [
    {
     "data": {
      "text/plain": [
       "TACKLE-LOST              51\n",
       "GROUND-LOST              48\n",
       "GROUND-WON               43\n",
       "TACKLE-WON               37\n",
       "AERIAL-WON               35\n",
       "AERIAL-LOST              30\n",
       "GROUND-FAULT-LOST        17\n",
       "GROUND-FAULT-WON         11\n",
       "TACKLE-FAULT-WON          9\n",
       "TACKLE-FAULT-LOST         6\n",
       "AERIAL-FAULT-LOST         4\n",
       "GROUND-ADVANTAGE-LOST     4\n",
       "GROUND                    4\n",
       "TACKLE-ADVANTAGE-WON      3\n",
       "AERIAL-FAULT-WON          3\n",
       "GROUND-ADVANTAGE-WON      3\n",
       "DRIBBLE-WON               1\n",
       "TACKLE-ADVANTAGE-LOST     1\n",
       "FAULT-WON                 1\n",
       "Name: Subtype, dtype: int64"
      ]
     },
     "execution_count": 42,
     "metadata": {},
     "output_type": "execute_result"
    }
   ],
   "source": [
    "events['Subtype'][events['Type']=='CHALLENGE'].value_counts()"
   ]
  },
  {
   "cell_type": "code",
   "execution_count": 43,
   "metadata": {},
   "outputs": [
    {
     "data": {
      "text/plain": [
       "INTERCEPTION                   259\n",
       "THEFT                           69\n",
       "TACKLE-LOST                     51\n",
       "GROUND-LOST                     48\n",
       "GROUND-WON                      43\n",
       "HEAD                            41\n",
       "TACKLE-WON                      37\n",
       "AERIAL-WON                      35\n",
       "THROW IN                        32\n",
       "FREE KICK                       30\n",
       "AERIAL-LOST                     30\n",
       "GROUND-FAULT-LOST               17\n",
       "HEAD-INTERCEPTION               15\n",
       "GOAL KICK                       12\n",
       "GROUND-FAULT-WON                11\n",
       "TACKLE-FAULT-WON                 9\n",
       "CROSS                            8\n",
       "CROSS-INTERCEPTION               8\n",
       "KICK OFF                         7\n",
       "CLEARANCE                        7\n",
       "CORNER KICK                      7\n",
       "YELLOW                           6\n",
       "FORCED                           6\n",
       "TACKLE-FAULT-LOST                6\n",
       "SAVED                            6\n",
       "ON TARGET-SAVED                  6\n",
       "BLOCKED                          5\n",
       "HEAD-OFF TARGET-OUT              5\n",
       "OFF TARGET-OUT                   5\n",
       "GROUND-ADVANTAGE-LOST            4\n",
       "ON TARGET-GOAL                   4\n",
       "GOAL KICK-INTERCEPTION           4\n",
       "AERIAL-FAULT-LOST                4\n",
       "GROUND                           4\n",
       "GROUND-ADVANTAGE-WON             3\n",
       "AERIAL-FAULT-WON                 3\n",
       "HAND BALL                        3\n",
       "TACKLE-ADVANTAGE-WON             3\n",
       "FREE KICK-RETAKEN                2\n",
       "KICK OFF-RETAKEN                 1\n",
       "TACKLE-ADVANTAGE-LOST            1\n",
       "OFFSIDE                          1\n",
       "HEAD-ON TARGET-GOAL              1\n",
       "OFF TARGET-HEAD-OUT              1\n",
       "DRIBBLE-WON                      1\n",
       "FORCED-END HALF                  1\n",
       "FAULT-WON                        1\n",
       "HEAD-CLEARANCE                   1\n",
       "PENALTY                          1\n",
       "DEEP BALL                        1\n",
       "HEAD-INTERCEPTION-CLEARANCE      1\n",
       "CLEARANCE-INTERCEPTION           1\n",
       "Name: Subtype, dtype: int64"
      ]
     },
     "execution_count": 43,
     "metadata": {},
     "output_type": "execute_result"
    }
   ],
   "source": [
    "events['Subtype'].value_counts()"
   ]
  },
  {
   "cell_type": "code",
   "execution_count": 47,
   "metadata": {},
   "outputs": [
    {
     "data": {
      "text/html": [
       "<div>\n",
       "<style scoped>\n",
       "    .dataframe tbody tr th:only-of-type {\n",
       "        vertical-align: middle;\n",
       "    }\n",
       "\n",
       "    .dataframe tbody tr th {\n",
       "        vertical-align: top;\n",
       "    }\n",
       "\n",
       "    .dataframe thead th {\n",
       "        text-align: right;\n",
       "    }\n",
       "</style>\n",
       "<table border=\"1\" class=\"dataframe\">\n",
       "  <thead>\n",
       "    <tr style=\"text-align: right;\">\n",
       "      <th></th>\n",
       "      <th>Team</th>\n",
       "      <th>Type</th>\n",
       "      <th>Subtype</th>\n",
       "      <th>Period</th>\n",
       "      <th>Start Frame</th>\n",
       "      <th>Start Time [s]</th>\n",
       "      <th>End Frame</th>\n",
       "      <th>End Time [s]</th>\n",
       "      <th>From</th>\n",
       "      <th>To</th>\n",
       "      <th>Start X</th>\n",
       "      <th>Start Y</th>\n",
       "      <th>End X</th>\n",
       "      <th>End Y</th>\n",
       "    </tr>\n",
       "  </thead>\n",
       "  <tbody>\n",
       "    <tr>\n",
       "      <th>1</th>\n",
       "      <td>Away</td>\n",
       "      <td>PASS</td>\n",
       "      <td>NaN</td>\n",
       "      <td>1</td>\n",
       "      <td>51</td>\n",
       "      <td>2.04</td>\n",
       "      <td>87</td>\n",
       "      <td>3.48</td>\n",
       "      <td>Player23</td>\n",
       "      <td>Player20</td>\n",
       "      <td>0.00</td>\n",
       "      <td>-0.00</td>\n",
       "      <td>-10.60</td>\n",
       "      <td>-0.68</td>\n",
       "    </tr>\n",
       "    <tr>\n",
       "      <th>2</th>\n",
       "      <td>Away</td>\n",
       "      <td>PASS</td>\n",
       "      <td>NaN</td>\n",
       "      <td>1</td>\n",
       "      <td>146</td>\n",
       "      <td>5.84</td>\n",
       "      <td>186</td>\n",
       "      <td>7.44</td>\n",
       "      <td>Player20</td>\n",
       "      <td>Player18</td>\n",
       "      <td>-7.42</td>\n",
       "      <td>-0.00</td>\n",
       "      <td>-6.36</td>\n",
       "      <td>19.04</td>\n",
       "    </tr>\n",
       "    <tr>\n",
       "      <th>3</th>\n",
       "      <td>Away</td>\n",
       "      <td>PASS</td>\n",
       "      <td>NaN</td>\n",
       "      <td>1</td>\n",
       "      <td>248</td>\n",
       "      <td>9.92</td>\n",
       "      <td>283</td>\n",
       "      <td>11.32</td>\n",
       "      <td>Player18</td>\n",
       "      <td>Player17</td>\n",
       "      <td>-3.18</td>\n",
       "      <td>21.08</td>\n",
       "      <td>-20.14</td>\n",
       "      <td>14.96</td>\n",
       "    </tr>\n",
       "    <tr>\n",
       "      <th>4</th>\n",
       "      <td>Away</td>\n",
       "      <td>PASS</td>\n",
       "      <td>NaN</td>\n",
       "      <td>1</td>\n",
       "      <td>316</td>\n",
       "      <td>12.64</td>\n",
       "      <td>346</td>\n",
       "      <td>13.84</td>\n",
       "      <td>Player17</td>\n",
       "      <td>Player16</td>\n",
       "      <td>-22.26</td>\n",
       "      <td>12.24</td>\n",
       "      <td>-25.44</td>\n",
       "      <td>-5.44</td>\n",
       "    </tr>\n",
       "    <tr>\n",
       "      <th>5</th>\n",
       "      <td>Away</td>\n",
       "      <td>PASS</td>\n",
       "      <td>NaN</td>\n",
       "      <td>1</td>\n",
       "      <td>395</td>\n",
       "      <td>15.80</td>\n",
       "      <td>423</td>\n",
       "      <td>16.92</td>\n",
       "      <td>Player16</td>\n",
       "      <td>Player15</td>\n",
       "      <td>-25.44</td>\n",
       "      <td>-10.88</td>\n",
       "      <td>-24.38</td>\n",
       "      <td>-27.88</td>\n",
       "    </tr>\n",
       "    <tr>\n",
       "      <th>...</th>\n",
       "      <td>...</td>\n",
       "      <td>...</td>\n",
       "      <td>...</td>\n",
       "      <td>...</td>\n",
       "      <td>...</td>\n",
       "      <td>...</td>\n",
       "      <td>...</td>\n",
       "      <td>...</td>\n",
       "      <td>...</td>\n",
       "      <td>...</td>\n",
       "      <td>...</td>\n",
       "      <td>...</td>\n",
       "      <td>...</td>\n",
       "      <td>...</td>\n",
       "    </tr>\n",
       "    <tr>\n",
       "      <th>1914</th>\n",
       "      <td>Home</td>\n",
       "      <td>PASS</td>\n",
       "      <td>NaN</td>\n",
       "      <td>2</td>\n",
       "      <td>137209</td>\n",
       "      <td>5488.36</td>\n",
       "      <td>137221</td>\n",
       "      <td>5488.84</td>\n",
       "      <td>Player1</td>\n",
       "      <td>Player6</td>\n",
       "      <td>9.54</td>\n",
       "      <td>-12.24</td>\n",
       "      <td>4.24</td>\n",
       "      <td>-4.76</td>\n",
       "    </tr>\n",
       "    <tr>\n",
       "      <th>1915</th>\n",
       "      <td>Home</td>\n",
       "      <td>PASS</td>\n",
       "      <td>NaN</td>\n",
       "      <td>2</td>\n",
       "      <td>137263</td>\n",
       "      <td>5490.52</td>\n",
       "      <td>137303</td>\n",
       "      <td>5492.12</td>\n",
       "      <td>Player6</td>\n",
       "      <td>Player1</td>\n",
       "      <td>4.24</td>\n",
       "      <td>-12.24</td>\n",
       "      <td>12.72</td>\n",
       "      <td>-21.76</td>\n",
       "    </tr>\n",
       "    <tr>\n",
       "      <th>1916</th>\n",
       "      <td>Home</td>\n",
       "      <td>PASS</td>\n",
       "      <td>NaN</td>\n",
       "      <td>2</td>\n",
       "      <td>137303</td>\n",
       "      <td>5492.12</td>\n",
       "      <td>137332</td>\n",
       "      <td>5493.28</td>\n",
       "      <td>Player1</td>\n",
       "      <td>Player5</td>\n",
       "      <td>12.72</td>\n",
       "      <td>-21.76</td>\n",
       "      <td>1.06</td>\n",
       "      <td>-26.52</td>\n",
       "    </tr>\n",
       "    <tr>\n",
       "      <th>1917</th>\n",
       "      <td>Home</td>\n",
       "      <td>PASS</td>\n",
       "      <td>NaN</td>\n",
       "      <td>2</td>\n",
       "      <td>137334</td>\n",
       "      <td>5493.36</td>\n",
       "      <td>137359</td>\n",
       "      <td>5494.36</td>\n",
       "      <td>Player5</td>\n",
       "      <td>Player1</td>\n",
       "      <td>1.06</td>\n",
       "      <td>-26.52</td>\n",
       "      <td>15.90</td>\n",
       "      <td>-26.52</td>\n",
       "    </tr>\n",
       "    <tr>\n",
       "      <th>1929</th>\n",
       "      <td>Away</td>\n",
       "      <td>PASS</td>\n",
       "      <td>NaN</td>\n",
       "      <td>2</td>\n",
       "      <td>140010</td>\n",
       "      <td>5600.40</td>\n",
       "      <td>140058</td>\n",
       "      <td>5602.32</td>\n",
       "      <td>Player25</td>\n",
       "      <td>Player21</td>\n",
       "      <td>-39.22</td>\n",
       "      <td>0.00</td>\n",
       "      <td>-14.84</td>\n",
       "      <td>20.40</td>\n",
       "    </tr>\n",
       "  </tbody>\n",
       "</table>\n",
       "<p>964 rows × 14 columns</p>\n",
       "</div>"
      ],
      "text/plain": [
       "      Team  Type Subtype  Period  Start Frame  Start Time [s]  End Frame  \\\n",
       "1     Away  PASS     NaN       1           51            2.04         87   \n",
       "2     Away  PASS     NaN       1          146            5.84        186   \n",
       "3     Away  PASS     NaN       1          248            9.92        283   \n",
       "4     Away  PASS     NaN       1          316           12.64        346   \n",
       "5     Away  PASS     NaN       1          395           15.80        423   \n",
       "...    ...   ...     ...     ...          ...             ...        ...   \n",
       "1914  Home  PASS     NaN       2       137209         5488.36     137221   \n",
       "1915  Home  PASS     NaN       2       137263         5490.52     137303   \n",
       "1916  Home  PASS     NaN       2       137303         5492.12     137332   \n",
       "1917  Home  PASS     NaN       2       137334         5493.36     137359   \n",
       "1929  Away  PASS     NaN       2       140010         5600.40     140058   \n",
       "\n",
       "      End Time [s]      From        To  Start X  Start Y  End X  End Y  \n",
       "1             3.48  Player23  Player20     0.00    -0.00 -10.60  -0.68  \n",
       "2             7.44  Player20  Player18    -7.42    -0.00  -6.36  19.04  \n",
       "3            11.32  Player18  Player17    -3.18    21.08 -20.14  14.96  \n",
       "4            13.84  Player17  Player16   -22.26    12.24 -25.44  -5.44  \n",
       "5            16.92  Player16  Player15   -25.44   -10.88 -24.38 -27.88  \n",
       "...            ...       ...       ...      ...      ...    ...    ...  \n",
       "1914       5488.84   Player1   Player6     9.54   -12.24   4.24  -4.76  \n",
       "1915       5492.12   Player6   Player1     4.24   -12.24  12.72 -21.76  \n",
       "1916       5493.28   Player1   Player5    12.72   -21.76   1.06 -26.52  \n",
       "1917       5494.36   Player5   Player1     1.06   -26.52  15.90 -26.52  \n",
       "1929       5602.32  Player25  Player21   -39.22     0.00 -14.84  20.40  \n",
       "\n",
       "[964 rows x 14 columns]"
      ]
     },
     "execution_count": 47,
     "metadata": {},
     "output_type": "execute_result"
    }
   ],
   "source": [
    "# get all  passes\n",
    "passes = events[events['Type'].isin(['PASS'])]\n",
    "passes"
   ]
  },
  {
   "cell_type": "code",
   "execution_count": 49,
   "metadata": {},
   "outputs": [
    {
     "data": {
      "text/plain": [
       "'PASS EPV: -0.001'"
      ]
     },
     "execution_count": 49,
     "metadata": {},
     "output_type": "execute_result"
    }
   ],
   "source": [
    "EPV_added = ''\n",
    "EPV_added, EPV_dif = mepv.my_calculate_epv_added(51,passes=passes,tracking_home=hometeam,tracking_away=awayteam,GK_numbers=GK_numbers, EPV=EPV, params=params)\n",
    "objs = ax.text(0,55, f'PASS EPV: {EPV_added:.3f}', fontsize=14, ha='center')\n",
    "EPV_added\n",
    "f'PASS EPV: {EPV_added:.3f}'"
   ]
  },
  {
   "cell_type": "code",
   "execution_count": 52,
   "metadata": {},
   "outputs": [
    {
     "data": {
      "text/html": [
       "<div>\n",
       "<style scoped>\n",
       "    .dataframe tbody tr th:only-of-type {\n",
       "        vertical-align: middle;\n",
       "    }\n",
       "\n",
       "    .dataframe tbody tr th {\n",
       "        vertical-align: top;\n",
       "    }\n",
       "\n",
       "    .dataframe thead th {\n",
       "        text-align: right;\n",
       "    }\n",
       "</style>\n",
       "<table border=\"1\" class=\"dataframe\">\n",
       "  <thead>\n",
       "    <tr style=\"text-align: right;\">\n",
       "      <th></th>\n",
       "      <th>Team</th>\n",
       "      <th>Type</th>\n",
       "      <th>Subtype</th>\n",
       "      <th>Period</th>\n",
       "      <th>Start Frame</th>\n",
       "      <th>Start Time [s]</th>\n",
       "      <th>End Frame</th>\n",
       "      <th>End Time [s]</th>\n",
       "      <th>From</th>\n",
       "      <th>To</th>\n",
       "      <th>Start X</th>\n",
       "      <th>Start Y</th>\n",
       "      <th>End X</th>\n",
       "      <th>End Y</th>\n",
       "    </tr>\n",
       "  </thead>\n",
       "  <tbody>\n",
       "    <tr>\n",
       "      <th>1</th>\n",
       "      <td>Away</td>\n",
       "      <td>PASS</td>\n",
       "      <td>NaN</td>\n",
       "      <td>1</td>\n",
       "      <td>51</td>\n",
       "      <td>2.04</td>\n",
       "      <td>87</td>\n",
       "      <td>3.48</td>\n",
       "      <td>Player23</td>\n",
       "      <td>Player20</td>\n",
       "      <td>0.00</td>\n",
       "      <td>-0.00</td>\n",
       "      <td>-10.60</td>\n",
       "      <td>-0.68</td>\n",
       "    </tr>\n",
       "    <tr>\n",
       "      <th>2</th>\n",
       "      <td>Away</td>\n",
       "      <td>PASS</td>\n",
       "      <td>NaN</td>\n",
       "      <td>1</td>\n",
       "      <td>146</td>\n",
       "      <td>5.84</td>\n",
       "      <td>186</td>\n",
       "      <td>7.44</td>\n",
       "      <td>Player20</td>\n",
       "      <td>Player18</td>\n",
       "      <td>-7.42</td>\n",
       "      <td>-0.00</td>\n",
       "      <td>-6.36</td>\n",
       "      <td>19.04</td>\n",
       "    </tr>\n",
       "    <tr>\n",
       "      <th>3</th>\n",
       "      <td>Away</td>\n",
       "      <td>PASS</td>\n",
       "      <td>NaN</td>\n",
       "      <td>1</td>\n",
       "      <td>248</td>\n",
       "      <td>9.92</td>\n",
       "      <td>283</td>\n",
       "      <td>11.32</td>\n",
       "      <td>Player18</td>\n",
       "      <td>Player17</td>\n",
       "      <td>-3.18</td>\n",
       "      <td>21.08</td>\n",
       "      <td>-20.14</td>\n",
       "      <td>14.96</td>\n",
       "    </tr>\n",
       "    <tr>\n",
       "      <th>4</th>\n",
       "      <td>Away</td>\n",
       "      <td>PASS</td>\n",
       "      <td>NaN</td>\n",
       "      <td>1</td>\n",
       "      <td>316</td>\n",
       "      <td>12.64</td>\n",
       "      <td>346</td>\n",
       "      <td>13.84</td>\n",
       "      <td>Player17</td>\n",
       "      <td>Player16</td>\n",
       "      <td>-22.26</td>\n",
       "      <td>12.24</td>\n",
       "      <td>-25.44</td>\n",
       "      <td>-5.44</td>\n",
       "    </tr>\n",
       "    <tr>\n",
       "      <th>5</th>\n",
       "      <td>Away</td>\n",
       "      <td>PASS</td>\n",
       "      <td>NaN</td>\n",
       "      <td>1</td>\n",
       "      <td>395</td>\n",
       "      <td>15.80</td>\n",
       "      <td>423</td>\n",
       "      <td>16.92</td>\n",
       "      <td>Player16</td>\n",
       "      <td>Player15</td>\n",
       "      <td>-25.44</td>\n",
       "      <td>-10.88</td>\n",
       "      <td>-24.38</td>\n",
       "      <td>-27.88</td>\n",
       "    </tr>\n",
       "    <tr>\n",
       "      <th>...</th>\n",
       "      <td>...</td>\n",
       "      <td>...</td>\n",
       "      <td>...</td>\n",
       "      <td>...</td>\n",
       "      <td>...</td>\n",
       "      <td>...</td>\n",
       "      <td>...</td>\n",
       "      <td>...</td>\n",
       "      <td>...</td>\n",
       "      <td>...</td>\n",
       "      <td>...</td>\n",
       "      <td>...</td>\n",
       "      <td>...</td>\n",
       "      <td>...</td>\n",
       "    </tr>\n",
       "    <tr>\n",
       "      <th>1914</th>\n",
       "      <td>Home</td>\n",
       "      <td>PASS</td>\n",
       "      <td>NaN</td>\n",
       "      <td>2</td>\n",
       "      <td>137209</td>\n",
       "      <td>5488.36</td>\n",
       "      <td>137221</td>\n",
       "      <td>5488.84</td>\n",
       "      <td>Player1</td>\n",
       "      <td>Player6</td>\n",
       "      <td>9.54</td>\n",
       "      <td>-12.24</td>\n",
       "      <td>4.24</td>\n",
       "      <td>-4.76</td>\n",
       "    </tr>\n",
       "    <tr>\n",
       "      <th>1915</th>\n",
       "      <td>Home</td>\n",
       "      <td>PASS</td>\n",
       "      <td>NaN</td>\n",
       "      <td>2</td>\n",
       "      <td>137263</td>\n",
       "      <td>5490.52</td>\n",
       "      <td>137303</td>\n",
       "      <td>5492.12</td>\n",
       "      <td>Player6</td>\n",
       "      <td>Player1</td>\n",
       "      <td>4.24</td>\n",
       "      <td>-12.24</td>\n",
       "      <td>12.72</td>\n",
       "      <td>-21.76</td>\n",
       "    </tr>\n",
       "    <tr>\n",
       "      <th>1916</th>\n",
       "      <td>Home</td>\n",
       "      <td>PASS</td>\n",
       "      <td>NaN</td>\n",
       "      <td>2</td>\n",
       "      <td>137303</td>\n",
       "      <td>5492.12</td>\n",
       "      <td>137332</td>\n",
       "      <td>5493.28</td>\n",
       "      <td>Player1</td>\n",
       "      <td>Player5</td>\n",
       "      <td>12.72</td>\n",
       "      <td>-21.76</td>\n",
       "      <td>1.06</td>\n",
       "      <td>-26.52</td>\n",
       "    </tr>\n",
       "    <tr>\n",
       "      <th>1917</th>\n",
       "      <td>Home</td>\n",
       "      <td>PASS</td>\n",
       "      <td>NaN</td>\n",
       "      <td>2</td>\n",
       "      <td>137334</td>\n",
       "      <td>5493.36</td>\n",
       "      <td>137359</td>\n",
       "      <td>5494.36</td>\n",
       "      <td>Player5</td>\n",
       "      <td>Player1</td>\n",
       "      <td>1.06</td>\n",
       "      <td>-26.52</td>\n",
       "      <td>15.90</td>\n",
       "      <td>-26.52</td>\n",
       "    </tr>\n",
       "    <tr>\n",
       "      <th>1929</th>\n",
       "      <td>Away</td>\n",
       "      <td>PASS</td>\n",
       "      <td>NaN</td>\n",
       "      <td>2</td>\n",
       "      <td>140010</td>\n",
       "      <td>5600.40</td>\n",
       "      <td>140058</td>\n",
       "      <td>5602.32</td>\n",
       "      <td>Player25</td>\n",
       "      <td>Player21</td>\n",
       "      <td>-39.22</td>\n",
       "      <td>0.00</td>\n",
       "      <td>-14.84</td>\n",
       "      <td>20.40</td>\n",
       "    </tr>\n",
       "  </tbody>\n",
       "</table>\n",
       "<p>964 rows × 14 columns</p>\n",
       "</div>"
      ],
      "text/plain": [
       "      Team  Type Subtype  Period  Start Frame  Start Time [s]  End Frame  \\\n",
       "1     Away  PASS     NaN       1           51            2.04         87   \n",
       "2     Away  PASS     NaN       1          146            5.84        186   \n",
       "3     Away  PASS     NaN       1          248            9.92        283   \n",
       "4     Away  PASS     NaN       1          316           12.64        346   \n",
       "5     Away  PASS     NaN       1          395           15.80        423   \n",
       "...    ...   ...     ...     ...          ...             ...        ...   \n",
       "1914  Home  PASS     NaN       2       137209         5488.36     137221   \n",
       "1915  Home  PASS     NaN       2       137263         5490.52     137303   \n",
       "1916  Home  PASS     NaN       2       137303         5492.12     137332   \n",
       "1917  Home  PASS     NaN       2       137334         5493.36     137359   \n",
       "1929  Away  PASS     NaN       2       140010         5600.40     140058   \n",
       "\n",
       "      End Time [s]      From        To  Start X  Start Y  End X  End Y  \n",
       "1             3.48  Player23  Player20     0.00    -0.00 -10.60  -0.68  \n",
       "2             7.44  Player20  Player18    -7.42    -0.00  -6.36  19.04  \n",
       "3            11.32  Player18  Player17    -3.18    21.08 -20.14  14.96  \n",
       "4            13.84  Player17  Player16   -22.26    12.24 -25.44  -5.44  \n",
       "5            16.92  Player16  Player15   -25.44   -10.88 -24.38 -27.88  \n",
       "...            ...       ...       ...      ...      ...    ...    ...  \n",
       "1914       5488.84   Player1   Player6     9.54   -12.24   4.24  -4.76  \n",
       "1915       5492.12   Player6   Player1     4.24   -12.24  12.72 -21.76  \n",
       "1916       5493.28   Player1   Player5    12.72   -21.76   1.06 -26.52  \n",
       "1917       5494.36   Player5   Player1     1.06   -26.52  15.90 -26.52  \n",
       "1929       5602.32  Player25  Player21   -39.22     0.00 -14.84  20.40  \n",
       "\n",
       "[964 rows x 14 columns]"
      ]
     },
     "execution_count": 52,
     "metadata": {},
     "output_type": "execute_result"
    }
   ],
   "source": [
    "passes"
   ]
  },
  {
   "cell_type": "code",
   "execution_count": 56,
   "metadata": {},
   "outputs": [
    {
     "name": "stdout",
     "output_type": "stream",
     "text": [
      "51\n",
      "-0.001430979587408494 -0.0014999999999999996\n"
     ]
    }
   ],
   "source": [
    "for i in range(100):\n",
    "    if i in passes['Start Frame'].to_list():\n",
    "        # calculate EPV\n",
    "        EPV_added, EPV_dif = mepv.my_calculate_epv_added(i, passes, tracking_home, tracking_away, GK_numbers, EPV, params)\n",
    "        print(i)\n",
    "        print(EPV_added, EPV_dif)\n",
    "        "
   ]
  },
  {
   "cell_type": "code",
   "execution_count": 68,
   "metadata": {},
   "outputs": [],
   "source": [
    "def my_ppcf_save_match_clip(hometeam, awayteam, fpath, events=events, EPV=EPV, passes=passes, GK_numbers=GK_numbers, params=params, fname='clip_test', figax=None, frames_per_second=25, team_colors=('r','b'), field_dimen = (106.0,68.0), include_player_velocities=True, PlayerMarkerSize=10, PlayerAlpha=0.7, annotate=False):\n",
    "    \"\"\" save_match_clip( hometeam, awayteam, fpath )\n",
    "    \n",
    "    Generates a movie from Metrica tracking data, saving it in the 'fpath' directory with name 'fname'\n",
    "    \n",
    "    Parameters\n",
    "    -----------\n",
    "        hometeam: home team tracking data DataFrame. Movie will be created from all rows in the DataFrame\n",
    "        awayteam: away team tracking data DataFrame. The indices *must* match those of the hometeam DataFrame\n",
    "        fpath: directory to save the movie\n",
    "        fname: movie filename. Default is 'clip_test.mp4'\n",
    "        fig,ax: Can be used to pass in the (fig,ax) objects of a previously generated pitch. Set to (fig,ax) to use an existing figure, or None (the default) to generate a new pitch plot,\n",
    "        frames_per_second: frames per second to assume when generating the movie. Default is 25.\n",
    "        team_colors: Tuple containing the team colors of the home & away team. Default is 'r' (red, home team) and 'b' (blue away team)\n",
    "        field_dimen: tuple containing the length and width of the pitch in meters. Default is (106,68)\n",
    "        include_player_velocities: Boolean variable that determines whether player velocities are also plotted (as quivers). Default is False\n",
    "        PlayerMarkerSize: size of the individual player marlers. Default is 10\n",
    "        PlayerAlpha: alpha (transparency) of player markers. Defaault is 0.7\n",
    "        \n",
    "    Returrns\n",
    "    -----------\n",
    "       fig,ax : figure and aixs objects (so that other data can be plotted onto the pitch)\n",
    "\n",
    "    \"\"\"\n",
    "    # check that indices match first\n",
    "    assert np.all( hometeam.index==awayteam.index ), \"Home and away team Dataframe indices must be the same\"\n",
    "    # in which case use home team index\n",
    "    index = hometeam.index\n",
    "    # Set figure and movie settings\n",
    "    FFMpegWriter = animation.writers['ffmpeg'] # original: animation.writers['ffmpeg'] follow-up: animation.FFMpegFileWriter()\n",
    "    metadata = dict(title='Tracking Data', artist='Matplotlib', comment='Metrica tracking data clip')\n",
    "    writer = FFMpegWriter(fps=frames_per_second, metadata=metadata)\n",
    "    fname = fpath + '/' +  fname + '.mp4' # path and filename\n",
    "    # create football pitch\n",
    "    if figax is None:\n",
    "        fig,ax = mviz.plot_pitch(field_dimen=field_dimen, field_color ='white')\n",
    "    else:\n",
    "        fig,ax = figax\n",
    "    fig.set_tight_layout(True)\n",
    "    # Generate movie\n",
    "    print(\"Generating movie...\",end='')\n",
    "    \n",
    "    # instantiate my_event_info() return variables outside loop\n",
    "    curr_type = ''\n",
    "    curr_subtype = ''\n",
    "    # including event_id, not using for now\n",
    "    curr_eventid = ''\n",
    "    # initialize EPV_added as empty string\n",
    "    EPV_added = ''\n",
    "    \n",
    "    with writer.saving(fig, fname, 100):\n",
    "        count = 1\n",
    "        \n",
    "        for i in index:\n",
    "            \n",
    "            figobjs = [] # this is used to collect up all the axis objects so that they can be deleted after each iteration\n",
    "            \n",
    "            # check if frame is an instance of a pass\n",
    "            if i in passes['Start Frame'].to_list():\n",
    "                # calculate EPV\n",
    "                EPV_added, EPV_dif = mepv.my_calculate_epv_added(frame=i,passes=passes,tracking_home=hometeam,tracking_away=awayteam,GK_numbers=GK_numbers, EPV=EPV, params=params) # 'passes', 'tracking_home', 'tracking_away', 'GK_numbers', 'EPV', and 'params'\n",
    "                \n",
    "            \n",
    "            # generate pitch control plot for frame\n",
    "            PPCF, xgrid, ygrid = mpc.my_generate_pitch_control_for_frame(i, tracking_home, tracking_away, params, GK_numbers, field_dimen = (106.,68.,), n_grid_cells_x = 50, offsides=True)\n",
    "            objs = ax.imshow(np.flipud(PPCF), extent=(-field_dimen[0]/2., field_dimen[0]/2., -field_dimen[1]/2., field_dimen[1]/2.),interpolation='spline36',vmin=0.0,vmax=1.0,cmap='bwr',alpha=0.5)\n",
    "            figobjs.append(objs)\n",
    "                \n",
    "            for team,color in zip( [hometeam.loc[i],awayteam.loc[i]], team_colors) :\n",
    "                x_columns = [c for c in team.keys() if c[-2:].lower()=='_x' and c!='ball_x'] # column header for player x positions\n",
    "                y_columns = [c for c in team.keys() if c[-2:].lower()=='_y' and c!='ball_y'] # column header for player y positions\n",
    "                objs, = ax.plot( team[x_columns], team[y_columns], color+'o', MarkerSize=PlayerMarkerSize, alpha=PlayerAlpha ) # plot player positions\n",
    "                figobjs.append(objs)\n",
    "                if include_player_velocities:\n",
    "                    vx_columns = ['{}_vx'.format(c[:-2]) for c in x_columns] # column header for player x positions\n",
    "                    vy_columns = ['{}_vy'.format(c[:-2]) for c in y_columns] # column header for player y positions\n",
    "                    objs = ax.quiver( team[x_columns], team[y_columns], team[vx_columns], team[vy_columns], color=color, scale_units='inches', scale=10.,width=0.0015,headlength=5,headwidth=3,alpha=PlayerAlpha)\n",
    "                    figobjs.append(objs)\n",
    "                                    \n",
    "            # plot ball\n",
    "            objs, = ax.plot( team['ball_x'], team['ball_y'], 'wo', markeredgecolor='k', markeredgewidth=1.5, MarkerSize=6, alpha=1.0, LineWidth=0)\n",
    "            figobjs.append(objs)\n",
    "    \n",
    "            # create text ax to add to objs to plot\n",
    "            # include match time at the top\n",
    "            frame_minute =  int( hometeam.loc[i]['Time [s]']/60. )\n",
    "            frame_second =  ( hometeam.loc[i]['Time [s]']/60. - frame_minute ) * 60.\n",
    "            timestring = \"%d:%1.2f\" % ( frame_minute, frame_second  )\n",
    "            \n",
    "            # EPV_added\n",
    "            if EPV_added:\n",
    "                objs = ax.text(0,field_dimen[1]/2. +1., f'PASS EPV: {EPV_added:.3f}', fontsize=14, ha='center')\n",
    "                figobjs.append(objs)\n",
    "            \n",
    "            # time and frame\n",
    "            objs = ax.text(55,field_dimen[1]/2. +1., f'TIME: {timestring} - FRAME: {str(i)}', fontsize=14, ha='right')\n",
    "            figobjs.append(objs)\n",
    "            \n",
    "            # include event type and subtype\n",
    "            event_outcome = my_event_info(i)\n",
    "            if type(event_outcome) == tuple:\n",
    "                curr_type, curr_subtype, curr_eventid = event_outcome\n",
    "            \n",
    "            # type and subtype\n",
    "            if len(curr_type) != 0:\n",
    "                if len(curr_subtype) != 0:\n",
    "                    objs = ax.text(-55,field_dimen[1]/2. +1., f'{curr_type.item()} - {curr_subtype.item()}', fontsize=14, ha='left') # {curr_subtype}\n",
    "                    figobjs.append(objs)\n",
    "                else:\n",
    "                    objs = ax.text(-55,field_dimen[1]/2. +1., f'{curr_type.item()}', fontsize=14, ha='left') # {curr_type}\n",
    "                    figobjs.append(objs)            \n",
    "            \n",
    "            writer.grab_frame()\n",
    "            print(f'frame: {count}')\n",
    "            count += 1\n",
    "            # Delete all axis objects (other than pitch lines) in preperation for next frame\n",
    "            for figobj in figobjs:\n",
    "                figobj.remove()\n",
    "                \n",
    "    print('\\n',\"done\")\n",
    "    plt.clf()\n",
    "    plt.close(fig)    "
   ]
  },
  {
   "cell_type": "markdown",
   "metadata": {},
   "source": [
    "## Don't need my_plot_pitch in Metrica_Viz.py, because same as plot_pitch in Metrica_Viz.py. Same for Viz.py."
   ]
  },
  {
   "cell_type": "code",
   "execution_count": 67,
   "metadata": {},
   "outputs": [
    {
     "name": "stdout",
     "output_type": "stream",
     "text": [
      "Generating movie...frame: 1\n",
      "frame: 2\n",
      "frame: 3\n",
      "frame: 4\n",
      "frame: 5\n",
      "frame: 6\n",
      "frame: 7\n",
      "frame: 8\n",
      "frame: 9\n",
      "frame: 10\n",
      "frame: 11\n",
      "frame: 12\n",
      "frame: 13\n",
      "frame: 14\n",
      "frame: 15\n",
      "frame: 16\n",
      "frame: 17\n",
      "frame: 18\n",
      "frame: 19\n",
      "frame: 20\n",
      "frame: 21\n",
      "frame: 22\n",
      "frame: 23\n",
      "frame: 24\n",
      "frame: 25\n",
      "frame: 26\n",
      "frame: 27\n",
      "frame: 28\n",
      "frame: 29\n",
      "frame: 30\n",
      "frame: 31\n",
      "frame: 32\n",
      "frame: 33\n",
      "frame: 34\n",
      "frame: 35\n",
      "frame: 36\n",
      "frame: 37\n",
      "frame: 38\n",
      "frame: 39\n",
      "frame: 40\n",
      "frame: 41\n",
      "frame: 42\n",
      "frame: 43\n",
      "frame: 44\n",
      "frame: 45\n",
      "frame: 46\n",
      "frame: 47\n",
      "frame: 48\n",
      "frame: 49\n",
      "frame: 50\n",
      "frame: 51\n",
      "frame: 52\n",
      "frame: 53\n",
      "frame: 54\n",
      "frame: 55\n",
      "frame: 56\n",
      "frame: 57\n",
      "frame: 58\n",
      "frame: 59\n",
      "frame: 60\n",
      "frame: 61\n",
      "frame: 62\n",
      "frame: 63\n",
      "frame: 64\n",
      "frame: 65\n",
      "frame: 66\n",
      "frame: 67\n",
      "frame: 68\n",
      "frame: 69\n",
      "frame: 70\n",
      "frame: 71\n",
      "frame: 72\n",
      "frame: 73\n",
      "frame: 74\n",
      "frame: 75\n",
      "frame: 76\n",
      "frame: 77\n",
      "frame: 78\n",
      "frame: 79\n",
      "frame: 80\n",
      "frame: 81\n",
      "frame: 82\n",
      "frame: 83\n",
      "frame: 84\n",
      "frame: 85\n",
      "frame: 86\n",
      "frame: 87\n",
      "frame: 88\n",
      "frame: 89\n",
      "frame: 90\n",
      "frame: 91\n",
      "frame: 92\n",
      "frame: 93\n",
      "frame: 94\n",
      "frame: 95\n",
      "frame: 96\n",
      "frame: 97\n",
      "frame: 98\n",
      "frame: 99\n",
      "frame: 100\n",
      "frame: 101\n",
      "frame: 102\n",
      "frame: 103\n",
      "frame: 104\n",
      "frame: 105\n",
      "frame: 106\n",
      "frame: 107\n",
      "frame: 108\n",
      "frame: 109\n",
      "frame: 110\n",
      "frame: 111\n",
      "frame: 112\n",
      "frame: 113\n",
      "frame: 114\n",
      "frame: 115\n",
      "frame: 116\n",
      "frame: 117\n",
      "frame: 118\n",
      "frame: 119\n",
      "frame: 120\n",
      "frame: 121\n",
      "frame: 122\n",
      "frame: 123\n",
      "frame: 124\n",
      "frame: 125\n",
      "frame: 126\n",
      "frame: 127\n",
      "frame: 128\n",
      "frame: 129\n",
      "frame: 130\n",
      "frame: 131\n",
      "frame: 132\n",
      "frame: 133\n",
      "frame: 134\n",
      "frame: 135\n",
      "frame: 136\n",
      "frame: 137\n",
      "frame: 138\n",
      "frame: 139\n",
      "frame: 140\n",
      "frame: 141\n",
      "frame: 142\n",
      "frame: 143\n",
      "frame: 144\n",
      "frame: 145\n",
      "frame: 146\n",
      "frame: 147\n",
      "frame: 148\n",
      "frame: 149\n",
      "frame: 150\n",
      "\n",
      " done\n"
     ]
    }
   ],
   "source": [
    "hometeam = tracking_home[15150:15300]\n",
    "awayteam = tracking_away[15150:15300]\n",
    "fpath = '/Users/jeromekirkpatrick/Desktop'\n",
    "fname = 'ppcf_test15000'\n",
    "my_ppcf_save_match_clip(hometeam,awayteam, fpath, fname=fname, figax=None, frames_per_second=25, team_colors=('r','b'), field_dimen = (106.0,68.0), include_player_velocities=True, PlayerMarkerSize=10, PlayerAlpha=0.7)"
   ]
  },
  {
   "cell_type": "code",
   "execution_count": 53,
   "metadata": {},
   "outputs": [],
   "source": [
    "# hometeam = tracking_home[50:801]\n",
    "# awayteam = tracking_away[50:801]\n",
    "\n",
    "# for i in range(50,802):\n",
    "# #     print(i)\n",
    "# #     test_lst.append(frame_to_event(i))\n",
    "# #     print(frame_to_event(i))\n",
    "#     # get event_num for frame\n",
    "#     event_num_outcome = frame_to_event(i)\n",
    "# #     print(event_num_outcome)\n",
    "#     if isinstance(event_num_outcome,np.integer):\n",
    "#         event_num = event_num_outcome.item()\n",
    "#         print(event_num)\n",
    "# #         # calculate EPV\n",
    "# #         EPV_added, EPV_dif = mepv.calculate_epv_added(event_num, params, hometeam=hometeam, awayteam=awayteam, GK_numbers=GK_numbers, events=events, EPV=EPV)\n",
    "# #         print(EPV_added)\n"
   ]
  },
  {
   "cell_type": "code",
   "execution_count": 55,
   "metadata": {},
   "outputs": [],
   "source": [
    "frame = 51\n",
    "\n",
    "if frame in passes['Start Frame'].to_list():\n",
    "\n",
    "    pass_start_pos = np.array([passes['Start X'][passes['Start Frame']==frame].item(),passes['Start Y'][passes['Start Frame']==frame].item()])\n",
    "    pass_target_pos = np.array([passes['End X'][passes['Start Frame']==frame].item(),passes['End Y'][passes['Start Frame']==frame].item()])\n",
    "    pass_frame = frame\n",
    "    pass_team = passes['Team'][passes['Start Frame']==frame].item()\n",
    "    \n",
    "    "
   ]
  },
  {
   "cell_type": "code",
   "execution_count": 56,
   "metadata": {},
   "outputs": [
    {
     "name": "stdout",
     "output_type": "stream",
     "text": [
      "[ 0. -0.]\n",
      "<class 'numpy.ndarray'>\n",
      "[-10.6   -0.68]\n",
      "51\n",
      "Away\n"
     ]
    }
   ],
   "source": [
    "print(pass_start_pos)\n",
    "print(type(pass_start_pos))\n",
    "print(pass_target_pos)\n",
    "print(pass_frame)\n",
    "print(pass_team)\n"
   ]
  },
  {
   "cell_type": "code",
   "execution_count": 61,
   "metadata": {},
   "outputs": [],
   "source": [
    "# def my_calculate_epv_added(frame, passes=passes, tracking_home=hometeam, tracking_away=awayteam, GK_numbers=GK_numbers, EPV=EPV): # removing params for now\n",
    "#     \"\"\" calculate_epv_added\n",
    "    \n",
    "#     Calculates the expected possession value added by a pass\n",
    "    \n",
    "#     Parameters\n",
    "#     -----------\n",
    "#         event_id: Index (not row) of the pass event to calculate EPV-added score\n",
    "#         events: Dataframe containing the event data\n",
    "#         tracking_home: tracking DataFrame for the Home team\n",
    "#         tracking_away: tracking DataFrame for the Away team\n",
    "#         GK_numbers: tuple containing the player id of the goalkeepers for the (home team, away team)\n",
    "#         EPV: tuple Expected Possession value grid (loaded using load_EPV_grid() )\n",
    "#         params: Dictionary of pitch control model parameters (default model parameters can be generated using default_model_params() )\n",
    "        \n",
    "#     Returrns\n",
    "#     -----------\n",
    "#         EEPV_added: Expected EPV value-added of pass defined by event_id\n",
    "#         EPV_difference: The raw change in EPV (ignoring pitch control) between end and start points of pass\n",
    "\n",
    "#     \"\"\"\n",
    "#     # pull out pass details from the passes data\n",
    "#     pass_start_pos = np.array([passes['Start X'][passes['Start Frame']==frame].item(),passes['Start Y'][passes['Start Frame']==frame].item()])\n",
    "#     pass_target_pos = np.array([passes['End X'][passes['Start Frame']==frame].item(),passes['End Y'][passes['Start Frame']==frame].item()])\n",
    "#     pass_frame = frame\n",
    "#     pass_team = passes['Team'][passes['Start Frame']==frame].item()\n",
    "    \n",
    "#     # direction of play for atacking team (so we know whether to flip the EPV grid)\n",
    "#     home_attack_direction = mio.find_playing_direction(tracking_home,'Home')\n",
    "#     if pass_team=='Home':\n",
    "#         attack_direction = home_attack_direction\n",
    "#         attacking_players = mpc.initialise_players(tracking_home.loc[pass_frame],'Home',params,GK_numbers[0])\n",
    "#         defending_players = mpc.initialise_players(tracking_away.loc[pass_frame],'Away',params,GK_numbers[1])\n",
    "#     elif pass_team=='Away':\n",
    "#         attack_direction = home_attack_direction*-1\n",
    "#         defending_players = mpc.initialise_players(tracking_home.loc[pass_frame],'Home',params,GK_numbers[0])\n",
    "#         attacking_players = mpc.initialise_players(tracking_away.loc[pass_frame],'Away',params,GK_numbers[1])    \n",
    "#     # flag any players that are offside\n",
    "#     attacking_players = mpc.check_offsides( attacking_players, defending_players, pass_start_pos, GK_numbers)\n",
    "#     # pitch control grid at pass start location\n",
    "#     Patt_start,_ = mpc.calculate_pitch_control_at_target(pass_start_pos, attacking_players, defending_players, pass_start_pos, params)\n",
    "#     # pitch control grid at pass end location\n",
    "#     Patt_target,_ = mpc.calculate_pitch_control_at_target(pass_target_pos, attacking_players, defending_players, pass_start_pos, params)\n",
    "    \n",
    "#     # EPV at start location\n",
    "#     EPV_start = mepv.get_EPV_at_location(pass_start_pos, EPV, attack_direction=attack_direction)\n",
    "#     # EPV at end location\n",
    "#     EPV_target = mepv.get_EPV_at_location(pass_target_pos,EPV,attack_direction=attack_direction)\n",
    "    \n",
    "#     # 'Expected' EPV at target and start location\n",
    "#     EEPV_target = Patt_target*EPV_target\n",
    "#     EEPV_start = Patt_start*EPV_start\n",
    "    \n",
    "#     # difference is the (expected) EPV added\n",
    "#     EEPV_added = EEPV_target - EEPV_start\n",
    "    \n",
    "#     # Also calculate the straight up change in EPV\n",
    "#     EPV_difference = EPV_target - EPV_start\n",
    "\n",
    "#     return EEPV_added, EPV_difference"
   ]
  },
  {
   "cell_type": "code",
   "execution_count": 65,
   "metadata": {},
   "outputs": [
    {
     "data": {
      "text/plain": [
       "(-0.001430979587408494, -0.0014999999999999996)"
      ]
     },
     "execution_count": 65,
     "metadata": {},
     "output_type": "execute_result"
    }
   ],
   "source": [
    "my_calculate_epv_added(frame)\n"
   ]
  },
  {
   "cell_type": "code",
   "execution_count": null,
   "metadata": {},
   "outputs": [],
   "source": [
    "passes\n"
   ]
  },
  {
   "cell_type": "code",
   "execution_count": 65,
   "metadata": {},
   "outputs": [
    {
     "data": {
      "text/plain": [
       "['__builtins__',\n",
       " '__cached__',\n",
       " '__doc__',\n",
       " '__file__',\n",
       " '__loader__',\n",
       " '__name__',\n",
       " '__package__',\n",
       " '__spec__',\n",
       " 'calculate_epv_added',\n",
       " 'find_max_value_added_target',\n",
       " 'get_EPV_at_location',\n",
       " 'load_EPV_grid',\n",
       " 'mio',\n",
       " 'mpc',\n",
       " 'my_calculate_epv_added',\n",
       " 'np']"
      ]
     },
     "execution_count": 65,
     "metadata": {},
     "output_type": "execute_result"
    }
   ],
   "source": [
    "dir(mepv)\n"
   ]
  },
  {
   "cell_type": "code",
   "execution_count": null,
   "metadata": {},
   "outputs": [],
   "source": [
    "params = mpc.default_model_params()\n"
   ]
  },
  {
   "cell_type": "code",
   "execution_count": null,
   "metadata": {},
   "outputs": [],
   "source": [
    "frame=51\n",
    "hometeam = tracking_home.loc[50:55]\n",
    "awayteam = tracking_away.loc[50:55]\n"
   ]
  },
  {
   "cell_type": "code",
   "execution_count": 62,
   "metadata": {},
   "outputs": [
    {
     "data": {
      "text/html": [
       "<div>\n",
       "<style scoped>\n",
       "    .dataframe tbody tr th:only-of-type {\n",
       "        vertical-align: middle;\n",
       "    }\n",
       "\n",
       "    .dataframe tbody tr th {\n",
       "        vertical-align: top;\n",
       "    }\n",
       "\n",
       "    .dataframe thead th {\n",
       "        text-align: right;\n",
       "    }\n",
       "</style>\n",
       "<table border=\"1\" class=\"dataframe\">\n",
       "  <thead>\n",
       "    <tr style=\"text-align: right;\">\n",
       "      <th></th>\n",
       "      <th>Period</th>\n",
       "      <th>Time [s]</th>\n",
       "      <th>Away_25_x</th>\n",
       "      <th>Away_25_y</th>\n",
       "      <th>Away_15_x</th>\n",
       "      <th>Away_15_y</th>\n",
       "      <th>Away_16_x</th>\n",
       "      <th>Away_16_y</th>\n",
       "      <th>Away_17_x</th>\n",
       "      <th>Away_17_y</th>\n",
       "      <th>...</th>\n",
       "      <th>Away_23_speed</th>\n",
       "      <th>Away_24_vx</th>\n",
       "      <th>Away_24_vy</th>\n",
       "      <th>Away_24_speed</th>\n",
       "      <th>Away_25_vx</th>\n",
       "      <th>Away_25_vy</th>\n",
       "      <th>Away_25_speed</th>\n",
       "      <th>Away_26_vx</th>\n",
       "      <th>Away_26_vy</th>\n",
       "      <th>Away_26_speed</th>\n",
       "    </tr>\n",
       "    <tr>\n",
       "      <th>Frame</th>\n",
       "      <th></th>\n",
       "      <th></th>\n",
       "      <th></th>\n",
       "      <th></th>\n",
       "      <th></th>\n",
       "      <th></th>\n",
       "      <th></th>\n",
       "      <th></th>\n",
       "      <th></th>\n",
       "      <th></th>\n",
       "      <th></th>\n",
       "      <th></th>\n",
       "      <th></th>\n",
       "      <th></th>\n",
       "      <th></th>\n",
       "      <th></th>\n",
       "      <th></th>\n",
       "      <th></th>\n",
       "      <th></th>\n",
       "      <th></th>\n",
       "      <th></th>\n",
       "    </tr>\n",
       "  </thead>\n",
       "  <tbody>\n",
       "    <tr>\n",
       "      <th>50</th>\n",
       "      <td>1</td>\n",
       "      <td>2.00</td>\n",
       "      <td>-52.66610</td>\n",
       "      <td>-0.19924</td>\n",
       "      <td>-12.16668</td>\n",
       "      <td>-21.79468</td>\n",
       "      <td>-20.29688</td>\n",
       "      <td>-4.48868</td>\n",
       "      <td>-19.63862</td>\n",
       "      <td>5.31760</td>\n",
       "      <td>...</td>\n",
       "      <td>0.307145</td>\n",
       "      <td>0.4505</td>\n",
       "      <td>0.306</td>\n",
       "      <td>0.544597</td>\n",
       "      <td>0.0000</td>\n",
       "      <td>0.000</td>\n",
       "      <td>0.000000</td>\n",
       "      <td>NaN</td>\n",
       "      <td>NaN</td>\n",
       "      <td>NaN</td>\n",
       "    </tr>\n",
       "    <tr>\n",
       "      <th>51</th>\n",
       "      <td>1</td>\n",
       "      <td>2.04</td>\n",
       "      <td>-52.66610</td>\n",
       "      <td>-0.19924</td>\n",
       "      <td>-12.16032</td>\n",
       "      <td>-21.80148</td>\n",
       "      <td>-20.29900</td>\n",
       "      <td>-4.48800</td>\n",
       "      <td>-19.65982</td>\n",
       "      <td>5.32576</td>\n",
       "      <td>...</td>\n",
       "      <td>0.425000</td>\n",
       "      <td>0.5035</td>\n",
       "      <td>0.323</td>\n",
       "      <td>0.598198</td>\n",
       "      <td>0.0000</td>\n",
       "      <td>0.000</td>\n",
       "      <td>0.000000</td>\n",
       "      <td>NaN</td>\n",
       "      <td>NaN</td>\n",
       "      <td>NaN</td>\n",
       "    </tr>\n",
       "    <tr>\n",
       "      <th>52</th>\n",
       "      <td>1</td>\n",
       "      <td>2.08</td>\n",
       "      <td>-52.66610</td>\n",
       "      <td>-0.19924</td>\n",
       "      <td>-12.15290</td>\n",
       "      <td>-21.80828</td>\n",
       "      <td>-20.30006</td>\n",
       "      <td>-4.48664</td>\n",
       "      <td>-19.67996</td>\n",
       "      <td>5.33528</td>\n",
       "      <td>...</td>\n",
       "      <td>0.100170</td>\n",
       "      <td>0.3975</td>\n",
       "      <td>0.323</td>\n",
       "      <td>0.512187</td>\n",
       "      <td>0.0000</td>\n",
       "      <td>0.000</td>\n",
       "      <td>0.000000</td>\n",
       "      <td>NaN</td>\n",
       "      <td>NaN</td>\n",
       "      <td>NaN</td>\n",
       "    </tr>\n",
       "    <tr>\n",
       "      <th>53</th>\n",
       "      <td>1</td>\n",
       "      <td>2.12</td>\n",
       "      <td>-52.66610</td>\n",
       "      <td>-0.19924</td>\n",
       "      <td>-12.14548</td>\n",
       "      <td>-21.81644</td>\n",
       "      <td>-20.30324</td>\n",
       "      <td>-4.48460</td>\n",
       "      <td>-19.70010</td>\n",
       "      <td>5.34480</td>\n",
       "      <td>...</td>\n",
       "      <td>0.157421</td>\n",
       "      <td>0.1855</td>\n",
       "      <td>0.153</td>\n",
       "      <td>0.240456</td>\n",
       "      <td>0.0000</td>\n",
       "      <td>0.000</td>\n",
       "      <td>0.000000</td>\n",
       "      <td>NaN</td>\n",
       "      <td>NaN</td>\n",
       "      <td>NaN</td>\n",
       "    </tr>\n",
       "    <tr>\n",
       "      <th>54</th>\n",
       "      <td>1</td>\n",
       "      <td>2.16</td>\n",
       "      <td>-52.66610</td>\n",
       "      <td>-0.19924</td>\n",
       "      <td>-12.13700</td>\n",
       "      <td>-21.82324</td>\n",
       "      <td>-20.30430</td>\n",
       "      <td>-4.48460</td>\n",
       "      <td>-19.71812</td>\n",
       "      <td>5.35092</td>\n",
       "      <td>...</td>\n",
       "      <td>0.180294</td>\n",
       "      <td>0.2915</td>\n",
       "      <td>0.340</td>\n",
       "      <td>0.447853</td>\n",
       "      <td>0.0000</td>\n",
       "      <td>0.000</td>\n",
       "      <td>0.000000</td>\n",
       "      <td>NaN</td>\n",
       "      <td>NaN</td>\n",
       "      <td>NaN</td>\n",
       "    </tr>\n",
       "    <tr>\n",
       "      <th>55</th>\n",
       "      <td>1</td>\n",
       "      <td>2.20</td>\n",
       "      <td>-52.66716</td>\n",
       "      <td>-0.19788</td>\n",
       "      <td>-12.12746</td>\n",
       "      <td>-21.82800</td>\n",
       "      <td>-20.30536</td>\n",
       "      <td>-4.48460</td>\n",
       "      <td>-19.73614</td>\n",
       "      <td>5.35704</td>\n",
       "      <td>...</td>\n",
       "      <td>0.228405</td>\n",
       "      <td>0.1855</td>\n",
       "      <td>0.170</td>\n",
       "      <td>0.251615</td>\n",
       "      <td>-0.0265</td>\n",
       "      <td>0.034</td>\n",
       "      <td>0.043107</td>\n",
       "      <td>NaN</td>\n",
       "      <td>NaN</td>\n",
       "      <td>NaN</td>\n",
       "    </tr>\n",
       "  </tbody>\n",
       "</table>\n",
       "<p>6 rows × 64 columns</p>\n",
       "</div>"
      ],
      "text/plain": [
       "       Period  Time [s]  Away_25_x  Away_25_y  Away_15_x  Away_15_y  \\\n",
       "Frame                                                                 \n",
       "50          1      2.00  -52.66610   -0.19924  -12.16668  -21.79468   \n",
       "51          1      2.04  -52.66610   -0.19924  -12.16032  -21.80148   \n",
       "52          1      2.08  -52.66610   -0.19924  -12.15290  -21.80828   \n",
       "53          1      2.12  -52.66610   -0.19924  -12.14548  -21.81644   \n",
       "54          1      2.16  -52.66610   -0.19924  -12.13700  -21.82324   \n",
       "55          1      2.20  -52.66716   -0.19788  -12.12746  -21.82800   \n",
       "\n",
       "       Away_16_x  Away_16_y  Away_17_x  Away_17_y  ...  Away_23_speed  \\\n",
       "Frame                                              ...                  \n",
       "50     -20.29688   -4.48868  -19.63862    5.31760  ...       0.307145   \n",
       "51     -20.29900   -4.48800  -19.65982    5.32576  ...       0.425000   \n",
       "52     -20.30006   -4.48664  -19.67996    5.33528  ...       0.100170   \n",
       "53     -20.30324   -4.48460  -19.70010    5.34480  ...       0.157421   \n",
       "54     -20.30430   -4.48460  -19.71812    5.35092  ...       0.180294   \n",
       "55     -20.30536   -4.48460  -19.73614    5.35704  ...       0.228405   \n",
       "\n",
       "       Away_24_vx  Away_24_vy  Away_24_speed  Away_25_vx  Away_25_vy  \\\n",
       "Frame                                                                  \n",
       "50         0.4505       0.306       0.544597      0.0000       0.000   \n",
       "51         0.5035       0.323       0.598198      0.0000       0.000   \n",
       "52         0.3975       0.323       0.512187      0.0000       0.000   \n",
       "53         0.1855       0.153       0.240456      0.0000       0.000   \n",
       "54         0.2915       0.340       0.447853      0.0000       0.000   \n",
       "55         0.1855       0.170       0.251615     -0.0265       0.034   \n",
       "\n",
       "       Away_25_speed  Away_26_vx  Away_26_vy  Away_26_speed  \n",
       "Frame                                                        \n",
       "50          0.000000         NaN         NaN            NaN  \n",
       "51          0.000000         NaN         NaN            NaN  \n",
       "52          0.000000         NaN         NaN            NaN  \n",
       "53          0.000000         NaN         NaN            NaN  \n",
       "54          0.000000         NaN         NaN            NaN  \n",
       "55          0.043107         NaN         NaN            NaN  \n",
       "\n",
       "[6 rows x 64 columns]"
      ]
     },
     "execution_count": 62,
     "metadata": {},
     "output_type": "execute_result"
    }
   ],
   "source": [
    "tracking_home.loc[50:55]\n",
    "tracking_away.loc[50:55]\n"
   ]
  },
  {
   "cell_type": "code",
   "execution_count": 61,
   "metadata": {},
   "outputs": [
    {
     "data": {
      "text/plain": [
       "(-0.001430979587408494, -0.0014999999999999996)"
      ]
     },
     "execution_count": 61,
     "metadata": {},
     "output_type": "execute_result"
    }
   ],
   "source": [
    "mepv.my_calculate_epv_added(frame,params=params,passes=passes,tracking_home=hometeam,tracking_away=awayteam,GK_numbers=GK_numbers,EPV=EPV)\n"
   ]
  },
  {
   "cell_type": "code",
   "execution_count": null,
   "metadata": {},
   "outputs": [],
   "source": [
    "# def my_ppcf_save_match_clip(hometeam,awayteam, fpath, fname='clip_test', figax=None, frames_per_second=25, team_colors=('r','b'), field_dimen = (106.0,68.0), include_player_velocities=True, PlayerMarkerSize=10, PlayerAlpha=0.7, annotate=False):\n",
    "#     \"\"\" save_match_clip( hometeam, awayteam, fpath )\n",
    "    \n",
    "#     Generates a movie from Metrica tracking data, saving it in the 'fpath' directory with name 'fname'\n",
    "    \n",
    "#     Parameters\n",
    "#     -----------\n",
    "#         hometeam: home team tracking data DataFrame. Movie will be created from all rows in the DataFrame\n",
    "#         awayteam: away team tracking data DataFrame. The indices *must* match those of the hometeam DataFrame\n",
    "#         fpath: directory to save the movie\n",
    "#         fname: movie filename. Default is 'clip_test.mp4'\n",
    "#         fig,ax: Can be used to pass in the (fig,ax) objects of a previously generated pitch. Set to (fig,ax) to use an existing figure, or None (the default) to generate a new pitch plot,\n",
    "#         frames_per_second: frames per second to assume when generating the movie. Default is 25.\n",
    "#         team_colors: Tuple containing the team colors of the home & away team. Default is 'r' (red, home team) and 'b' (blue away team)\n",
    "#         field_dimen: tuple containing the length and width of the pitch in meters. Default is (106,68)\n",
    "#         include_player_velocities: Boolean variable that determines whether player velocities are also plotted (as quivers). Default is False\n",
    "#         PlayerMarkerSize: size of the individual player marlers. Default is 10\n",
    "#         PlayerAlpha: alpha (transparency) of player markers. Defaault is 0.7\n",
    "        \n",
    "#     Returrns\n",
    "#     -----------\n",
    "#        fig,ax : figure and aixs objects (so that other data can be plotted onto the pitch)\n",
    "\n",
    "#     \"\"\"\n",
    "#     # check that indices match first\n",
    "#     assert np.all( hometeam.index==awayteam.index ), \"Home and away team Dataframe indices must be the same\"\n",
    "#     # in which case use home team index\n",
    "#     index = hometeam.index\n",
    "#     # Set figure and movie settings\n",
    "#     FFMpegWriter = animation.writers['ffmpeg'] # original: animation.writers['ffmpeg'] follow-up: animation.FFMpegFileWriter()\n",
    "#     metadata = dict(title='Tracking Data', artist='Matplotlib', comment='Metrica tracking data clip')\n",
    "#     writer = FFMpegWriter(fps=frames_per_second, metadata=metadata)\n",
    "#     fname = fpath + '/' +  fname + '.mp4' # path and filename\n",
    "#     # create football pitch\n",
    "#     if figax is None:\n",
    "#         fig,ax = plot_pitch(field_dimen=field_dimen, field_color ='white')\n",
    "#     else:\n",
    "#         fig,ax = figax\n",
    "#     fig.set_tight_layout(True)\n",
    "#     # Generate movie\n",
    "#     print(\"Generating movie...\",end='')\n",
    "#     with writer.saving(fig, fname, 100):\n",
    "#         count = 1\n",
    "#         for i in index:\n",
    "            \n",
    "#             figobjs = [] # this is used to collect up all the axis objects so that they can be deleted after each iteration\n",
    "        \n",
    "#             PPCF, xgrid, ygrid = my_generate_pitch_control_for_frame(i, tracking_home, tracking_away, params, GK_numbers, field_dimen = (106.,68.,), n_grid_cells_x = 50, offsides=True)\n",
    "#             objs = ax.imshow(np.flipud(PPCF), extent=(-field_dimen[0]/2., field_dimen[0]/2., -field_dimen[1]/2., field_dimen[1]/2.),interpolation='spline36',vmin=0.0,vmax=1.0,cmap='bwr',alpha=0.5)\n",
    "#             figobjs.append(objs)\n",
    "    \n",
    "            \n",
    "#             for team,color in zip( [hometeam.loc[i],awayteam.loc[i]], team_colors) :\n",
    "#                 x_columns = [c for c in team.keys() if c[-2:].lower()=='_x' and c!='ball_x'] # column header for player x positions\n",
    "#                 y_columns = [c for c in team.keys() if c[-2:].lower()=='_y' and c!='ball_y'] # column header for player y positions\n",
    "#                 objs, = ax.plot( team[x_columns], team[y_columns], color+'o', MarkerSize=PlayerMarkerSize, alpha=PlayerAlpha ) # plot player positions\n",
    "#                 figobjs.append(objs)\n",
    "#                 if include_player_velocities:\n",
    "#                     vx_columns = ['{}_vx'.format(c[:-2]) for c in x_columns] # column header for player x positions\n",
    "#                     vy_columns = ['{}_vy'.format(c[:-2]) for c in y_columns] # column header for player y positions\n",
    "#                     objs = ax.quiver( team[x_columns], team[y_columns], team[vx_columns], team[vy_columns], color=color, scale_units='inches', scale=10.,width=0.0015,headlength=5,headwidth=3,alpha=PlayerAlpha)\n",
    "#                     figobjs.append(objs)\n",
    "            \n",
    "    \n",
    "#             # plot ball\n",
    "#             objs, = ax.plot( team['ball_x'], team['ball_y'], 'wo', markeredgecolor='k', markeredgewidth=1.5, MarkerSize=6, alpha=1.0, LineWidth=0)\n",
    "#             figobjs.append(objs)\n",
    "    \n",
    "#             # include match time at the top\n",
    "#             frame_minute =  int( hometeam.loc[i]['Time [s]']/60. )\n",
    "#             frame_second =  ( hometeam.loc[i]['Time [s]']/60. - frame_minute ) * 60.\n",
    "#             timestring = \"%d:%1.2f\" % ( frame_minute, frame_second  )\n",
    "#             objs = ax.text(-2.5,field_dimen[1]/2. +1., 'time: '+timestring+' - frame: '+str(i), fontsize=14, ha='center')\n",
    "\n",
    "#             figobjs.append(objs)\n",
    "            \n",
    "#             writer.grab_frame()\n",
    "#             print(f'frame: {count}')\n",
    "#             count += 1\n",
    "#             # Delete all axis objects (other than pitch lines) in preperation for next frame\n",
    "#             for figobj in figobjs:\n",
    "#                 figobj.remove()\n",
    "#     print('\\n',\"done\")\n",
    "#     plt.clf()\n",
    "#     plt.close(fig)    "
   ]
  },
  {
   "cell_type": "code",
   "execution_count": null,
   "metadata": {},
   "outputs": [],
   "source": []
  },
  {
   "cell_type": "code",
   "execution_count": null,
   "metadata": {},
   "outputs": [],
   "source": [
    "hometeam = tracking_home[100:125]\n",
    "awayteam = tracking_away[100:125]\n",
    "fpath = '/Users/jeromekirkpatrick/Desktop'\n",
    "fname = 'ppcf_test5'\n",
    "my_ppcf_save_match_clip(hometeam,awayteam, fpath, fname=fname, figax=None, frames_per_second=25, team_colors=('r','b'), field_dimen = (106.0,68.0), include_player_velocities=True, PlayerMarkerSize=10, PlayerAlpha=0.7)"
   ]
  },
  {
   "cell_type": "code",
   "execution_count": null,
   "metadata": {},
   "outputs": [],
   "source": [
    "hometeam = tracking_home[0:10_000]\n",
    "awayteam = tracking_away[0:10_000]\n",
    "fpath = '/Users/jeromekirkpatrick/Desktop'\n",
    "fname = 'ppcf_test10000'\n",
    "my_ppcf_save_match_clip(hometeam,awayteam, fpath, fname=fname, figax=None, frames_per_second=25, team_colors=('r','b'), field_dimen = (106.0,68.0), include_player_velocities=True, PlayerMarkerSize=10, PlayerAlpha=0.7)"
   ]
  },
  {
   "cell_type": "code",
   "execution_count": null,
   "metadata": {},
   "outputs": [],
   "source": [
    "EPV[15,:]\n"
   ]
  },
  {
   "cell_type": "code",
   "execution_count": null,
   "metadata": {},
   "outputs": [],
   "source": [
    "EPV.shape\n"
   ]
  },
  {
   "cell_type": "code",
   "execution_count": null,
   "metadata": {},
   "outputs": [],
   "source": [
    "events\n"
   ]
  },
  {
   "cell_type": "code",
   "execution_count": null,
   "metadata": {},
   "outputs": [],
   "source": [
    "events.iloc[195]\n"
   ]
  },
  {
   "cell_type": "code",
   "execution_count": null,
   "metadata": {},
   "outputs": [],
   "source": [
    "tracking_home.columns\n"
   ]
  },
  {
   "cell_type": "code",
   "execution_count": null,
   "metadata": {},
   "outputs": [],
   "source": [
    "tracking_home.iloc[11976]['ball_x']\n"
   ]
  },
  {
   "cell_type": "code",
   "execution_count": 60,
   "metadata": {},
   "outputs": [
    {
     "data": {
      "text/plain": [
       "-15.491080000000004"
      ]
     },
     "execution_count": 60,
     "metadata": {},
     "output_type": "execute_result"
    }
   ],
   "source": [
    "tracking_home.iloc[11976]['ball_y']\n",
    "\n"
   ]
  },
  {
   "cell_type": "code",
   "execution_count": null,
   "metadata": {},
   "outputs": [],
   "source": []
  }
 ],
 "metadata": {
  "kernelspec": {
   "display_name": "Python 3",
   "language": "python",
   "name": "python3"
  },
  "language_info": {
   "codemirror_mode": {
    "name": "ipython",
    "version": 3
   },
   "file_extension": ".py",
   "mimetype": "text/x-python",
   "name": "python",
   "nbconvert_exporter": "python",
   "pygments_lexer": "ipython3",
   "version": "3.7.6"
  }
 },
 "nbformat": 4,
 "nbformat_minor": 4
}
