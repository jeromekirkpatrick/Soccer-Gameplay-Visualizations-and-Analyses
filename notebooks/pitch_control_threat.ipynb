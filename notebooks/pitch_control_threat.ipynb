{
 "cells": [
  {
   "cell_type": "code",
   "execution_count": 2,
   "metadata": {},
   "outputs": [],
   "source": [
    "import pandas as pd\n",
    "import numpy as np\n",
    "import matplotlib.pyplot as plt"
   ]
  },
  {
   "cell_type": "code",
   "execution_count": 31,
   "metadata": {},
   "outputs": [
    {
     "name": "stdout",
     "output_type": "stream",
     "text": [
      "The autoreload extension is already loaded. To reload it, use:\n",
      "  %reload_ext autoreload\n"
     ]
    }
   ],
   "source": [
    "%load_ext autoreload\n",
    "%autoreload 2\n",
    "import Metrica_IO as mio\n",
    "import Metrica_Viz as mviz\n",
    "import Metrica_Velocities as mvel\n",
    "import Metrica_PitchControl as mpc\n",
    "import Metrica_EPV as mepv"
   ]
  },
  {
   "cell_type": "code",
   "execution_count": 4,
   "metadata": {},
   "outputs": [],
   "source": [
    "# set up initial path to data\n",
    "DATADIR = '/Users/jeromekirkpatrick/Desktop/galvanize/sample-data/data'\n",
    "\n",
    "game_id = 2 # let's look at sample match 2"
   ]
  },
  {
   "cell_type": "code",
   "execution_count": 5,
   "metadata": {},
   "outputs": [],
   "source": [
    "# read in the event data\n",
    "events = mio.read_event_data(DATADIR,game_id)"
   ]
  },
  {
   "cell_type": "code",
   "execution_count": 6,
   "metadata": {},
   "outputs": [
    {
     "name": "stdout",
     "output_type": "stream",
     "text": [
      "Reading team: home\n",
      "Reading team: away\n"
     ]
    }
   ],
   "source": [
    "# read in tracking data\n",
    "tracking_home = mio.tracking_data(DATADIR,game_id,'Home')\n",
    "tracking_away = mio.tracking_data(DATADIR,game_id,'Away')"
   ]
  },
  {
   "cell_type": "code",
   "execution_count": 7,
   "metadata": {},
   "outputs": [],
   "source": [
    "# Convert positions from metrica units to meters (note change in Metrica's coordinate system since the last lesson)\n",
    "tracking_home = mio.to_metric_coordinates(tracking_home)\n",
    "tracking_away = mio.to_metric_coordinates(tracking_away)\n",
    "events = mio.to_metric_coordinates(events)"
   ]
  },
  {
   "cell_type": "code",
   "execution_count": 8,
   "metadata": {},
   "outputs": [],
   "source": [
    "# reverse direction of play in the second half so that home team is always attacking from right->left\n",
    "tracking_home,tracking_away,events = mio.to_single_playing_direction(tracking_home,tracking_away,events)"
   ]
  },
  {
   "cell_type": "code",
   "execution_count": 9,
   "metadata": {},
   "outputs": [],
   "source": [
    "# Calculate player velocities\n",
    "# tracking_home = mvel.calc_player_velocities(tracking_home,smoothing=True)\n",
    "# tracking_away = mvel.calc_player_velocities(tracking_away,smoothing=True)\n",
    "# # **** NOTE *****\n",
    "# if the lines above produce an error (happens for one version of numpy) change them to the lines below:\n",
    "# ***************\n",
    "tracking_home = mvel.calc_player_velocities(tracking_home,smoothing=True,filter_='moving_average')\n",
    "tracking_away = mvel.calc_player_velocities(tracking_away,smoothing=True,filter_='moving_average')"
   ]
  },
  {
   "cell_type": "code",
   "execution_count": 21,
   "metadata": {},
   "outputs": [],
   "source": [
    "\"\"\" *** UPDATES TO THE MODEL: OFFSIDES \"\"\"\n",
    "# first get pitch control model parameters\n",
    "params = mpc.default_model_params()\n",
    "# find goalkeepers for offside calculation\n",
    "GK_numbers = [mio.find_goalkeeper(tracking_home),mio.find_goalkeeper(tracking_away)]"
   ]
  },
  {
   "cell_type": "code",
   "execution_count": 22,
   "metadata": {},
   "outputs": [],
   "source": [
    "# # this step next to make it easy to use game \n",
    "# #read in the tracking data for liverpool and the opposition\n",
    "# tracking_home1 = pd.read_csv('tracking_home1.csv')\n",
    "# tracking_away1 = pd.read_csv('tracking_home2.csv')"
   ]
  },
  {
   "cell_type": "code",
   "execution_count": 23,
   "metadata": {},
   "outputs": [],
   "source": [
    "params = mpc.default_model_params(3)"
   ]
  },
  {
   "cell_type": "code",
   "execution_count": 24,
   "metadata": {},
   "outputs": [],
   "source": [
    "def nearest_attacker(target_position, frame, tracking_home, tracking_away, params, field_dimen = (106.,68.,), n_grid_cells_x = 50):\n",
    "    pass_frame = frame\n",
    "    pass_team = 'Away'\n",
    "    if pass_team=='Home':\n",
    "        attacking_players = mpc.initialise_players(tracking_homenew.loc[pass_frame],'Home',params)\n",
    "        defending_players = mpc.initialise_players(tracking_awaynew.loc[pass_frame],'Away',params)\n",
    "    elif pass_team=='Away':\n",
    "        defending_players = mpc.initialise_players(tracking_homenew.loc[pass_frame],'Home',params)\n",
    "        attacking_players = mpc.initialise_players(tracking_awaynew.loc[pass_frame],'Away',params)\n",
    "    else:\n",
    "        assert False, \"Team in possession must be either home or away\"\n",
    "\n",
    "    nearest_att = np.nanargmin( [p.simple_time_to_intercept(target_position ) for p in attacking_players] )\n",
    "    return attacking_players[nearest_att].__dict__['id']"
   ]
  },
  {
   "cell_type": "code",
   "execution_count": 25,
   "metadata": {},
   "outputs": [],
   "source": [
    "#function to find x-coordinate of deepest opposition defender\n",
    "def last_def(frame,tracking_homenew):\n",
    "    u = 'Away'\n",
    "    if u == \"Away\":\n",
    "        a1 = tracking_homenew.iloc[f].Home_1_x\n",
    "        a2 = tracking_homenew.iloc[f].Home_2_x\n",
    "        a3 = tracking_homenew.iloc[f].Home_3_x\n",
    "        a4 = tracking_homenew.iloc[f].Home_4_x\n",
    "        a5 = tracking_homenew.iloc[f].Home_5_x\n",
    "        a6 = tracking_homenew.iloc[f].Home_6_x\n",
    "        a7 = tracking_homenew.iloc[f].Home_7_x\n",
    "        a8 = tracking_homenew.iloc[f].Home_8_x   \n",
    "        a9 = tracking_homenew.iloc[f].Home_9_x \n",
    "        a10 = tracking_homenew.iloc[f].Home_10_x\n",
    "        a11 = tracking_homenew.iloc[f].Home_11_x\n",
    "        a12 = tracking_homenew.iloc[f].Home_12_x\n",
    "        a13 = tracking_homenew.iloc[f].Home_13_x\n",
    "        a14 = tracking_homenew.iloc[f].Home_14_x\n",
    "        x=[a1,a2,a3,a4,a5,a6,a7,a8,a9,a10,a11,a12,a13,a14]\n",
    "        x = np.array(x)\n",
    "        x[np.isnan(x)] = 0\n",
    "        m = np.partition(x, 12)[12]\n",
    "\n",
    "    return m"
   ]
  },
  {
   "cell_type": "code",
   "execution_count": 26,
   "metadata": {},
   "outputs": [],
   "source": [
    "def find1(PP,frame,tracking_home,tracking_away,xgrid,ygrid,last):\n",
    "    for k in range(0,49):\n",
    "        for i in range(0,31):\n",
    "            l = (nearest_attackerliv(np.array( [xgrid[k], ygrid[i]] ),frame, tracking_home, tracking_away, params, field_dimen = (106.,68.,), n_grid_cells_x = 50))\n",
    "            l=l.astype(int)\n",
    "            if (locx[i][k]>last) and (PP[i][k]>0.5):\n",
    "                zero[i][k] = zero[i][k]+PP[i][k]\n",
    "    return"
   ]
  },
  {
   "cell_type": "code",
   "execution_count": 27,
   "metadata": {},
   "outputs": [],
   "source": [
    "#iterations is number of frames analysed\n",
    "#interval is difference between two consecutive frames looked at, could be 1,2,3,....\n",
    "#starting_frame is the first frame to be looked at\n",
    "def pitch_control_behind_defence(iterations, interval, starting_frame,tracking_homenew, tracking_awaynew, params):\n",
    "    for j in range(0, iterations):\n",
    "        k = starting_frame + j*interval\n",
    "        frame_id = k\n",
    "        last = last_defliv(frame_id,tracking_homenew)\n",
    "        p = 'Away'\n",
    "        PPCF,xgrid,ygrid = mpc.generate_pitch_control_for_frameliv(frame_id, tracking_homenew, tracking_awaynew, params, field_dimen = (106.,68.,), n_grid_cells_x = 50)\n",
    "        find1(PPCF,frame_id,tracking_homenew,tracking_awaynew,xgrid,ygrid,last)"
   ]
  },
  {
   "cell_type": "code",
   "execution_count": 28,
   "metadata": {},
   "outputs": [],
   "source": [
    "#to plot pitch control behind defence \n",
    "def plot_pitch_control(zero):\n",
    "    import matplotlib as mpl\n",
    "    from matplotlib import pyplot\n",
    "    import numpy as np\n",
    "\n",
    "\n",
    "    fig = pyplot.figure(2)\n",
    "\n",
    "    cmap2 = mpl.colors.LinearSegmentedColormap.from_list('my_colormap',\n",
    "                                           ['green','yellow','orange','red'],\n",
    "                                           256)\n",
    "\n",
    "    img2 = pyplot.imshow(zero[:,0:49][0:31],interpolation='nearest',cmap = cmap2,origin='lower')\n",
    "\n",
    "    pyplot.colorbar(img2,cmap=cmap2)\n",
    "\n",
    "    fig.savefig(\"new.png\",dpi=600)#save the plot on your desktop"
   ]
  },
  {
   "cell_type": "code",
   "execution_count": 52,
   "metadata": {},
   "outputs": [
    {
     "ename": "ValueError",
     "evalue": "too many values to unpack (expected 2)",
     "output_type": "error",
     "traceback": [
      "\u001b[0;31m---------------------------------------------------------------------------\u001b[0m",
      "\u001b[0;31mValueError\u001b[0m                                Traceback (most recent call last)",
      "\u001b[0;32m<ipython-input-52-ad175116ae27>\u001b[0m in \u001b[0;36m<module>\u001b[0;34m\u001b[0m\n\u001b[1;32m      1\u001b[0m \u001b[0mframe\u001b[0m \u001b[0;34m=\u001b[0m \u001b[0;36m100\u001b[0m \u001b[0;31m#for finding out pitch control at that instant\u001b[0m\u001b[0;34m\u001b[0m\u001b[0;34m\u001b[0m\u001b[0m\n\u001b[1;32m      2\u001b[0m \u001b[0mPPCF\u001b[0m\u001b[0;34m,\u001b[0m\u001b[0mxgrid\u001b[0m\u001b[0;34m,\u001b[0m\u001b[0mygrid\u001b[0m \u001b[0;34m=\u001b[0m \u001b[0mmpc\u001b[0m\u001b[0;34m.\u001b[0m\u001b[0mmy_generate_pitch_control_for_frame\u001b[0m\u001b[0;34m(\u001b[0m\u001b[0mframe\u001b[0m\u001b[0;34m,\u001b[0m \u001b[0mtracking_home\u001b[0m\u001b[0;34m,\u001b[0m \u001b[0mtracking_away\u001b[0m\u001b[0;34m,\u001b[0m \u001b[0mparams\u001b[0m\u001b[0;34m,\u001b[0m \u001b[0mfield_dimen\u001b[0m \u001b[0;34m=\u001b[0m \u001b[0;34m(\u001b[0m\u001b[0;36m106.\u001b[0m\u001b[0;34m,\u001b[0m\u001b[0;36m68.\u001b[0m\u001b[0;34m,\u001b[0m\u001b[0;34m)\u001b[0m\u001b[0;34m,\u001b[0m \u001b[0mn_grid_cells_x\u001b[0m \u001b[0;34m=\u001b[0m \u001b[0;36m50\u001b[0m\u001b[0;34m,\u001b[0m \u001b[0mGK_numbers\u001b[0m\u001b[0;34m=\u001b[0m\u001b[0mGK_numbers\u001b[0m\u001b[0;34m)\u001b[0m\u001b[0;34m\u001b[0m\u001b[0;34m\u001b[0m\u001b[0m\n\u001b[0;32m----> 3\u001b[0;31m \u001b[0mmviz\u001b[0m\u001b[0;34m.\u001b[0m\u001b[0mmy_plot_pitchcontrol_for_frame\u001b[0m\u001b[0;34m(\u001b[0m\u001b[0mframe\u001b[0m\u001b[0;34m,\u001b[0m \u001b[0mtracking_home\u001b[0m\u001b[0;34m,\u001b[0m \u001b[0mtracking_away\u001b[0m\u001b[0;34m,\u001b[0m \u001b[0mPPCF\u001b[0m\u001b[0;34m,\u001b[0m \u001b[0mxgrid\u001b[0m\u001b[0;34m,\u001b[0m \u001b[0mygrid\u001b[0m\u001b[0;34m,\u001b[0m \u001b[0mannotate\u001b[0m\u001b[0;34m=\u001b[0m\u001b[0;32mFalse\u001b[0m \u001b[0;34m)\u001b[0m\u001b[0;34m\u001b[0m\u001b[0;34m\u001b[0m\u001b[0m\n\u001b[0m",
      "\u001b[0;32m~/Desktop/galvanize/LaurieOnTracking/Metrica_Viz.py\u001b[0m in \u001b[0;36mmy_plot_pitchcontrol_for_frame\u001b[0;34m(frame, tracking_home, tracking_away, ax, PPCF, alpha, include_player_velocities, annotate, field_dimen)\u001b[0m\n\u001b[1;32m    612\u001b[0m \u001b[0;31m#     fig,ax = plot_pitch(field_color='white', field_dimen = field_dimen)\u001b[0m\u001b[0;34m\u001b[0m\u001b[0;34m\u001b[0m\u001b[0;34m\u001b[0m\u001b[0m\n\u001b[1;32m    613\u001b[0m     \u001b[0;31m# switched figax from  (fig,ax) to ax and assigned to variable objs\u001b[0m\u001b[0;34m\u001b[0m\u001b[0;34m\u001b[0m\u001b[0;34m\u001b[0m\u001b[0m\n\u001b[0;32m--> 614\u001b[0;31m     \u001b[0mobjs\u001b[0m \u001b[0;34m=\u001b[0m \u001b[0mmy_plot_frame\u001b[0m\u001b[0;34m(\u001b[0m \u001b[0mtracking_home\u001b[0m\u001b[0;34m.\u001b[0m\u001b[0mloc\u001b[0m\u001b[0;34m[\u001b[0m\u001b[0mpass_frame\u001b[0m\u001b[0;34m]\u001b[0m\u001b[0;34m,\u001b[0m \u001b[0mtracking_away\u001b[0m\u001b[0;34m.\u001b[0m\u001b[0mloc\u001b[0m\u001b[0;34m[\u001b[0m\u001b[0mpass_frame\u001b[0m\u001b[0;34m]\u001b[0m\u001b[0;34m,\u001b[0m \u001b[0mfigax\u001b[0m\u001b[0;34m=\u001b[0m\u001b[0max\u001b[0m\u001b[0;34m,\u001b[0m \u001b[0mPlayerAlpha\u001b[0m\u001b[0;34m=\u001b[0m\u001b[0malpha\u001b[0m\u001b[0;34m,\u001b[0m \u001b[0minclude_player_velocities\u001b[0m\u001b[0;34m=\u001b[0m\u001b[0minclude_player_velocities\u001b[0m\u001b[0;34m,\u001b[0m \u001b[0mannotate\u001b[0m\u001b[0;34m=\u001b[0m\u001b[0mannotate\u001b[0m \u001b[0;34m)\u001b[0m\u001b[0;34m\u001b[0m\u001b[0;34m\u001b[0m\u001b[0m\n\u001b[0m\u001b[1;32m    615\u001b[0m \u001b[0;31m#     plot_events( events.loc[event_id:event_id], figax = (fig,ax), indicators = ['Marker','Arrow'], annotate=False, color= 'k', alpha=1 )\u001b[0m\u001b[0;34m\u001b[0m\u001b[0;34m\u001b[0m\u001b[0;34m\u001b[0m\u001b[0m\n\u001b[1;32m    616\u001b[0m     \u001b[0mfigobjs\u001b[0m\u001b[0;34m.\u001b[0m\u001b[0mappend\u001b[0m\u001b[0;34m(\u001b[0m\u001b[0mobjs\u001b[0m\u001b[0;34m)\u001b[0m\u001b[0;34m\u001b[0m\u001b[0;34m\u001b[0m\u001b[0m\n",
      "\u001b[0;32m~/Desktop/galvanize/LaurieOnTracking/Metrica_Viz.py\u001b[0m in \u001b[0;36mmy_plot_frame\u001b[0;34m(hometeam, awayteam, figax, team_colors, field_dimen, include_player_velocities, PlayerMarkerSize, PlayerAlpha, annotate)\u001b[0m\n\u001b[1;32m    510\u001b[0m         \u001b[0mfig\u001b[0m\u001b[0;34m,\u001b[0m\u001b[0max\u001b[0m \u001b[0;34m=\u001b[0m \u001b[0mplot_pitch\u001b[0m\u001b[0;34m(\u001b[0m \u001b[0mfield_dimen\u001b[0m \u001b[0;34m=\u001b[0m \u001b[0mfield_dimen\u001b[0m \u001b[0;34m)\u001b[0m\u001b[0;34m\u001b[0m\u001b[0;34m\u001b[0m\u001b[0m\n\u001b[1;32m    511\u001b[0m     \u001b[0;32melse\u001b[0m\u001b[0;34m:\u001b[0m \u001b[0;31m# overlay on a previously generated pitch\u001b[0m\u001b[0;34m\u001b[0m\u001b[0;34m\u001b[0m\u001b[0m\n\u001b[0;32m--> 512\u001b[0;31m         \u001b[0mfig\u001b[0m\u001b[0;34m,\u001b[0m\u001b[0max\u001b[0m \u001b[0;34m=\u001b[0m \u001b[0mfigax\u001b[0m \u001b[0;31m# unpack tuple\u001b[0m\u001b[0;34m\u001b[0m\u001b[0;34m\u001b[0m\u001b[0m\n\u001b[0m\u001b[1;32m    513\u001b[0m     \u001b[0;31m# plot home & away teams in order\u001b[0m\u001b[0;34m\u001b[0m\u001b[0;34m\u001b[0m\u001b[0;34m\u001b[0m\u001b[0m\n\u001b[1;32m    514\u001b[0m     \u001b[0;32mfor\u001b[0m \u001b[0mteam\u001b[0m\u001b[0;34m,\u001b[0m\u001b[0mcolor\u001b[0m \u001b[0;32min\u001b[0m \u001b[0mzip\u001b[0m\u001b[0;34m(\u001b[0m \u001b[0;34m[\u001b[0m\u001b[0mhometeam\u001b[0m\u001b[0;34m,\u001b[0m\u001b[0mawayteam\u001b[0m\u001b[0;34m]\u001b[0m\u001b[0;34m,\u001b[0m \u001b[0mteam_colors\u001b[0m\u001b[0;34m)\u001b[0m \u001b[0;34m:\u001b[0m\u001b[0;34m\u001b[0m\u001b[0;34m\u001b[0m\u001b[0m\n",
      "\u001b[0;31mValueError\u001b[0m: too many values to unpack (expected 2)"
     ]
    }
   ],
   "source": []
  },
  {
   "cell_type": "code",
   "execution_count": 48,
   "metadata": {},
   "outputs": [],
   "source": [
    "def my_plot_frame( hometeam, awayteam, figax=None, team_colors=('r','b'), field_dimen = (106.0,68.0), include_player_velocities=False, PlayerMarkerSize=10, PlayerAlpha=0.7, annotate=False ):\n",
    "    \"\"\" plot_frame( hometeam, awayteam )\n",
    "    \n",
    "    Plots a frame of Metrica tracking data (player positions and the ball) on a football pitch. All distances should be in meters.\n",
    "    \n",
    "    Parameters\n",
    "    -----------\n",
    "        hometeam: row (i.e. instant) of the home team tracking data frame\n",
    "        awayteam: row of the away team tracking data frame\n",
    "        fig,ax: Can be used to pass in the (fig,ax) objects of a previously generated pitch. Set to (fig,ax) to use an existing figure, or None (the default) to generate a new pitch plot, \n",
    "        team_colors: Tuple containing the team colors of the home & away team. Default is 'r' (red, home team) and 'b' (blue away team)\n",
    "        field_dimen: tuple containing the length and width of the pitch in meters. Default is (106,68)\n",
    "        include_player_velocities: Boolean variable that determines whether player velocities are also plotted (as quivers). Default is False\n",
    "        PlayerMarkerSize: size of the individual player marlers. Default is 10\n",
    "        PlayerAlpha: alpha (transparency) of player markers. Defaault is 0.7\n",
    "        annotate: Boolean variable that determines with player jersey numbers are added to the plot (default is False)\n",
    "        \n",
    "    Returrns\n",
    "    -----------\n",
    "       fig,ax : figure and aixs objects (so that other data can be plotted onto the pitch)\n",
    "\n",
    "    \"\"\"\n",
    "    if figax is None: # create new pitch \n",
    "        fig,ax = mviz.my_plot_pitch( field_dimen = field_dimen )\n",
    "    else: # overlay on a previously generated pitch\n",
    "        fig,ax = figax # unpack tuple\n",
    "    # plot home & away teams in order\n",
    "    for team,color in zip( [hometeam,awayteam], team_colors) :\n",
    "        x_columns = [c for c in team.keys() if c[-2:].lower()=='_x' and c!='ball_x'] # column header for player x positions\n",
    "        y_columns = [c for c in team.keys() if c[-2:].lower()=='_y' and c!='ball_y'] # column header for player y positions\n",
    "        ax.plot( team[x_columns], team[y_columns], color+'o', MarkerSize=PlayerMarkerSize, alpha=PlayerAlpha ) # plot player positions\n",
    "        if include_player_velocities:\n",
    "            vx_columns = ['{}_vx'.format(c[:-2]) for c in x_columns] # column header for player x positions\n",
    "            vy_columns = ['{}_vy'.format(c[:-2]) for c in y_columns] # column header for player y positions\n",
    "            ax.quiver( team[x_columns], team[y_columns], team[vx_columns], team[vy_columns], color=color, scale_units='inches', scale=10.,width=0.0015,headlength=5,headwidth=3,alpha=PlayerAlpha)\n",
    "        if annotate:\n",
    "            [ ax.text( team[x]+0.5, team[y]+0.5, x.split('_')[1], fontsize=10, color=color  ) for x,y in zip(x_columns,y_columns) if not ( np.isnan(team[x]) or np.isnan(team[y]) ) ] \n",
    "    # plot ball\n",
    "    ax.plot( hometeam['ball_x'], hometeam['ball_y'], 'wo', markeredgecolor='k', markeredgewidth=1.5, MarkerSize=6, alpha=1.0, LineWidth=0)\n",
    "    return fig,ax"
   ]
  },
  {
   "cell_type": "code",
   "execution_count": 49,
   "metadata": {},
   "outputs": [
    {
     "data": {
      "text/plain": [
       "Period           1.000000\n",
       "Time [s]         4.000000\n",
       "Home_11_x       46.553080\n",
       "Home_11_y        0.599080\n",
       "Home_1_x        15.976320\n",
       "                  ...    \n",
       "Home_8_vy        0.374000\n",
       "Home_8_speed     0.490918\n",
       "Home_9_vx       -1.351500\n",
       "Home_9_vy       -2.771000\n",
       "Home_9_speed     3.083017\n",
       "Name: 100, Length: 74, dtype: float64"
      ]
     },
     "execution_count": 49,
     "metadata": {},
     "output_type": "execute_result"
    }
   ],
   "source": [
    "tracking_home.loc[100,:]"
   ]
  },
  {
   "cell_type": "code",
   "execution_count": 51,
   "metadata": {},
   "outputs": [
    {
     "data": {
      "image/png": "[encoded data removed]",
      "text/plain": [
       "<Figure size 864x576 with 1 Axes>"
      ]
     },
     "metadata": {},
     "output_type": "display_data"
    }
   ],
   "source": [
    "my_plot_frame(tracking_home.loc[100,:],tracking_away.loc[100,:]);"
   ]
  },
  {
   "cell_type": "code",
   "execution_count": 53,
   "metadata": {},
   "outputs": [
    {
     "ename": "ValueError",
     "evalue": "too many values to unpack (expected 2)",
     "output_type": "error",
     "traceback": [
      "\u001b[0;31m---------------------------------------------------------------------------\u001b[0m",
      "\u001b[0;31mValueError\u001b[0m                                Traceback (most recent call last)",
      "\u001b[0;32m<ipython-input-53-ad175116ae27>\u001b[0m in \u001b[0;36m<module>\u001b[0;34m\u001b[0m\n\u001b[1;32m      1\u001b[0m \u001b[0mframe\u001b[0m \u001b[0;34m=\u001b[0m \u001b[0;36m100\u001b[0m \u001b[0;31m#for finding out pitch control at that instant\u001b[0m\u001b[0;34m\u001b[0m\u001b[0;34m\u001b[0m\u001b[0m\n\u001b[1;32m      2\u001b[0m \u001b[0mPPCF\u001b[0m\u001b[0;34m,\u001b[0m\u001b[0mxgrid\u001b[0m\u001b[0;34m,\u001b[0m\u001b[0mygrid\u001b[0m \u001b[0;34m=\u001b[0m \u001b[0mmpc\u001b[0m\u001b[0;34m.\u001b[0m\u001b[0mmy_generate_pitch_control_for_frame\u001b[0m\u001b[0;34m(\u001b[0m\u001b[0mframe\u001b[0m\u001b[0;34m,\u001b[0m \u001b[0mtracking_home\u001b[0m\u001b[0;34m,\u001b[0m \u001b[0mtracking_away\u001b[0m\u001b[0;34m,\u001b[0m \u001b[0mparams\u001b[0m\u001b[0;34m,\u001b[0m \u001b[0mfield_dimen\u001b[0m \u001b[0;34m=\u001b[0m \u001b[0;34m(\u001b[0m\u001b[0;36m106.\u001b[0m\u001b[0;34m,\u001b[0m\u001b[0;36m68.\u001b[0m\u001b[0;34m,\u001b[0m\u001b[0;34m)\u001b[0m\u001b[0;34m,\u001b[0m \u001b[0mn_grid_cells_x\u001b[0m \u001b[0;34m=\u001b[0m \u001b[0;36m50\u001b[0m\u001b[0;34m,\u001b[0m \u001b[0mGK_numbers\u001b[0m\u001b[0;34m=\u001b[0m\u001b[0mGK_numbers\u001b[0m\u001b[0;34m)\u001b[0m\u001b[0;34m\u001b[0m\u001b[0;34m\u001b[0m\u001b[0m\n\u001b[0;32m----> 3\u001b[0;31m \u001b[0mmviz\u001b[0m\u001b[0;34m.\u001b[0m\u001b[0mmy_plot_pitchcontrol_for_frame\u001b[0m\u001b[0;34m(\u001b[0m\u001b[0mframe\u001b[0m\u001b[0;34m,\u001b[0m \u001b[0mtracking_home\u001b[0m\u001b[0;34m,\u001b[0m \u001b[0mtracking_away\u001b[0m\u001b[0;34m,\u001b[0m \u001b[0mPPCF\u001b[0m\u001b[0;34m,\u001b[0m \u001b[0mxgrid\u001b[0m\u001b[0;34m,\u001b[0m \u001b[0mygrid\u001b[0m\u001b[0;34m,\u001b[0m \u001b[0mannotate\u001b[0m\u001b[0;34m=\u001b[0m\u001b[0;32mFalse\u001b[0m \u001b[0;34m)\u001b[0m\u001b[0;34m\u001b[0m\u001b[0;34m\u001b[0m\u001b[0m\n\u001b[0m",
      "\u001b[0;32m~/Desktop/galvanize/LaurieOnTracking/Metrica_Viz.py\u001b[0m in \u001b[0;36mmy_plot_pitchcontrol_for_frame\u001b[0;34m(frame, tracking_home, tracking_away, ax, PPCF, alpha, include_player_velocities, annotate, field_dimen)\u001b[0m\n\u001b[1;32m    612\u001b[0m \u001b[0;31m#     fig,ax = plot_pitch(field_color='white', field_dimen = field_dimen)\u001b[0m\u001b[0;34m\u001b[0m\u001b[0;34m\u001b[0m\u001b[0;34m\u001b[0m\u001b[0m\n\u001b[1;32m    613\u001b[0m     \u001b[0;31m# switched figax from  (fig,ax) to ax and assigned to variable objs\u001b[0m\u001b[0;34m\u001b[0m\u001b[0;34m\u001b[0m\u001b[0;34m\u001b[0m\u001b[0m\n\u001b[0;32m--> 614\u001b[0;31m     \u001b[0mobjs\u001b[0m \u001b[0;34m=\u001b[0m \u001b[0mmy_plot_frame\u001b[0m\u001b[0;34m(\u001b[0m \u001b[0mtracking_home\u001b[0m\u001b[0;34m.\u001b[0m\u001b[0mloc\u001b[0m\u001b[0;34m[\u001b[0m\u001b[0mpass_frame\u001b[0m\u001b[0;34m]\u001b[0m\u001b[0;34m,\u001b[0m \u001b[0mtracking_away\u001b[0m\u001b[0;34m.\u001b[0m\u001b[0mloc\u001b[0m\u001b[0;34m[\u001b[0m\u001b[0mpass_frame\u001b[0m\u001b[0;34m]\u001b[0m\u001b[0;34m,\u001b[0m \u001b[0mfigax\u001b[0m\u001b[0;34m=\u001b[0m\u001b[0max\u001b[0m\u001b[0;34m,\u001b[0m \u001b[0mPlayerAlpha\u001b[0m\u001b[0;34m=\u001b[0m\u001b[0malpha\u001b[0m\u001b[0;34m,\u001b[0m \u001b[0minclude_player_velocities\u001b[0m\u001b[0;34m=\u001b[0m\u001b[0minclude_player_velocities\u001b[0m\u001b[0;34m,\u001b[0m \u001b[0mannotate\u001b[0m\u001b[0;34m=\u001b[0m\u001b[0mannotate\u001b[0m \u001b[0;34m)\u001b[0m\u001b[0;34m\u001b[0m\u001b[0;34m\u001b[0m\u001b[0m\n\u001b[0m\u001b[1;32m    615\u001b[0m \u001b[0;31m#     plot_events( events.loc[event_id:event_id], figax = (fig,ax), indicators = ['Marker','Arrow'], annotate=False, color= 'k', alpha=1 )\u001b[0m\u001b[0;34m\u001b[0m\u001b[0;34m\u001b[0m\u001b[0;34m\u001b[0m\u001b[0m\n\u001b[1;32m    616\u001b[0m     \u001b[0mfigobjs\u001b[0m\u001b[0;34m.\u001b[0m\u001b[0mappend\u001b[0m\u001b[0;34m(\u001b[0m\u001b[0mobjs\u001b[0m\u001b[0;34m)\u001b[0m\u001b[0;34m\u001b[0m\u001b[0;34m\u001b[0m\u001b[0m\n",
      "\u001b[0;32m~/Desktop/galvanize/LaurieOnTracking/Metrica_Viz.py\u001b[0m in \u001b[0;36mmy_plot_frame\u001b[0;34m(hometeam, awayteam, figax, team_colors, field_dimen, include_player_velocities, PlayerMarkerSize, PlayerAlpha, annotate)\u001b[0m\n\u001b[1;32m    510\u001b[0m         \u001b[0mfig\u001b[0m\u001b[0;34m,\u001b[0m\u001b[0max\u001b[0m \u001b[0;34m=\u001b[0m \u001b[0mplot_pitch\u001b[0m\u001b[0;34m(\u001b[0m \u001b[0mfield_dimen\u001b[0m \u001b[0;34m=\u001b[0m \u001b[0mfield_dimen\u001b[0m \u001b[0;34m)\u001b[0m\u001b[0;34m\u001b[0m\u001b[0;34m\u001b[0m\u001b[0m\n\u001b[1;32m    511\u001b[0m     \u001b[0;32melse\u001b[0m\u001b[0;34m:\u001b[0m \u001b[0;31m# overlay on a previously generated pitch\u001b[0m\u001b[0;34m\u001b[0m\u001b[0;34m\u001b[0m\u001b[0m\n\u001b[0;32m--> 512\u001b[0;31m         \u001b[0mfig\u001b[0m\u001b[0;34m,\u001b[0m\u001b[0max\u001b[0m \u001b[0;34m=\u001b[0m \u001b[0mfigax\u001b[0m \u001b[0;31m# unpack tuple\u001b[0m\u001b[0;34m\u001b[0m\u001b[0;34m\u001b[0m\u001b[0m\n\u001b[0m\u001b[1;32m    513\u001b[0m     \u001b[0;31m# plot home & away teams in order\u001b[0m\u001b[0;34m\u001b[0m\u001b[0;34m\u001b[0m\u001b[0;34m\u001b[0m\u001b[0m\n\u001b[1;32m    514\u001b[0m     \u001b[0;32mfor\u001b[0m \u001b[0mteam\u001b[0m\u001b[0;34m,\u001b[0m\u001b[0mcolor\u001b[0m \u001b[0;32min\u001b[0m \u001b[0mzip\u001b[0m\u001b[0;34m(\u001b[0m \u001b[0;34m[\u001b[0m\u001b[0mhometeam\u001b[0m\u001b[0;34m,\u001b[0m\u001b[0mawayteam\u001b[0m\u001b[0;34m]\u001b[0m\u001b[0;34m,\u001b[0m \u001b[0mteam_colors\u001b[0m\u001b[0;34m)\u001b[0m \u001b[0;34m:\u001b[0m\u001b[0;34m\u001b[0m\u001b[0;34m\u001b[0m\u001b[0m\n",
      "\u001b[0;31mValueError\u001b[0m: too many values to unpack (expected 2)"
     ]
    }
   ],
   "source": [
    "frame = 100 #for finding out pitch control at that instant\n",
    "PPCF,xgrid,ygrid = mpc.my_generate_pitch_control_for_frame(frame, tracking_home, tracking_away, params, field_dimen = (106.,68.,), n_grid_cells_x = 50, GK_numbers=GK_numbers)\n",
    "mviz.my_plot_pitchcontrol_for_frame(frame, tracking_home, tracking_away, PPCF, xgrid, ygrid, annotate=False )"
   ]
  },
  {
   "cell_type": "code",
   "execution_count": 39,
   "metadata": {},
   "outputs": [
    {
     "ename": "AttributeError",
     "evalue": "'numpy.ndarray' object has no attribute 'plot'",
     "output_type": "error",
     "traceback": [
      "\u001b[0;31m---------------------------------------------------------------------------\u001b[0m",
      "\u001b[0;31mAttributeError\u001b[0m                            Traceback (most recent call last)",
      "\u001b[0;32m<ipython-input-39-cccd942953fa>\u001b[0m in \u001b[0;36m<module>\u001b[0;34m\u001b[0m\n\u001b[1;32m     15\u001b[0m     \u001b[0;32mreturn\u001b[0m \u001b[0mimage\u001b[0m \u001b[0;31m# returns a 8-bit RGB array\u001b[0m\u001b[0;34m\u001b[0m\u001b[0;34m\u001b[0m\u001b[0m\n\u001b[1;32m     16\u001b[0m \u001b[0;34m\u001b[0m\u001b[0m\n\u001b[0;32m---> 17\u001b[0;31m \u001b[0mclip\u001b[0m \u001b[0;34m=\u001b[0m \u001b[0mmpy\u001b[0m\u001b[0;34m.\u001b[0m\u001b[0mVideoClip\u001b[0m\u001b[0;34m(\u001b[0m\u001b[0mmake_frame\u001b[0m\u001b[0;34m,\u001b[0m \u001b[0mduration\u001b[0m\u001b[0;34m=\u001b[0m\u001b[0;34m(\u001b[0m\u001b[0;34m(\u001b[0m\u001b[0mend_frame\u001b[0m\u001b[0;34m-\u001b[0m\u001b[0mstarting_frame\u001b[0m\u001b[0;34m)\u001b[0m\u001b[0;34m/\u001b[0m\u001b[0mf\u001b[0m\u001b[0;34m)\u001b[0m\u001b[0;34m)\u001b[0m\u001b[0;34m.\u001b[0m\u001b[0mset_fps\u001b[0m\u001b[0;34m(\u001b[0m\u001b[0mf\u001b[0m\u001b[0;34m)\u001b[0m \u001b[0;31m# 2 seconds\u001b[0m\u001b[0;34m\u001b[0m\u001b[0;34m\u001b[0m\u001b[0m\n\u001b[0m\u001b[1;32m     18\u001b[0m \u001b[0mclip\u001b[0m\u001b[0;34m.\u001b[0m\u001b[0mipython_display\u001b[0m\u001b[0;34m(\u001b[0m\u001b[0;34m)\u001b[0m\u001b[0;34m\u001b[0m\u001b[0;34m\u001b[0m\u001b[0m\n\u001b[1;32m     19\u001b[0m \u001b[0mclip\u001b[0m\u001b[0;34m.\u001b[0m\u001b[0mwrite_videofile\u001b[0m\u001b[0;34m(\u001b[0m\u001b[0;34m\"video.mp4\"\u001b[0m\u001b[0;34m)\u001b[0m\u001b[0;31m#video file is saved\u001b[0m\u001b[0;34m\u001b[0m\u001b[0;34m\u001b[0m\u001b[0m\n",
      "\u001b[0;32m~/opt/anaconda3/lib/python3.7/site-packages/moviepy/video/VideoClip.py\u001b[0m in \u001b[0;36m__init__\u001b[0;34m(self, make_frame, ismask, duration, has_constant_size)\u001b[0m\n\u001b[1;32m     84\u001b[0m         \u001b[0;32mif\u001b[0m \u001b[0mmake_frame\u001b[0m\u001b[0;34m:\u001b[0m\u001b[0;34m\u001b[0m\u001b[0;34m\u001b[0m\u001b[0m\n\u001b[1;32m     85\u001b[0m             \u001b[0mself\u001b[0m\u001b[0;34m.\u001b[0m\u001b[0mmake_frame\u001b[0m \u001b[0;34m=\u001b[0m \u001b[0mmake_frame\u001b[0m\u001b[0;34m\u001b[0m\u001b[0;34m\u001b[0m\u001b[0m\n\u001b[0;32m---> 86\u001b[0;31m             \u001b[0mself\u001b[0m\u001b[0;34m.\u001b[0m\u001b[0msize\u001b[0m \u001b[0;34m=\u001b[0m \u001b[0mself\u001b[0m\u001b[0;34m.\u001b[0m\u001b[0mget_frame\u001b[0m\u001b[0;34m(\u001b[0m\u001b[0;36m0\u001b[0m\u001b[0;34m)\u001b[0m\u001b[0;34m.\u001b[0m\u001b[0mshape\u001b[0m\u001b[0;34m[\u001b[0m\u001b[0;34m:\u001b[0m\u001b[0;36m2\u001b[0m\u001b[0;34m]\u001b[0m\u001b[0;34m[\u001b[0m\u001b[0;34m:\u001b[0m\u001b[0;34m:\u001b[0m\u001b[0;34m-\u001b[0m\u001b[0;36m1\u001b[0m\u001b[0;34m]\u001b[0m\u001b[0;34m\u001b[0m\u001b[0;34m\u001b[0m\u001b[0m\n\u001b[0m\u001b[1;32m     87\u001b[0m         \u001b[0mself\u001b[0m\u001b[0;34m.\u001b[0m\u001b[0mismask\u001b[0m \u001b[0;34m=\u001b[0m \u001b[0mismask\u001b[0m\u001b[0;34m\u001b[0m\u001b[0;34m\u001b[0m\u001b[0m\n\u001b[1;32m     88\u001b[0m         \u001b[0mself\u001b[0m\u001b[0;34m.\u001b[0m\u001b[0mhas_constant_size\u001b[0m\u001b[0;34m=\u001b[0m\u001b[0mhas_constant_size\u001b[0m\u001b[0;34m\u001b[0m\u001b[0;34m\u001b[0m\u001b[0m\n",
      "\u001b[0;32m</Users/jeromekirkpatrick/opt/anaconda3/lib/python3.7/site-packages/decorator.py:decorator-gen-138>\u001b[0m in \u001b[0;36mget_frame\u001b[0;34m(self, t)\u001b[0m\n",
      "\u001b[0;32m~/opt/anaconda3/lib/python3.7/site-packages/moviepy/decorators.py\u001b[0m in \u001b[0;36mwrapper\u001b[0;34m(f, *a, **kw)\u001b[0m\n\u001b[1;32m     87\u001b[0m         new_kw = {k: fun(v) if k in varnames else v\n\u001b[1;32m     88\u001b[0m                  for (k,v) in kw.items()}\n\u001b[0;32m---> 89\u001b[0;31m         \u001b[0;32mreturn\u001b[0m \u001b[0mf\u001b[0m\u001b[0;34m(\u001b[0m\u001b[0;34m*\u001b[0m\u001b[0mnew_a\u001b[0m\u001b[0;34m,\u001b[0m \u001b[0;34m**\u001b[0m\u001b[0mnew_kw\u001b[0m\u001b[0;34m)\u001b[0m\u001b[0;34m\u001b[0m\u001b[0;34m\u001b[0m\u001b[0m\n\u001b[0m\u001b[1;32m     90\u001b[0m     \u001b[0;32mreturn\u001b[0m \u001b[0mdecorator\u001b[0m\u001b[0;34m.\u001b[0m\u001b[0mdecorator\u001b[0m\u001b[0;34m(\u001b[0m\u001b[0mwrapper\u001b[0m\u001b[0;34m)\u001b[0m\u001b[0;34m\u001b[0m\u001b[0;34m\u001b[0m\u001b[0m\n\u001b[1;32m     91\u001b[0m \u001b[0;34m\u001b[0m\u001b[0m\n",
      "\u001b[0;32m~/opt/anaconda3/lib/python3.7/site-packages/moviepy/Clip.py\u001b[0m in \u001b[0;36mget_frame\u001b[0;34m(self, t)\u001b[0m\n\u001b[1;32m     91\u001b[0m                 \u001b[0;32mreturn\u001b[0m \u001b[0mframe\u001b[0m\u001b[0;34m\u001b[0m\u001b[0;34m\u001b[0m\u001b[0m\n\u001b[1;32m     92\u001b[0m         \u001b[0;32melse\u001b[0m\u001b[0;34m:\u001b[0m\u001b[0;34m\u001b[0m\u001b[0;34m\u001b[0m\u001b[0m\n\u001b[0;32m---> 93\u001b[0;31m             \u001b[0;32mreturn\u001b[0m \u001b[0mself\u001b[0m\u001b[0;34m.\u001b[0m\u001b[0mmake_frame\u001b[0m\u001b[0;34m(\u001b[0m\u001b[0mt\u001b[0m\u001b[0;34m)\u001b[0m\u001b[0;34m\u001b[0m\u001b[0;34m\u001b[0m\u001b[0m\n\u001b[0m\u001b[1;32m     94\u001b[0m \u001b[0;34m\u001b[0m\u001b[0m\n\u001b[1;32m     95\u001b[0m     \u001b[0;32mdef\u001b[0m \u001b[0mfl\u001b[0m\u001b[0;34m(\u001b[0m\u001b[0mself\u001b[0m\u001b[0;34m,\u001b[0m \u001b[0mfun\u001b[0m\u001b[0;34m,\u001b[0m \u001b[0mapply_to\u001b[0m\u001b[0;34m=\u001b[0m\u001b[0;32mNone\u001b[0m\u001b[0;34m,\u001b[0m \u001b[0mkeep_duration\u001b[0m\u001b[0;34m=\u001b[0m\u001b[0;32mTrue\u001b[0m\u001b[0;34m)\u001b[0m\u001b[0;34m:\u001b[0m\u001b[0;34m\u001b[0m\u001b[0;34m\u001b[0m\u001b[0m\n",
      "\u001b[0;32m<ipython-input-39-cccd942953fa>\u001b[0m in \u001b[0;36mmake_frame\u001b[0;34m(t)\u001b[0m\n\u001b[1;32m     11\u001b[0m     \u001b[0;31m#print(t ,t2+starting_frame, 'dscsd')\u001b[0m\u001b[0;34m\u001b[0m\u001b[0;34m\u001b[0m\u001b[0;34m\u001b[0m\u001b[0m\n\u001b[1;32m     12\u001b[0m     \u001b[0mPPCF\u001b[0m\u001b[0;34m,\u001b[0m\u001b[0mxgrid\u001b[0m\u001b[0;34m,\u001b[0m\u001b[0mygrid\u001b[0m \u001b[0;34m=\u001b[0m \u001b[0mmpc\u001b[0m\u001b[0;34m.\u001b[0m\u001b[0mmy_generate_pitch_control_for_frame\u001b[0m\u001b[0;34m(\u001b[0m\u001b[0mt2\u001b[0m\u001b[0;34m+\u001b[0m\u001b[0mstarting_frame\u001b[0m\u001b[0;34m,\u001b[0m \u001b[0mtracking_home\u001b[0m\u001b[0;34m,\u001b[0m \u001b[0mtracking_away\u001b[0m\u001b[0;34m,\u001b[0m \u001b[0mparams\u001b[0m\u001b[0;34m,\u001b[0m \u001b[0mfield_dimen\u001b[0m \u001b[0;34m=\u001b[0m \u001b[0;34m(\u001b[0m\u001b[0;36m106.\u001b[0m\u001b[0;34m,\u001b[0m\u001b[0;36m68.\u001b[0m\u001b[0;34m,\u001b[0m\u001b[0;34m)\u001b[0m\u001b[0;34m,\u001b[0m \u001b[0mn_grid_cells_x\u001b[0m \u001b[0;34m=\u001b[0m \u001b[0;36m50\u001b[0m\u001b[0;34m,\u001b[0m \u001b[0mGK_numbers\u001b[0m\u001b[0;34m=\u001b[0m\u001b[0mGK_numbers\u001b[0m\u001b[0;34m)\u001b[0m\u001b[0;34m\u001b[0m\u001b[0;34m\u001b[0m\u001b[0m\n\u001b[0;32m---> 13\u001b[0;31m     \u001b[0mfig\u001b[0m\u001b[0;34m,\u001b[0m \u001b[0max\u001b[0m \u001b[0;34m=\u001b[0m \u001b[0mmviz\u001b[0m\u001b[0;34m.\u001b[0m\u001b[0mmy_plot_pitchcontrol_for_frame\u001b[0m\u001b[0;34m(\u001b[0m\u001b[0mt2\u001b[0m\u001b[0;34m+\u001b[0m\u001b[0mstarting_frame\u001b[0m\u001b[0;34m,\u001b[0m  \u001b[0mtracking_home\u001b[0m\u001b[0;34m,\u001b[0m \u001b[0mtracking_away\u001b[0m\u001b[0;34m,\u001b[0m \u001b[0mPPCF\u001b[0m\u001b[0;34m,\u001b[0m \u001b[0mxgrid\u001b[0m\u001b[0;34m,\u001b[0m \u001b[0mygrid\u001b[0m\u001b[0;34m,\u001b[0m \u001b[0mannotate\u001b[0m\u001b[0;34m=\u001b[0m\u001b[0;32mTrue\u001b[0m \u001b[0;34m)\u001b[0m\u001b[0;34m\u001b[0m\u001b[0;34m\u001b[0m\u001b[0m\n\u001b[0m\u001b[1;32m     14\u001b[0m     \u001b[0mimage\u001b[0m \u001b[0;34m=\u001b[0m \u001b[0mmplfig_to_npimage\u001b[0m\u001b[0;34m(\u001b[0m\u001b[0mfig\u001b[0m\u001b[0;34m)\u001b[0m\u001b[0;34m\u001b[0m\u001b[0;34m\u001b[0m\u001b[0m\n\u001b[1;32m     15\u001b[0m     \u001b[0;32mreturn\u001b[0m \u001b[0mimage\u001b[0m \u001b[0;31m# returns a 8-bit RGB array\u001b[0m\u001b[0;34m\u001b[0m\u001b[0;34m\u001b[0m\u001b[0m\n",
      "\u001b[0;32m~/Desktop/galvanize/LaurieOnTracking/Metrica_Viz.py\u001b[0m in \u001b[0;36mmy_plot_pitchcontrol_for_frame\u001b[0;34m(frame, tracking_home, tracking_away, ax, PPCF, alpha, include_player_velocities, annotate, field_dimen)\u001b[0m\n\u001b[1;32m    611\u001b[0m \u001b[0;31m#     fig,ax = plot_pitch(field_color='white', field_dimen = field_dimen)\u001b[0m\u001b[0;34m\u001b[0m\u001b[0;34m\u001b[0m\u001b[0;34m\u001b[0m\u001b[0m\n\u001b[1;32m    612\u001b[0m     \u001b[0;31m# switched figax from  (fig,ax) to ax and assigned to variable objs\u001b[0m\u001b[0;34m\u001b[0m\u001b[0;34m\u001b[0m\u001b[0;34m\u001b[0m\u001b[0m\n\u001b[0;32m--> 613\u001b[0;31m     \u001b[0mobjs\u001b[0m \u001b[0;34m=\u001b[0m \u001b[0mmy_plot_frame\u001b[0m\u001b[0;34m(\u001b[0m \u001b[0mtracking_home\u001b[0m\u001b[0;34m.\u001b[0m\u001b[0mloc\u001b[0m\u001b[0;34m[\u001b[0m\u001b[0mpass_frame\u001b[0m\u001b[0;34m]\u001b[0m\u001b[0;34m,\u001b[0m \u001b[0mtracking_away\u001b[0m\u001b[0;34m.\u001b[0m\u001b[0mloc\u001b[0m\u001b[0;34m[\u001b[0m\u001b[0mpass_frame\u001b[0m\u001b[0;34m]\u001b[0m\u001b[0;34m,\u001b[0m \u001b[0mfigax\u001b[0m\u001b[0;34m=\u001b[0m\u001b[0max\u001b[0m\u001b[0;34m,\u001b[0m \u001b[0mPlayerAlpha\u001b[0m\u001b[0;34m=\u001b[0m\u001b[0malpha\u001b[0m\u001b[0;34m,\u001b[0m \u001b[0minclude_player_velocities\u001b[0m\u001b[0;34m=\u001b[0m\u001b[0minclude_player_velocities\u001b[0m\u001b[0;34m,\u001b[0m \u001b[0mannotate\u001b[0m\u001b[0;34m=\u001b[0m\u001b[0mannotate\u001b[0m \u001b[0;34m)\u001b[0m\u001b[0;34m\u001b[0m\u001b[0;34m\u001b[0m\u001b[0m\n\u001b[0m\u001b[1;32m    614\u001b[0m \u001b[0;31m#     plot_events( events.loc[event_id:event_id], figax = (fig,ax), indicators = ['Marker','Arrow'], annotate=False, color= 'k', alpha=1 )\u001b[0m\u001b[0;34m\u001b[0m\u001b[0;34m\u001b[0m\u001b[0;34m\u001b[0m\u001b[0m\n\u001b[1;32m    615\u001b[0m     \u001b[0mfigobjs\u001b[0m\u001b[0;34m.\u001b[0m\u001b[0mappend\u001b[0m\u001b[0;34m(\u001b[0m\u001b[0mobjs\u001b[0m\u001b[0;34m)\u001b[0m\u001b[0;34m\u001b[0m\u001b[0;34m\u001b[0m\u001b[0m\n",
      "\u001b[0;32m~/Desktop/galvanize/LaurieOnTracking/Metrica_Viz.py\u001b[0m in \u001b[0;36mmy_plot_frame\u001b[0;34m(hometeam, awayteam, figax, team_colors, field_dimen, include_player_velocities, PlayerMarkerSize, PlayerAlpha, annotate)\u001b[0m\n\u001b[1;32m    565\u001b[0m         \u001b[0mx_columns\u001b[0m \u001b[0;34m=\u001b[0m \u001b[0;34m[\u001b[0m\u001b[0mc\u001b[0m \u001b[0;32mfor\u001b[0m \u001b[0mc\u001b[0m \u001b[0;32min\u001b[0m \u001b[0mteam\u001b[0m\u001b[0;34m.\u001b[0m\u001b[0mkeys\u001b[0m\u001b[0;34m(\u001b[0m\u001b[0;34m)\u001b[0m \u001b[0;32mif\u001b[0m \u001b[0mc\u001b[0m\u001b[0;34m[\u001b[0m\u001b[0;34m-\u001b[0m\u001b[0;36m2\u001b[0m\u001b[0;34m:\u001b[0m\u001b[0;34m]\u001b[0m\u001b[0;34m.\u001b[0m\u001b[0mlower\u001b[0m\u001b[0;34m(\u001b[0m\u001b[0;34m)\u001b[0m\u001b[0;34m==\u001b[0m\u001b[0;34m'_x'\u001b[0m \u001b[0;32mand\u001b[0m \u001b[0mc\u001b[0m\u001b[0;34m!=\u001b[0m\u001b[0;34m'ball_x'\u001b[0m\u001b[0;34m]\u001b[0m \u001b[0;31m# column header for player x positions\u001b[0m\u001b[0;34m\u001b[0m\u001b[0;34m\u001b[0m\u001b[0m\n\u001b[1;32m    566\u001b[0m         \u001b[0my_columns\u001b[0m \u001b[0;34m=\u001b[0m \u001b[0;34m[\u001b[0m\u001b[0mc\u001b[0m \u001b[0;32mfor\u001b[0m \u001b[0mc\u001b[0m \u001b[0;32min\u001b[0m \u001b[0mteam\u001b[0m\u001b[0;34m.\u001b[0m\u001b[0mkeys\u001b[0m\u001b[0;34m(\u001b[0m\u001b[0;34m)\u001b[0m \u001b[0;32mif\u001b[0m \u001b[0mc\u001b[0m\u001b[0;34m[\u001b[0m\u001b[0;34m-\u001b[0m\u001b[0;36m2\u001b[0m\u001b[0;34m:\u001b[0m\u001b[0;34m]\u001b[0m\u001b[0;34m.\u001b[0m\u001b[0mlower\u001b[0m\u001b[0;34m(\u001b[0m\u001b[0;34m)\u001b[0m\u001b[0;34m==\u001b[0m\u001b[0;34m'_y'\u001b[0m \u001b[0;32mand\u001b[0m \u001b[0mc\u001b[0m\u001b[0;34m!=\u001b[0m\u001b[0;34m'ball_y'\u001b[0m\u001b[0;34m]\u001b[0m \u001b[0;31m# column header for player y positions\u001b[0m\u001b[0;34m\u001b[0m\u001b[0;34m\u001b[0m\u001b[0m\n\u001b[0;32m--> 567\u001b[0;31m         \u001b[0max\u001b[0m\u001b[0;34m.\u001b[0m\u001b[0mplot\u001b[0m\u001b[0;34m(\u001b[0m \u001b[0mteam\u001b[0m\u001b[0;34m[\u001b[0m\u001b[0mx_columns\u001b[0m\u001b[0;34m]\u001b[0m\u001b[0;34m,\u001b[0m \u001b[0mteam\u001b[0m\u001b[0;34m[\u001b[0m\u001b[0my_columns\u001b[0m\u001b[0;34m]\u001b[0m\u001b[0;34m,\u001b[0m \u001b[0mcolor\u001b[0m\u001b[0;34m+\u001b[0m\u001b[0;34m'o'\u001b[0m\u001b[0;34m,\u001b[0m \u001b[0mMarkerSize\u001b[0m\u001b[0;34m=\u001b[0m\u001b[0mPlayerMarkerSize\u001b[0m\u001b[0;34m,\u001b[0m \u001b[0malpha\u001b[0m\u001b[0;34m=\u001b[0m\u001b[0mPlayerAlpha\u001b[0m \u001b[0;34m)\u001b[0m \u001b[0;31m# plot player positions\u001b[0m\u001b[0;34m\u001b[0m\u001b[0;34m\u001b[0m\u001b[0m\n\u001b[0m\u001b[1;32m    568\u001b[0m         \u001b[0;32mif\u001b[0m \u001b[0minclude_player_velocities\u001b[0m\u001b[0;34m:\u001b[0m\u001b[0;34m\u001b[0m\u001b[0;34m\u001b[0m\u001b[0m\n\u001b[1;32m    569\u001b[0m             \u001b[0mvx_columns\u001b[0m \u001b[0;34m=\u001b[0m \u001b[0;34m[\u001b[0m\u001b[0;34m'{}_vx'\u001b[0m\u001b[0;34m.\u001b[0m\u001b[0mformat\u001b[0m\u001b[0;34m(\u001b[0m\u001b[0mc\u001b[0m\u001b[0;34m[\u001b[0m\u001b[0;34m:\u001b[0m\u001b[0;34m-\u001b[0m\u001b[0;36m2\u001b[0m\u001b[0;34m]\u001b[0m\u001b[0;34m)\u001b[0m \u001b[0;32mfor\u001b[0m \u001b[0mc\u001b[0m \u001b[0;32min\u001b[0m \u001b[0mx_columns\u001b[0m\u001b[0;34m]\u001b[0m \u001b[0;31m# column header for player x positions\u001b[0m\u001b[0;34m\u001b[0m\u001b[0;34m\u001b[0m\u001b[0m\n",
      "\u001b[0;31mAttributeError\u001b[0m: 'numpy.ndarray' object has no attribute 'plot'"
     ]
    }
   ],
   "source": [
    "#code for pitch control video, change the starting_frame and end_frame as needed\n",
    "#here the last goal is accessed\n",
    "import moviepy.editor as mpy\n",
    "from moviepy.video.io.bindings import mplfig_to_npimage\n",
    "import math\n",
    "starting_frame = 3424\n",
    "end_frame = 3548\n",
    "f = 20\n",
    "def make_frame(t):\n",
    "    t2 = int(math.ceil(t*f+0.0001)-1)\n",
    "    #print(t ,t2+starting_frame, 'dscsd')\n",
    "    PPCF,xgrid,ygrid = mpc.my_generate_pitch_control_for_frame(t2+starting_frame, tracking_home, tracking_away, params, field_dimen = (106.,68.,), n_grid_cells_x = 50, GK_numbers=GK_numbers)\n",
    "    fig, ax = mviz.my_plot_pitchcontrol_for_frame(t2+starting_frame,  tracking_home, tracking_away, PPCF, xgrid, ygrid, annotate=True ) \n",
    "    image = mplfig_to_npimage(fig)\n",
    "    return image # returns a 8-bit RGB array\n",
    "\n",
    "clip = mpy.VideoClip(make_frame, duration=((end_frame-starting_frame)/f)).set_fps(f) # 2 seconds\n",
    "clip.ipython_display()\n",
    "clip.write_videofile(\"video.mp4\")#video file is saved"
   ]
  },
  {
   "cell_type": "code",
   "execution_count": null,
   "metadata": {},
   "outputs": [],
   "source": [
    "PPCF,xgrid,ygrid = mpc.generate_pitch_control_for_frameliv(5, tracking_homenew, tracking_awaynew, params, field_dimen = (106.,68.,), n_grid_cells_x = 50)\n",
    "locx = PPCF.copy()\n",
    "zero = PPCF.copy()\n",
    "\n",
    "for k in range(0, 50):\n",
    "    for i in range(0,32):\n",
    "        locx[i][k] = xgrid[k]\n",
    "        zero[i][k] = 0"
   ]
  },
  {
   "cell_type": "code",
   "execution_count": null,
   "metadata": {},
   "outputs": [],
   "source": [
    "#to plot pitch control behind defence for a particular 20 frames starting from 1, with jump of 5 frames each time\n",
    "iterations = 20\n",
    "interval = 5\n",
    "starting_frame = 1\n",
    "for k in range(0, 50):\n",
    "    for i in range(0,32):\n",
    "        zero[i][k] = 0\n",
    "liverpool_pitch_control_behind_defence(iterations,interval,starting_frame,tracking_homenew, tracking_awaynew, params)\n",
    "plot_pitch_control(zero)"
   ]
  }
 ],
 "metadata": {
  "kernelspec": {
   "display_name": "Python 3",
   "language": "python",
   "name": "python3"
  },
  "language_info": {
   "codemirror_mode": {
    "name": "ipython",
    "version": 3
   },
   "file_extension": ".py",
   "mimetype": "text/x-python",
   "name": "python",
   "nbconvert_exporter": "python",
   "pygments_lexer": "ipython3",
   "version": "3.7.6"
  }
 },
 "nbformat": 4,
 "nbformat_minor": 4
}
